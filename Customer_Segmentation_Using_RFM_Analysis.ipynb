{
 "cells": [
  {
   "cell_type": "code",
   "execution_count": 0,
   "metadata": {
    "application/vnd.databricks.v1+cell": {
     "cellMetadata": {
      "byteLimit": 2048000,
      "rowLimit": 10000
     },
     "inputWidgets": {},
     "nuid": "b4793b4b-dd47-45a0-a49d-c63ece8d1654",
     "showTitle": false,
     "title": ""
    }
   },
   "outputs": [],
   "source": [
    "keys = spark.read.csv('/FileStore/tables/Shruti_project_accessKeys.csv', inferSchema=True, header=True)\n",
    "Access_Id = keys.first()[0]\n",
    "Secret_Id = keys.first()[1]\n",
    "\n",
    "access_key = Access_Id\n",
    "secret_key = Secret_Id\n",
    "sc._jsc.hadoopConfiguration().set(\"fs.s3a.access.key\", access_key)\n",
    "sc._jsc.hadoopConfiguration().set(\"fs.s3a.secret.key\", secret_key)\n",
    "\n",
    "aws_region = \"ap-south-1\"\n",
    "sc._jsc.hadoopConfiguration().set(\"fs.s3a.endpoint\", \"s3.\" + aws_region + \".amazonaws.com\")"
   ]
  },
  {
   "cell_type": "code",
   "execution_count": 0,
   "metadata": {
    "application/vnd.databricks.v1+cell": {
     "cellMetadata": {
      "byteLimit": 2048000,
      "rowLimit": 10000
     },
     "inputWidgets": {},
     "nuid": "f078ba8a-a64d-4c4a-87ce-cb98904f8569",
     "showTitle": false,
     "title": ""
    }
   },
   "outputs": [],
   "source": [
    "from pyspark.sql.functions import col\n",
    "from pyspark.sql.types import StructType, StructField, IntegerType, StringType, DoubleType, TimestampType\n",
    "\n",
    "schema = StructType([\n",
    "    StructField('InvoiceNo', IntegerType(), True),\n",
    "    StructField('StockCode', StringType(), True),\n",
    "    StructField('Description', StringType(), True),\n",
    "    StructField('Quantity', IntegerType(), True),\n",
    "    StructField('InvoiceDate', StringType(), True),\n",
    "    StructField('UnitPrice', DoubleType(), True),\n",
    "    StructField('CustomerID', StringType(), True),\n",
    "    StructField('Country', StringType(), True),\n",
    "])"
   ]
  },
  {
   "cell_type": "code",
   "execution_count": 0,
   "metadata": {
    "application/vnd.databricks.v1+cell": {
     "cellMetadata": {
      "byteLimit": 2048000,
      "rowLimit": 10000
     },
     "inputWidgets": {},
     "nuid": "c398cc4b-dfbb-4feb-b58f-f41b776e9001",
     "showTitle": false,
     "title": ""
    }
   },
   "outputs": [
    {
     "output_type": "stream",
     "name": "stdout",
     "output_type": "stream",
     "text": [
      "10000000 9\n+---+---------+---------+--------------------+------------------+------------+------------------+------------------+--------------+\n|_c0|InvoiceNo|StockCode|         Description|          Quantity| InvoiceDate|         UnitPrice|        CustomerID|       Country|\n+---+---------+---------+--------------------+------------------+------------+------------------+------------------+--------------+\n|  0|   536365|   85123A|WHITE HANGING HEA...| 9.540195124753016|1/12/10 8:26| 4.046632237476933|17847.175914292013|United Kingdom|\n|  1|   536365|    71053| WHITE METAL LANTERN| 4.673553105780806|1/12/10 8:26| 4.765596152307104| 17876.63145571205|United Kingdom|\n|  2|   536365|   84406B|CREAM CUPID HEART...| 6.727697829123555|1/12/10 8:26| 2.027311506960725|17843.254906730202|United Kingdom|\n|  3|   536365|   84029G|KNITTED UNION FLA...|3.8580927863913663|1/12/10 8:26|3.6076956140842515| 17839.88311992239|United Kingdom|\n|  4|   536365|   84029E|RED WOOLLY HOTTIE...| 3.748603158010393|1/12/10 8:26| 3.078331036738149| 17872.58763701275|United Kingdom|\n+---+---------+---------+--------------------+------------------+------------+------------------+------------------+--------------+\nonly showing top 5 rows\n\n"
     ]
    }
   ],
   "source": [
    "df = spark.read.csv('s3://dbda-project/augmented_dataset.csv', inferSchema=True , header=True)\n",
    "print(df.count(), len(df.columns))\n",
    "df.show(5)"
   ]
  },
  {
   "cell_type": "markdown",
   "metadata": {
    "application/vnd.databricks.v1+cell": {
     "cellMetadata": {
      "byteLimit": 2048000,
      "rowLimit": 10000
     },
     "inputWidgets": {},
     "nuid": "a965e449-2f31-42dc-b5ef-aeb5011eaac2",
     "showTitle": false,
     "title": ""
    }
   },
   "source": [
    "# EDA (Exploratory Data Analysis)"
   ]
  },
  {
   "cell_type": "code",
   "execution_count": 0,
   "metadata": {
    "application/vnd.databricks.v1+cell": {
     "cellMetadata": {
      "byteLimit": 2048000,
      "rowLimit": 10000
     },
     "inputWidgets": {},
     "nuid": "76e46153-beea-4705-a317-f7658e6ad745",
     "showTitle": false,
     "title": ""
    }
   },
   "outputs": [
    {
     "output_type": "display_data",
     "data": {
      "application/vnd.databricks.v1+bamboolib_hint": "{\"pd.DataFrames\": [], \"version\": \"0.0.1\"}",
      "text/plain": []
     },
     "metadata": {},
     "output_type": "display_data"
    }
   ],
   "source": [
    "import pandas as pd"
   ]
  },
  {
   "cell_type": "code",
   "execution_count": 0,
   "metadata": {
    "application/vnd.databricks.v1+cell": {
     "cellMetadata": {
      "byteLimit": 2048000,
      "rowLimit": 10000
     },
     "inputWidgets": {},
     "nuid": "bffb6572-b4cb-482b-a4d3-971e99e53749",
     "showTitle": false,
     "title": ""
    }
   },
   "outputs": [
    {
     "output_type": "display_data",
     "data": {
      "text/html": [
       "<div>\n",
       "<style scoped>\n",
       "    .dataframe tbody tr th:only-of-type {\n",
       "        vertical-align: middle;\n",
       "    }\n",
       "\n",
       "    .dataframe tbody tr th {\n",
       "        vertical-align: top;\n",
       "    }\n",
       "\n",
       "    .dataframe thead th {\n",
       "        text-align: right;\n",
       "    }\n",
       "</style>\n",
       "<table border=\"1\" class=\"dataframe\">\n",
       "  <thead>\n",
       "    <tr style=\"text-align: right;\">\n",
       "      <th></th>\n",
       "      <th>_c0</th>\n",
       "      <th>InvoiceNo</th>\n",
       "      <th>StockCode</th>\n",
       "      <th>Description</th>\n",
       "      <th>Quantity</th>\n",
       "      <th>InvoiceDate</th>\n",
       "      <th>UnitPrice</th>\n",
       "      <th>CustomerID</th>\n",
       "      <th>Country</th>\n",
       "    </tr>\n",
       "  </thead>\n",
       "  <tbody>\n",
       "    <tr>\n",
       "      <th>0</th>\n",
       "      <td>0</td>\n",
       "      <td>536365</td>\n",
       "      <td>85123A</td>\n",
       "      <td>WHITE HANGING HEART T-LIGHT HOLDER</td>\n",
       "      <td>9.540195</td>\n",
       "      <td>1/12/10 8:26</td>\n",
       "      <td>4.046632</td>\n",
       "      <td>17847.175914</td>\n",
       "      <td>United Kingdom</td>\n",
       "    </tr>\n",
       "    <tr>\n",
       "      <th>1</th>\n",
       "      <td>1</td>\n",
       "      <td>536365</td>\n",
       "      <td>71053</td>\n",
       "      <td>WHITE METAL LANTERN</td>\n",
       "      <td>4.673553</td>\n",
       "      <td>1/12/10 8:26</td>\n",
       "      <td>4.765596</td>\n",
       "      <td>17876.631456</td>\n",
       "      <td>United Kingdom</td>\n",
       "    </tr>\n",
       "    <tr>\n",
       "      <th>2</th>\n",
       "      <td>2</td>\n",
       "      <td>536365</td>\n",
       "      <td>84406B</td>\n",
       "      <td>CREAM CUPID HEARTS COAT HANGER</td>\n",
       "      <td>6.727698</td>\n",
       "      <td>1/12/10 8:26</td>\n",
       "      <td>2.027312</td>\n",
       "      <td>17843.254907</td>\n",
       "      <td>United Kingdom</td>\n",
       "    </tr>\n",
       "    <tr>\n",
       "      <th>3</th>\n",
       "      <td>3</td>\n",
       "      <td>536365</td>\n",
       "      <td>84029G</td>\n",
       "      <td>KNITTED UNION FLAG HOT WATER BOTTLE</td>\n",
       "      <td>3.858093</td>\n",
       "      <td>1/12/10 8:26</td>\n",
       "      <td>3.607696</td>\n",
       "      <td>17839.883120</td>\n",
       "      <td>United Kingdom</td>\n",
       "    </tr>\n",
       "    <tr>\n",
       "      <th>4</th>\n",
       "      <td>4</td>\n",
       "      <td>536365</td>\n",
       "      <td>84029E</td>\n",
       "      <td>RED WOOLLY HOTTIE WHITE HEART.</td>\n",
       "      <td>3.748603</td>\n",
       "      <td>1/12/10 8:26</td>\n",
       "      <td>3.078331</td>\n",
       "      <td>17872.587637</td>\n",
       "      <td>United Kingdom</td>\n",
       "    </tr>\n",
       "  </tbody>\n",
       "</table>\n",
       "</div>"
      ]
     },
     "metadata": {
      "application/vnd.databricks.v1+output": {
       "addedWidgets": {},
       "arguments": {},
       "data": "<div>\n<style scoped>\n    .dataframe tbody tr th:only-of-type {\n        vertical-align: middle;\n    }\n\n    .dataframe tbody tr th {\n        vertical-align: top;\n    }\n\n    .dataframe thead th {\n        text-align: right;\n    }\n</style>\n<table border=\"1\" class=\"dataframe\">\n  <thead>\n    <tr style=\"text-align: right;\">\n      <th></th>\n      <th>_c0</th>\n      <th>InvoiceNo</th>\n      <th>StockCode</th>\n      <th>Description</th>\n      <th>Quantity</th>\n      <th>InvoiceDate</th>\n      <th>UnitPrice</th>\n      <th>CustomerID</th>\n      <th>Country</th>\n    </tr>\n  </thead>\n  <tbody>\n    <tr>\n      <th>0</th>\n      <td>0</td>\n      <td>536365</td>\n      <td>85123A</td>\n      <td>WHITE HANGING HEART T-LIGHT HOLDER</td>\n      <td>9.540195</td>\n      <td>1/12/10 8:26</td>\n      <td>4.046632</td>\n      <td>17847.175914</td>\n      <td>United Kingdom</td>\n    </tr>\n    <tr>\n      <th>1</th>\n      <td>1</td>\n      <td>536365</td>\n      <td>71053</td>\n      <td>WHITE METAL LANTERN</td>\n      <td>4.673553</td>\n      <td>1/12/10 8:26</td>\n      <td>4.765596</td>\n      <td>17876.631456</td>\n      <td>United Kingdom</td>\n    </tr>\n    <tr>\n      <th>2</th>\n      <td>2</td>\n      <td>536365</td>\n      <td>84406B</td>\n      <td>CREAM CUPID HEARTS COAT HANGER</td>\n      <td>6.727698</td>\n      <td>1/12/10 8:26</td>\n      <td>2.027312</td>\n      <td>17843.254907</td>\n      <td>United Kingdom</td>\n    </tr>\n    <tr>\n      <th>3</th>\n      <td>3</td>\n      <td>536365</td>\n      <td>84029G</td>\n      <td>KNITTED UNION FLAG HOT WATER BOTTLE</td>\n      <td>3.858093</td>\n      <td>1/12/10 8:26</td>\n      <td>3.607696</td>\n      <td>17839.883120</td>\n      <td>United Kingdom</td>\n    </tr>\n    <tr>\n      <th>4</th>\n      <td>4</td>\n      <td>536365</td>\n      <td>84029E</td>\n      <td>RED WOOLLY HOTTIE WHITE HEART.</td>\n      <td>3.748603</td>\n      <td>1/12/10 8:26</td>\n      <td>3.078331</td>\n      <td>17872.587637</td>\n      <td>United Kingdom</td>\n    </tr>\n  </tbody>\n</table>\n</div>",
       "datasetInfos": [],
       "metadata": {},
       "removedWidgets": [],
       "textData": null,
       "type": "htmlSandbox"
      }
     },
     "output_type": "display_data"
    }
   ],
   "source": [
    "pdf = df.toPandas()\n",
    "pdf.head()"
   ]
  },
  {
   "cell_type": "code",
   "execution_count": 0,
   "metadata": {
    "application/vnd.databricks.v1+cell": {
     "cellMetadata": {
      "byteLimit": 2048000,
      "rowLimit": 10000
     },
     "inputWidgets": {},
     "nuid": "c5714bb2-6f81-44a1-bcd3-28aaa4eb620a",
     "showTitle": false,
     "title": ""
    }
   },
   "outputs": [
    {
     "output_type": "stream",
     "name": "stdout",
     "output_type": "stream",
     "text": [
      "<class 'pandas.core.frame.DataFrame'>\nRangeIndex: 10000000 entries, 0 to 9999999\nData columns (total 9 columns):\n #   Column       Dtype  \n---  ------       -----  \n 0   _c0          int32  \n 1   InvoiceNo    object \n 2   StockCode    object \n 3   Description  object \n 4   Quantity     float64\n 5   InvoiceDate  object \n 6   UnitPrice    float64\n 7   CustomerID   float64\n 8   Country      object \ndtypes: float64(3), int32(1), object(5)\nmemory usage: 648.5+ MB\n"
     ]
    }
   ],
   "source": [
    "pdf.info()"
   ]
  },
  {
   "cell_type": "code",
   "execution_count": 0,
   "metadata": {
    "application/vnd.databricks.v1+cell": {
     "cellMetadata": {
      "byteLimit": 2048000,
      "rowLimit": 10000
     },
     "inputWidgets": {},
     "nuid": "143a065a-ec7d-443a-979d-468672084a5e",
     "showTitle": false,
     "title": ""
    }
   },
   "outputs": [
    {
     "output_type": "display_data",
     "data": {
      "text/html": [
       "<div>\n",
       "<style scoped>\n",
       "    .dataframe tbody tr th:only-of-type {\n",
       "        vertical-align: middle;\n",
       "    }\n",
       "\n",
       "    .dataframe tbody tr th {\n",
       "        vertical-align: top;\n",
       "    }\n",
       "\n",
       "    .dataframe thead th {\n",
       "        text-align: right;\n",
       "    }\n",
       "</style>\n",
       "<table border=\"1\" class=\"dataframe\">\n",
       "  <thead>\n",
       "    <tr style=\"text-align: right;\">\n",
       "      <th></th>\n",
       "      <th>_c0</th>\n",
       "      <th>InvoiceNo</th>\n",
       "      <th>StockCode</th>\n",
       "      <th>Description</th>\n",
       "      <th>Quantity</th>\n",
       "      <th>InvoiceDate</th>\n",
       "      <th>UnitPrice</th>\n",
       "      <th>CustomerID</th>\n",
       "      <th>Country</th>\n",
       "    </tr>\n",
       "  </thead>\n",
       "  <tbody>\n",
       "    <tr>\n",
       "      <th>9999995</th>\n",
       "      <td>9999995</td>\n",
       "      <td>549953</td>\n",
       "      <td>20724</td>\n",
       "      <td>RED RETROSPOT CHARLOTTE BAG</td>\n",
       "      <td>11.819310</td>\n",
       "      <td>4/13/2011 13:15</td>\n",
       "      <td>-0.848686</td>\n",
       "      <td>12773.183642</td>\n",
       "      <td>Portugal</td>\n",
       "    </tr>\n",
       "    <tr>\n",
       "      <th>9999996</th>\n",
       "      <td>9999996</td>\n",
       "      <td>569374</td>\n",
       "      <td>46776D</td>\n",
       "      <td>WOVEN SUNSET CUSHION COVER</td>\n",
       "      <td>4.356914</td>\n",
       "      <td>3/10/11 16:14</td>\n",
       "      <td>3.929372</td>\n",
       "      <td>NaN</td>\n",
       "      <td>United Kingdom</td>\n",
       "    </tr>\n",
       "    <tr>\n",
       "      <th>9999997</th>\n",
       "      <td>9999997</td>\n",
       "      <td>552869</td>\n",
       "      <td>22620</td>\n",
       "      <td>4 TRADITIONAL SPINNING TOPS</td>\n",
       "      <td>13.875513</td>\n",
       "      <td>12/5/11 8:41</td>\n",
       "      <td>0.020747</td>\n",
       "      <td>15135.405590</td>\n",
       "      <td>United Kingdom</td>\n",
       "    </tr>\n",
       "    <tr>\n",
       "      <th>9999998</th>\n",
       "      <td>9999998</td>\n",
       "      <td>576654</td>\n",
       "      <td>85014B</td>\n",
       "      <td>RED RETROSPOT UMBRELLA</td>\n",
       "      <td>3.792852</td>\n",
       "      <td>11/16/2011 10:55</td>\n",
       "      <td>6.962216</td>\n",
       "      <td>15595.531584</td>\n",
       "      <td>United Kingdom</td>\n",
       "    </tr>\n",
       "    <tr>\n",
       "      <th>9999999</th>\n",
       "      <td>9999999</td>\n",
       "      <td>566400</td>\n",
       "      <td>22581</td>\n",
       "      <td>WOOD STOCKING CHRISTMAS SCANDISPOT</td>\n",
       "      <td>14.191953</td>\n",
       "      <td>12/9/11 13:16</td>\n",
       "      <td>0.425229</td>\n",
       "      <td>17103.754752</td>\n",
       "      <td>United Kingdom</td>\n",
       "    </tr>\n",
       "  </tbody>\n",
       "</table>\n",
       "</div>"
      ]
     },
     "metadata": {
      "application/vnd.databricks.v1+output": {
       "addedWidgets": {},
       "arguments": {},
       "data": "<div>\n<style scoped>\n    .dataframe tbody tr th:only-of-type {\n        vertical-align: middle;\n    }\n\n    .dataframe tbody tr th {\n        vertical-align: top;\n    }\n\n    .dataframe thead th {\n        text-align: right;\n    }\n</style>\n<table border=\"1\" class=\"dataframe\">\n  <thead>\n    <tr style=\"text-align: right;\">\n      <th></th>\n      <th>_c0</th>\n      <th>InvoiceNo</th>\n      <th>StockCode</th>\n      <th>Description</th>\n      <th>Quantity</th>\n      <th>InvoiceDate</th>\n      <th>UnitPrice</th>\n      <th>CustomerID</th>\n      <th>Country</th>\n    </tr>\n  </thead>\n  <tbody>\n    <tr>\n      <th>9999995</th>\n      <td>9999995</td>\n      <td>549953</td>\n      <td>20724</td>\n      <td>RED RETROSPOT CHARLOTTE BAG</td>\n      <td>11.819310</td>\n      <td>4/13/2011 13:15</td>\n      <td>-0.848686</td>\n      <td>12773.183642</td>\n      <td>Portugal</td>\n    </tr>\n    <tr>\n      <th>9999996</th>\n      <td>9999996</td>\n      <td>569374</td>\n      <td>46776D</td>\n      <td>WOVEN SUNSET CUSHION COVER</td>\n      <td>4.356914</td>\n      <td>3/10/11 16:14</td>\n      <td>3.929372</td>\n      <td>NaN</td>\n      <td>United Kingdom</td>\n    </tr>\n    <tr>\n      <th>9999997</th>\n      <td>9999997</td>\n      <td>552869</td>\n      <td>22620</td>\n      <td>4 TRADITIONAL SPINNING TOPS</td>\n      <td>13.875513</td>\n      <td>12/5/11 8:41</td>\n      <td>0.020747</td>\n      <td>15135.405590</td>\n      <td>United Kingdom</td>\n    </tr>\n    <tr>\n      <th>9999998</th>\n      <td>9999998</td>\n      <td>576654</td>\n      <td>85014B</td>\n      <td>RED RETROSPOT UMBRELLA</td>\n      <td>3.792852</td>\n      <td>11/16/2011 10:55</td>\n      <td>6.962216</td>\n      <td>15595.531584</td>\n      <td>United Kingdom</td>\n    </tr>\n    <tr>\n      <th>9999999</th>\n      <td>9999999</td>\n      <td>566400</td>\n      <td>22581</td>\n      <td>WOOD STOCKING CHRISTMAS SCANDISPOT</td>\n      <td>14.191953</td>\n      <td>12/9/11 13:16</td>\n      <td>0.425229</td>\n      <td>17103.754752</td>\n      <td>United Kingdom</td>\n    </tr>\n  </tbody>\n</table>\n</div>",
       "datasetInfos": [],
       "metadata": {},
       "removedWidgets": [],
       "textData": null,
       "type": "htmlSandbox"
      }
     },
     "output_type": "display_data"
    }
   ],
   "source": [
    "pdf.tail()"
   ]
  },
  {
   "cell_type": "code",
   "execution_count": 0,
   "metadata": {
    "application/vnd.databricks.v1+cell": {
     "cellMetadata": {
      "byteLimit": 2048000,
      "rowLimit": 10000
     },
     "inputWidgets": {},
     "nuid": "031e8912-360b-4022-a8ad-abb86034fa86",
     "showTitle": false,
     "title": ""
    }
   },
   "outputs": [
    {
     "output_type": "display_data",
     "data": {
      "text/html": [
       "<div>\n",
       "<style scoped>\n",
       "    .dataframe tbody tr th:only-of-type {\n",
       "        vertical-align: middle;\n",
       "    }\n",
       "\n",
       "    .dataframe tbody tr th {\n",
       "        vertical-align: top;\n",
       "    }\n",
       "\n",
       "    .dataframe thead th {\n",
       "        text-align: right;\n",
       "    }\n",
       "</style>\n",
       "<table border=\"1\" class=\"dataframe\">\n",
       "  <thead>\n",
       "    <tr style=\"text-align: right;\">\n",
       "      <th></th>\n",
       "      <th>_c0</th>\n",
       "      <th>InvoiceNo</th>\n",
       "      <th>StockCode</th>\n",
       "      <th>Description</th>\n",
       "      <th>Quantity</th>\n",
       "      <th>InvoiceDate</th>\n",
       "      <th>UnitPrice</th>\n",
       "      <th>CustomerID</th>\n",
       "      <th>Country</th>\n",
       "    </tr>\n",
       "  </thead>\n",
       "  <tbody>\n",
       "    <tr>\n",
       "      <th>5504957</th>\n",
       "      <td>5504957</td>\n",
       "      <td>543530</td>\n",
       "      <td>22327</td>\n",
       "      <td>ROUND SNACK BOXES SET OF 4 SKULLS</td>\n",
       "      <td>0.558211</td>\n",
       "      <td>9/2/11 12:46</td>\n",
       "      <td>5.343690</td>\n",
       "      <td>NaN</td>\n",
       "      <td>United Kingdom</td>\n",
       "    </tr>\n",
       "    <tr>\n",
       "      <th>6298476</th>\n",
       "      <td>6298476</td>\n",
       "      <td>566446</td>\n",
       "      <td>23339</td>\n",
       "      <td>EGG FRYING PAN BLUE</td>\n",
       "      <td>0.114472</td>\n",
       "      <td>12/9/11 15:40</td>\n",
       "      <td>5.961231</td>\n",
       "      <td>NaN</td>\n",
       "      <td>United Kingdom</td>\n",
       "    </tr>\n",
       "    <tr>\n",
       "      <th>5805185</th>\n",
       "      <td>5805185</td>\n",
       "      <td>570225</td>\n",
       "      <td>23081</td>\n",
       "      <td>GREEN METAL BOX ARMY SUPPLIES</td>\n",
       "      <td>0.310520</td>\n",
       "      <td>9/10/11 13:15</td>\n",
       "      <td>7.196661</td>\n",
       "      <td>16596.716634</td>\n",
       "      <td>United Kingdom</td>\n",
       "    </tr>\n",
       "    <tr>\n",
       "      <th>9354664</th>\n",
       "      <td>9354664</td>\n",
       "      <td>548560</td>\n",
       "      <td>21535</td>\n",
       "      <td>RED RETROSPOT SMALL MILK JUG</td>\n",
       "      <td>1.200992</td>\n",
       "      <td>1/4/11 10:10</td>\n",
       "      <td>2.244211</td>\n",
       "      <td>13473.787091</td>\n",
       "      <td>United Kingdom</td>\n",
       "    </tr>\n",
       "    <tr>\n",
       "      <th>7449599</th>\n",
       "      <td>7449599</td>\n",
       "      <td>571691</td>\n",
       "      <td>23082</td>\n",
       "      <td>SET 6 PAPER TABLE LANTERN HEARTS</td>\n",
       "      <td>6.260969</td>\n",
       "      <td>10/18/2011 14:34</td>\n",
       "      <td>4.365718</td>\n",
       "      <td>13877.268251</td>\n",
       "      <td>United Kingdom</td>\n",
       "    </tr>\n",
       "    <tr>\n",
       "      <th>1945911</th>\n",
       "      <td>1945911</td>\n",
       "      <td>564972</td>\n",
       "      <td>23375</td>\n",
       "      <td>50'S CHRISTMAS PAPER GIFT BAG</td>\n",
       "      <td>10.785281</td>\n",
       "      <td>8/31/2011 15:30</td>\n",
       "      <td>1.349141</td>\n",
       "      <td>12634.767995</td>\n",
       "      <td>Germany</td>\n",
       "    </tr>\n",
       "    <tr>\n",
       "      <th>2239732</th>\n",
       "      <td>2239732</td>\n",
       "      <td>542231</td>\n",
       "      <td>22720</td>\n",
       "      <td>SET OF 3 CAKE TINS PANTRY DESIGN</td>\n",
       "      <td>7.510238</td>\n",
       "      <td>1/26/2011 13:40</td>\n",
       "      <td>5.686568</td>\n",
       "      <td>16709.793601</td>\n",
       "      <td>United Kingdom</td>\n",
       "    </tr>\n",
       "    <tr>\n",
       "      <th>4132211</th>\n",
       "      <td>4132211</td>\n",
       "      <td>C566565</td>\n",
       "      <td>CRUK</td>\n",
       "      <td>CRUK Commission</td>\n",
       "      <td>-1.974589</td>\n",
       "      <td>9/13/2011 12:32</td>\n",
       "      <td>53.005802</td>\n",
       "      <td>14103.676582</td>\n",
       "      <td>United Kingdom</td>\n",
       "    </tr>\n",
       "    <tr>\n",
       "      <th>676467</th>\n",
       "      <td>676467</td>\n",
       "      <td>C547853</td>\n",
       "      <td>21041</td>\n",
       "      <td>RED RETROSPOT OVEN GLOVE DOUBLE</td>\n",
       "      <td>-5.024181</td>\n",
       "      <td>3/27/2011 12:11</td>\n",
       "      <td>3.074009</td>\n",
       "      <td>15581.801228</td>\n",
       "      <td>United Kingdom</td>\n",
       "    </tr>\n",
       "    <tr>\n",
       "      <th>8977624</th>\n",
       "      <td>8977624</td>\n",
       "      <td>563903</td>\n",
       "      <td>21975</td>\n",
       "      <td>PACK OF 60 DINOSAUR CAKE CASES</td>\n",
       "      <td>4.306469</td>\n",
       "      <td>8/21/2011 11:15</td>\n",
       "      <td>0.779298</td>\n",
       "      <td>17058.763054</td>\n",
       "      <td>United Kingdom</td>\n",
       "    </tr>\n",
       "  </tbody>\n",
       "</table>\n",
       "</div>"
      ]
     },
     "metadata": {
      "application/vnd.databricks.v1+output": {
       "addedWidgets": {},
       "arguments": {},
       "data": "<div>\n<style scoped>\n    .dataframe tbody tr th:only-of-type {\n        vertical-align: middle;\n    }\n\n    .dataframe tbody tr th {\n        vertical-align: top;\n    }\n\n    .dataframe thead th {\n        text-align: right;\n    }\n</style>\n<table border=\"1\" class=\"dataframe\">\n  <thead>\n    <tr style=\"text-align: right;\">\n      <th></th>\n      <th>_c0</th>\n      <th>InvoiceNo</th>\n      <th>StockCode</th>\n      <th>Description</th>\n      <th>Quantity</th>\n      <th>InvoiceDate</th>\n      <th>UnitPrice</th>\n      <th>CustomerID</th>\n      <th>Country</th>\n    </tr>\n  </thead>\n  <tbody>\n    <tr>\n      <th>5504957</th>\n      <td>5504957</td>\n      <td>543530</td>\n      <td>22327</td>\n      <td>ROUND SNACK BOXES SET OF 4 SKULLS</td>\n      <td>0.558211</td>\n      <td>9/2/11 12:46</td>\n      <td>5.343690</td>\n      <td>NaN</td>\n      <td>United Kingdom</td>\n    </tr>\n    <tr>\n      <th>6298476</th>\n      <td>6298476</td>\n      <td>566446</td>\n      <td>23339</td>\n      <td>EGG FRYING PAN BLUE</td>\n      <td>0.114472</td>\n      <td>12/9/11 15:40</td>\n      <td>5.961231</td>\n      <td>NaN</td>\n      <td>United Kingdom</td>\n    </tr>\n    <tr>\n      <th>5805185</th>\n      <td>5805185</td>\n      <td>570225</td>\n      <td>23081</td>\n      <td>GREEN METAL BOX ARMY SUPPLIES</td>\n      <td>0.310520</td>\n      <td>9/10/11 13:15</td>\n      <td>7.196661</td>\n      <td>16596.716634</td>\n      <td>United Kingdom</td>\n    </tr>\n    <tr>\n      <th>9354664</th>\n      <td>9354664</td>\n      <td>548560</td>\n      <td>21535</td>\n      <td>RED RETROSPOT SMALL MILK JUG</td>\n      <td>1.200992</td>\n      <td>1/4/11 10:10</td>\n      <td>2.244211</td>\n      <td>13473.787091</td>\n      <td>United Kingdom</td>\n    </tr>\n    <tr>\n      <th>7449599</th>\n      <td>7449599</td>\n      <td>571691</td>\n      <td>23082</td>\n      <td>SET 6 PAPER TABLE LANTERN HEARTS</td>\n      <td>6.260969</td>\n      <td>10/18/2011 14:34</td>\n      <td>4.365718</td>\n      <td>13877.268251</td>\n      <td>United Kingdom</td>\n    </tr>\n    <tr>\n      <th>1945911</th>\n      <td>1945911</td>\n      <td>564972</td>\n      <td>23375</td>\n      <td>50'S CHRISTMAS PAPER GIFT BAG</td>\n      <td>10.785281</td>\n      <td>8/31/2011 15:30</td>\n      <td>1.349141</td>\n      <td>12634.767995</td>\n      <td>Germany</td>\n    </tr>\n    <tr>\n      <th>2239732</th>\n      <td>2239732</td>\n      <td>542231</td>\n      <td>22720</td>\n      <td>SET OF 3 CAKE TINS PANTRY DESIGN</td>\n      <td>7.510238</td>\n      <td>1/26/2011 13:40</td>\n      <td>5.686568</td>\n      <td>16709.793601</td>\n      <td>United Kingdom</td>\n    </tr>\n    <tr>\n      <th>4132211</th>\n      <td>4132211</td>\n      <td>C566565</td>\n      <td>CRUK</td>\n      <td>CRUK Commission</td>\n      <td>-1.974589</td>\n      <td>9/13/2011 12:32</td>\n      <td>53.005802</td>\n      <td>14103.676582</td>\n      <td>United Kingdom</td>\n    </tr>\n    <tr>\n      <th>676467</th>\n      <td>676467</td>\n      <td>C547853</td>\n      <td>21041</td>\n      <td>RED RETROSPOT OVEN GLOVE DOUBLE</td>\n      <td>-5.024181</td>\n      <td>3/27/2011 12:11</td>\n      <td>3.074009</td>\n      <td>15581.801228</td>\n      <td>United Kingdom</td>\n    </tr>\n    <tr>\n      <th>8977624</th>\n      <td>8977624</td>\n      <td>563903</td>\n      <td>21975</td>\n      <td>PACK OF 60 DINOSAUR CAKE CASES</td>\n      <td>4.306469</td>\n      <td>8/21/2011 11:15</td>\n      <td>0.779298</td>\n      <td>17058.763054</td>\n      <td>United Kingdom</td>\n    </tr>\n  </tbody>\n</table>\n</div>",
       "datasetInfos": [],
       "metadata": {},
       "removedWidgets": [],
       "textData": null,
       "type": "htmlSandbox"
      }
     },
     "output_type": "display_data"
    }
   ],
   "source": [
    "pdf.sample(10)"
   ]
  },
  {
   "cell_type": "code",
   "execution_count": 0,
   "metadata": {
    "application/vnd.databricks.v1+cell": {
     "cellMetadata": {
      "byteLimit": 2048000,
      "rowLimit": 10000
     },
     "inputWidgets": {},
     "nuid": "fc56bc78-f0cb-478c-bb0f-d04934a0f9f1",
     "showTitle": false,
     "title": ""
    }
   },
   "outputs": [
    {
     "output_type": "stream",
     "name": "stdout",
     "output_type": "stream",
     "text": [
      "9143402 9\n+---+---------+---------+--------------------+------------------+------------+------------------+------------------+--------------+\n|_c0|InvoiceNo|StockCode|         Description|          Quantity| InvoiceDate|         UnitPrice|        CustomerID|       Country|\n+---+---------+---------+--------------------+------------------+------------+------------------+------------------+--------------+\n|  0|   536365|   85123A|WHITE HANGING HEA...| 9.540195124753016|1/12/10 8:26| 4.046632237476933|17847.175914292013|United Kingdom|\n|  1|   536365|    71053| WHITE METAL LANTERN| 4.673553105780806|1/12/10 8:26| 4.765596152307104| 17876.63145571205|United Kingdom|\n|  2|   536365|   84406B|CREAM CUPID HEART...| 6.727697829123555|1/12/10 8:26| 2.027311506960725|17843.254906730202|United Kingdom|\n|  3|   536365|   84029G|KNITTED UNION FLA...|3.8580927863913663|1/12/10 8:26|3.6076956140842515| 17839.88311992239|United Kingdom|\n|  4|   536365|   84029E|RED WOOLLY HOTTIE...| 3.748603158010393|1/12/10 8:26| 3.078331036738149| 17872.58763701275|United Kingdom|\n+---+---------+---------+--------------------+------------------+------------+------------------+------------------+--------------+\nonly showing top 5 rows\n\n"
     ]
    }
   ],
   "source": [
    "# Keep only United Kingdom data\n",
    "uk_data = df.filter(col('Country') == 'United Kingdom')\n",
    "print(uk_data.count(), len(uk_data.columns))\n",
    "uk_data.show(5)"
   ]
  },
  {
   "cell_type": "code",
   "execution_count": 0,
   "metadata": {
    "application/vnd.databricks.v1+cell": {
     "cellMetadata": {
      "byteLimit": 2048000,
      "rowLimit": 10000
     },
     "inputWidgets": {},
     "nuid": "cb8fc4fa-7b31-4eb8-8af8-13b0064db4c0",
     "showTitle": false,
     "title": ""
    }
   },
   "outputs": [
    {
     "output_type": "stream",
     "name": "stdout",
     "output_type": "stream",
     "text": [
      "6677776 9\n"
     ]
    }
   ],
   "source": [
    "# Remove rows with missing CustomerID\n",
    "uk_data = uk_data.filter(col('CustomerID').isNotNull())\n",
    "print(uk_data.count(), len(uk_data.columns))"
   ]
  },
  {
   "cell_type": "code",
   "execution_count": 0,
   "metadata": {
    "application/vnd.databricks.v1+cell": {
     "cellMetadata": {
      "byteLimit": 2048000,
      "rowLimit": 10000
     },
     "inputWidgets": {},
     "nuid": "1d8ba839-4f26-4a13-a580-2af5d2c19250",
     "showTitle": false,
     "title": ""
    }
   },
   "outputs": [
    {
     "output_type": "stream",
     "name": "stdout",
     "output_type": "stream",
     "text": [
      "5892549 9\n"
     ]
    }
   ],
   "source": [
    "# Filter out records with Positive values\n",
    "uk_data = uk_data.filter(col('Quantity') > 0)\n",
    "print(uk_data.count(), len(uk_data.columns))"
   ]
  },
  {
   "cell_type": "code",
   "execution_count": 0,
   "metadata": {
    "application/vnd.databricks.v1+cell": {
     "cellMetadata": {
      "byteLimit": 2048000,
      "rowLimit": 10000
     },
     "inputWidgets": {},
     "nuid": "8fd4ac4d-8029-4358-bc17-bf38d0c62188",
     "showTitle": false,
     "title": ""
    }
   },
   "outputs": [
    {
     "output_type": "stream",
     "name": "stdout",
     "output_type": "stream",
     "text": [
      "+---+---------+---------+-----------------------------------+------------------+------------+------------------+------------------+--------------+-------------------+\n|_c0|InvoiceNo|StockCode|Description                        |Quantity          |InvoiceDate |UnitPrice         |CustomerID        |Country       |date_parsed        |\n+---+---------+---------+-----------------------------------+------------------+------------+------------------+------------------+--------------+-------------------+\n|0  |536365   |85123A   |WHITE HANGING HEART T-LIGHT HOLDER |9.540195124753016 |1/12/10 8:26|4.046632237476933 |17847.175914292013|United Kingdom|0010-01-12 08:26:00|\n|1  |536365   |71053    |WHITE METAL LANTERN                |4.673553105780806 |1/12/10 8:26|4.765596152307104 |17876.63145571205 |United Kingdom|0010-01-12 08:26:00|\n|2  |536365   |84406B   |CREAM CUPID HEARTS COAT HANGER     |6.727697829123555 |1/12/10 8:26|2.027311506960725 |17843.254906730202|United Kingdom|0010-01-12 08:26:00|\n|3  |536365   |84029G   |KNITTED UNION FLAG HOT WATER BOTTLE|3.8580927863913663|1/12/10 8:26|3.6076956140842515|17839.88311992239 |United Kingdom|0010-01-12 08:26:00|\n|4  |536365   |84029E   |RED WOOLLY HOTTIE WHITE HEART.     |3.748603158010393 |1/12/10 8:26|3.078331036738149 |17872.58763701275 |United Kingdom|0010-01-12 08:26:00|\n|5  |536365   |22752    |SET 7 BABUSHKA NESTING BOXES       |0.2640410791940977|1/12/10 8:26|6.712629035840819 |17843.11866631444 |United Kingdom|0010-01-12 08:26:00|\n|6  |536365   |21730    |GLASS STAR FROSTED T-LIGHT HOLDER  |7.137814261174835 |1/12/10 8:26|4.418479203674649 |17861.35578007743 |United Kingdom|0010-01-12 08:26:00|\n|7  |536366   |22633    |HAND WARMER UNION JACK             |9.09354988927717  |1/12/10 8:28|2.790155514012201 |17847.373756213674|United Kingdom|0010-01-12 08:28:00|\n|8  |536366   |22632    |HAND WARMER RED POLKA DOT          |5.457739114842052 |1/12/10 8:28|1.863971461986522 |17861.31782756712 |United Kingdom|0010-01-12 08:28:00|\n|9  |536367   |84879    |ASSORTED COLOUR BIRD ORNAMENT      |33.31261046272357 |1/12/10 8:34|1.6080054348240083|13039.019877988021|United Kingdom|0010-01-12 08:34:00|\n|10 |536367   |22745    |POPPY'S PLAYHOUSE BEDROOM          |7.571000581946328 |1/12/10 8:34|0.7963751212442682|13037.837845499469|United Kingdom|0010-01-12 08:34:00|\n|11 |536367   |22748    |POPPY'S PLAYHOUSE KITCHEN          |7.845046425531249 |1/12/10 8:34|2.7395890492771167|13076.688099039968|United Kingdom|0010-01-12 08:34:00|\n|12 |536367   |22749    |FELTCRAFT PRINCESS CHARLOTTE DOLL  |9.138934841855521 |1/12/10 8:34|3.892860058695902 |13034.795023871766|United Kingdom|0010-01-12 08:34:00|\n|13 |536367   |22310    |IVORY KNITTED MUG COSY             |8.496909722247773 |1/12/10 8:34|1.8051043046444288|13032.47207150047 |United Kingdom|0010-01-12 08:34:00|\n|14 |536367   |84969    |BOX OF 6 ASSORTED COLOUR TEASPOONS |4.677716318149408 |1/12/10 8:34|4.058210089502793 |13039.915367611366|United Kingdom|0010-01-12 08:34:00|\n|15 |536367   |22623    |BOX OF VINTAGE JIGSAW BLOCKS       |6.130926602756995 |1/12/10 8:34|4.854509289182602 |13028.293406234267|United Kingdom|0010-01-12 08:34:00|\n|16 |536367   |22622    |BOX OF VINTAGE ALPHABET BLOCKS     |3.966507632437642 |1/12/10 8:34|10.376935798553632|13023.761849116685|United Kingdom|0010-01-12 08:34:00|\n|17 |536367   |21754    |HOME BUILDING BLOCK WORD           |1.9453495423239058|1/12/10 8:34|5.930444800016129 |13017.304164315892|United Kingdom|0010-01-12 08:34:00|\n|18 |536367   |21755    |LOVE BUILDING BLOCK WORD           |8.046507207391336 |1/12/10 8:34|6.24039864612337  |13039.603220540901|United Kingdom|0010-01-12 08:34:00|\n|19 |536367   |21777    |RECIPE BOX WITH METAL HEART        |6.242150040894974 |1/12/10 8:34|8.549629298227574 |13039.115327608335|United Kingdom|0010-01-12 08:34:00|\n+---+---------+---------+-----------------------------------+------------------+------------+------------------+------------------+--------------+-------------------+\nonly showing top 20 rows\n\n"
     ]
    }
   ],
   "source": [
    "from pyspark.sql import SparkSession\n",
    "from pyspark.sql.functions import to_timestamp, coalesce, col\n",
    "\n",
    "# Initialize Spark session and set legacy time parser policy\n",
    "spark = SparkSession.builder.appName(\"DateParser\").getOrCreate()\n",
    "spark.conf.set(\"spark.sql.legacy.timeParserPolicy\", \"LEGACY\")\n",
    "\n",
    "# Define all date formats\n",
    "formats = [\n",
    "    \"MM/dd/yyyy HH:mm\",\n",
    "    \"MM-dd-yyyy HH:mm\",\n",
    "    \"yyyy-MM-dd HH:mm\",\n",
    "    \"yyyy/MM/dd HH:mm\",\n",
    "    \"MM/dd/yy HH:mm\",\n",
    "    \"MM-dd-yy HH:mm\",\n",
    "    \"yy/MM/dd HH:mm\",\n",
    "    \"yy-MM-dd HH:mm\",\n",
    "    \"MM/dd/yyyy h:mm a\",\n",
    "    \"MM-dd-yyyy h:mm a\",\n",
    "    \"yyyy-MM-dd h:mm a\",\n",
    "    \"yyyy/MM/dd h:mm a\",\n",
    "    \"MM/dd/yy h:mm a\",\n",
    "    \"MM-dd-yy h:mm a\",\n",
    "    \"MM/dd/yyyy\",\n",
    "    \"MM-dd-yyyy\",\n",
    "    \"yyyy/MM/dd\",\n",
    "    \"yyyy-MM-dd\",\n",
    "    \"MM/dd/yy\",\n",
    "    \"MM-dd-yy\",\n",
    "    \"yy/MM/dd\",\n",
    "    \"yy-MM-dd\",\n",
    "    \"MM/dd/yyyy HH:mm:ss.SSS\",\n",
    "    \"yyyy-MM-dd HH:mm:ss.SSS\",\n",
    "    \"yyyy-MM-dd'T'HH:mm:ssXXX\",\n",
    "    \"yyyy-MM-dd'T'HH:mm:ss.SSSXXX\",\n",
    "    \"yyyy-MM-dd'T'HH:mm:ss.SSS'Z'\",\n",
    "    \"MM/dd/yyyy h:mm\",\n",
    "    \"MM-dd-yyyy h:mm\",\n",
    "    \"yyyy-MM-dd h:mm\"\n",
    "]\n",
    "\n",
    "# Convert to timestamp using coalesce and all formats\n",
    "df = df.withColumn(\n",
    "    \"date_parsed\",\n",
    "    coalesce(*[to_timestamp(col('InvoiceDate'), fmt) for fmt in formats])\n",
    ")\n",
    "\n",
    "df.show(truncate=False)\n"
   ]
  },
  {
   "cell_type": "code",
   "execution_count": 0,
   "metadata": {
    "application/vnd.databricks.v1+cell": {
     "cellMetadata": {
      "byteLimit": 2048000,
      "rowLimit": 10000
     },
     "inputWidgets": {},
     "nuid": "084dc017-9115-4f1c-9638-9695cfbb26af",
     "showTitle": false,
     "title": ""
    }
   },
   "outputs": [],
   "source": [
    "# Add new column depicting total amount\n",
    "uk_data = uk_data.withColumn(\"TotalAmount\", col(\"Quantity\") * col(\"UnitPrice\"))"
   ]
  },
  {
   "cell_type": "code",
   "execution_count": 0,
   "metadata": {
    "application/vnd.databricks.v1+cell": {
     "cellMetadata": {
      "byteLimit": 2048000,
      "rowLimit": 10000
     },
     "inputWidgets": {},
     "nuid": "3179a676-8b9a-4d9e-8d56-b9ddec21a832",
     "showTitle": false,
     "title": ""
    }
   },
   "outputs": [
    {
     "output_type": "stream",
     "name": "stdout",
     "output_type": "stream",
     "text": [
      "Out[16]: (5892549, 10)"
     ]
    }
   ],
   "source": [
    "uk_data.count(), len(uk_data.columns)"
   ]
  },
  {
   "cell_type": "code",
   "execution_count": 0,
   "metadata": {
    "application/vnd.databricks.v1+cell": {
     "cellMetadata": {
      "byteLimit": 2048000,
      "rowLimit": 10000
     },
     "inputWidgets": {},
     "nuid": "a3bd664e-dc33-4745-97c9-e2ec4c80ae9f",
     "showTitle": false,
     "title": ""
    }
   },
   "outputs": [
    {
     "output_type": "stream",
     "name": "stdout",
     "output_type": "stream",
     "text": [
      "+---+---------+---------+-----------+--------+-----------+---------+----------+-------+-----------+\n|_c0|InvoiceNo|StockCode|Description|Quantity|InvoiceDate|UnitPrice|CustomerID|Country|TotalAmount|\n+---+---------+---------+-----------+--------+-----------+---------+----------+-------+-----------+\n|  0|        0|        0|          0|       0|          0|        0|         0|      0|          0|\n+---+---------+---------+-----------+--------+-----------+---------+----------+-------+-----------+\n\n"
     ]
    }
   ],
   "source": [
    "from pyspark.sql.functions import col, count, when\n",
    "null_counts = uk_data.select([count(when(col(c).isNull(), c)).alias(c) for c in uk_data.columns])\n",
    "null_counts.show()"
   ]
  },
  {
   "cell_type": "code",
   "execution_count": 0,
   "metadata": {
    "application/vnd.databricks.v1+cell": {
     "cellMetadata": {
      "byteLimit": 2048000,
      "rowLimit": 10000
     },
     "inputWidgets": {},
     "nuid": "a26e919b-8323-4b0c-a4d4-93ad90b46054",
     "showTitle": false,
     "title": ""
    }
   },
   "outputs": [],
   "source": [
    "# Creating repartition as 1 to get single file\n",
    "uk_data = uk_data.repartition(1)"
   ]
  },
  {
   "cell_type": "code",
   "execution_count": 0,
   "metadata": {
    "application/vnd.databricks.v1+cell": {
     "cellMetadata": {
      "byteLimit": 2048000,
      "rowLimit": 10000
     },
     "inputWidgets": {},
     "nuid": "e576695f-e95e-4fe1-805f-6dee1ca356cb",
     "showTitle": false,
     "title": ""
    }
   },
   "outputs": [],
   "source": [
    "# Exporting the file into s3 bucket as a csv format\n",
    "# uk_data.write.mode('overwrite').csv('s3://dbda-project/EDA_Output', header=True)"
   ]
  },
  {
   "cell_type": "markdown",
   "metadata": {
    "application/vnd.databricks.v1+cell": {
     "cellMetadata": {
      "byteLimit": 2048000,
      "rowLimit": 10000
     },
     "inputWidgets": {},
     "nuid": "0c9f6f7c-afa9-47ae-9c6f-6cbccb712cda",
     "showTitle": false,
     "title": ""
    }
   },
   "source": [
    "# RFM(Recency, Frequency, Monetary) Analysis"
   ]
  },
  {
   "cell_type": "code",
   "execution_count": 0,
   "metadata": {
    "application/vnd.databricks.v1+cell": {
     "cellMetadata": {
      "byteLimit": 2048000,
      "rowLimit": 10000
     },
     "inputWidgets": {},
     "nuid": "ebbe7a78-e144-404b-9a74-82907423e498",
     "showTitle": false,
     "title": ""
    }
   },
   "outputs": [
    {
     "output_type": "stream",
     "name": "stdout",
     "output_type": "stream",
     "text": [
      "(5892549, 10)\n"
     ]
    },
    {
     "output_type": "display_data",
     "data": {
      "text/html": [
       "<div>\n",
       "<style scoped>\n",
       "    .dataframe tbody tr th:only-of-type {\n",
       "        vertical-align: middle;\n",
       "    }\n",
       "\n",
       "    .dataframe tbody tr th {\n",
       "        vertical-align: top;\n",
       "    }\n",
       "\n",
       "    .dataframe thead th {\n",
       "        text-align: right;\n",
       "    }\n",
       "</style>\n",
       "<table border=\"1\" class=\"dataframe\">\n",
       "  <thead>\n",
       "    <tr style=\"text-align: right;\">\n",
       "      <th></th>\n",
       "      <th>_c0</th>\n",
       "      <th>InvoiceNo</th>\n",
       "      <th>StockCode</th>\n",
       "      <th>Description</th>\n",
       "      <th>Quantity</th>\n",
       "      <th>InvoiceDate</th>\n",
       "      <th>UnitPrice</th>\n",
       "      <th>CustomerID</th>\n",
       "      <th>Country</th>\n",
       "      <th>TotalAmount</th>\n",
       "    </tr>\n",
       "  </thead>\n",
       "  <tbody>\n",
       "    <tr>\n",
       "      <th>0</th>\n",
       "      <td>0</td>\n",
       "      <td>536365</td>\n",
       "      <td>85123A</td>\n",
       "      <td>WHITE HANGING HEART T-LIGHT HOLDER</td>\n",
       "      <td>9.540195</td>\n",
       "      <td>1/12/10 8:26</td>\n",
       "      <td>4.046632</td>\n",
       "      <td>17847.175914</td>\n",
       "      <td>United Kingdom</td>\n",
       "      <td>38.605661</td>\n",
       "    </tr>\n",
       "    <tr>\n",
       "      <th>1</th>\n",
       "      <td>1</td>\n",
       "      <td>536365</td>\n",
       "      <td>71053</td>\n",
       "      <td>WHITE METAL LANTERN</td>\n",
       "      <td>4.673553</td>\n",
       "      <td>1/12/10 8:26</td>\n",
       "      <td>4.765596</td>\n",
       "      <td>17876.631456</td>\n",
       "      <td>United Kingdom</td>\n",
       "      <td>22.272267</td>\n",
       "    </tr>\n",
       "    <tr>\n",
       "      <th>2</th>\n",
       "      <td>2</td>\n",
       "      <td>536365</td>\n",
       "      <td>84406B</td>\n",
       "      <td>CREAM CUPID HEARTS COAT HANGER</td>\n",
       "      <td>6.727698</td>\n",
       "      <td>1/12/10 8:26</td>\n",
       "      <td>2.027312</td>\n",
       "      <td>17843.254907</td>\n",
       "      <td>United Kingdom</td>\n",
       "      <td>13.639139</td>\n",
       "    </tr>\n",
       "    <tr>\n",
       "      <th>3</th>\n",
       "      <td>3</td>\n",
       "      <td>536365</td>\n",
       "      <td>84029G</td>\n",
       "      <td>KNITTED UNION FLAG HOT WATER BOTTLE</td>\n",
       "      <td>3.858093</td>\n",
       "      <td>1/12/10 8:26</td>\n",
       "      <td>3.607696</td>\n",
       "      <td>17839.883120</td>\n",
       "      <td>United Kingdom</td>\n",
       "      <td>13.918824</td>\n",
       "    </tr>\n",
       "    <tr>\n",
       "      <th>4</th>\n",
       "      <td>4</td>\n",
       "      <td>536365</td>\n",
       "      <td>84029E</td>\n",
       "      <td>RED WOOLLY HOTTIE WHITE HEART.</td>\n",
       "      <td>3.748603</td>\n",
       "      <td>1/12/10 8:26</td>\n",
       "      <td>3.078331</td>\n",
       "      <td>17872.587637</td>\n",
       "      <td>United Kingdom</td>\n",
       "      <td>11.539441</td>\n",
       "    </tr>\n",
       "  </tbody>\n",
       "</table>\n",
       "</div>"
      ]
     },
     "metadata": {
      "application/vnd.databricks.v1+output": {
       "addedWidgets": {},
       "arguments": {},
       "data": "<div>\n<style scoped>\n    .dataframe tbody tr th:only-of-type {\n        vertical-align: middle;\n    }\n\n    .dataframe tbody tr th {\n        vertical-align: top;\n    }\n\n    .dataframe thead th {\n        text-align: right;\n    }\n</style>\n<table border=\"1\" class=\"dataframe\">\n  <thead>\n    <tr style=\"text-align: right;\">\n      <th></th>\n      <th>_c0</th>\n      <th>InvoiceNo</th>\n      <th>StockCode</th>\n      <th>Description</th>\n      <th>Quantity</th>\n      <th>InvoiceDate</th>\n      <th>UnitPrice</th>\n      <th>CustomerID</th>\n      <th>Country</th>\n      <th>TotalAmount</th>\n    </tr>\n  </thead>\n  <tbody>\n    <tr>\n      <th>0</th>\n      <td>0</td>\n      <td>536365</td>\n      <td>85123A</td>\n      <td>WHITE HANGING HEART T-LIGHT HOLDER</td>\n      <td>9.540195</td>\n      <td>1/12/10 8:26</td>\n      <td>4.046632</td>\n      <td>17847.175914</td>\n      <td>United Kingdom</td>\n      <td>38.605661</td>\n    </tr>\n    <tr>\n      <th>1</th>\n      <td>1</td>\n      <td>536365</td>\n      <td>71053</td>\n      <td>WHITE METAL LANTERN</td>\n      <td>4.673553</td>\n      <td>1/12/10 8:26</td>\n      <td>4.765596</td>\n      <td>17876.631456</td>\n      <td>United Kingdom</td>\n      <td>22.272267</td>\n    </tr>\n    <tr>\n      <th>2</th>\n      <td>2</td>\n      <td>536365</td>\n      <td>84406B</td>\n      <td>CREAM CUPID HEARTS COAT HANGER</td>\n      <td>6.727698</td>\n      <td>1/12/10 8:26</td>\n      <td>2.027312</td>\n      <td>17843.254907</td>\n      <td>United Kingdom</td>\n      <td>13.639139</td>\n    </tr>\n    <tr>\n      <th>3</th>\n      <td>3</td>\n      <td>536365</td>\n      <td>84029G</td>\n      <td>KNITTED UNION FLAG HOT WATER BOTTLE</td>\n      <td>3.858093</td>\n      <td>1/12/10 8:26</td>\n      <td>3.607696</td>\n      <td>17839.883120</td>\n      <td>United Kingdom</td>\n      <td>13.918824</td>\n    </tr>\n    <tr>\n      <th>4</th>\n      <td>4</td>\n      <td>536365</td>\n      <td>84029E</td>\n      <td>RED WOOLLY HOTTIE WHITE HEART.</td>\n      <td>3.748603</td>\n      <td>1/12/10 8:26</td>\n      <td>3.078331</td>\n      <td>17872.587637</td>\n      <td>United Kingdom</td>\n      <td>11.539441</td>\n    </tr>\n  </tbody>\n</table>\n</div>",
       "datasetInfos": [],
       "metadata": {},
       "removedWidgets": [],
       "textData": null,
       "type": "htmlSandbox"
      }
     },
     "output_type": "display_data"
    }
   ],
   "source": [
    "df = spark.read.csv('s3a://dbda-project/EDA_Output/', header=True, inferSchema=True)\n",
    "rfm_df = df.toPandas()\n",
    "print(rfm_df.shape)\n",
    "rfm_df.head()"
   ]
  },
  {
   "cell_type": "code",
   "execution_count": 0,
   "metadata": {
    "application/vnd.databricks.v1+cell": {
     "cellMetadata": {
      "byteLimit": 2048000,
      "rowLimit": 10000
     },
     "inputWidgets": {},
     "nuid": "2072d22f-8d2b-474d-af0a-d14b1be1e48a",
     "showTitle": false,
     "title": ""
    }
   },
   "outputs": [
    {
     "output_type": "stream",
     "name": "stdout",
     "output_type": "stream",
     "text": [
      "(5892549, 9)\n"
     ]
    },
    {
     "output_type": "display_data",
     "data": {
      "text/html": [
       "<div>\n",
       "<style scoped>\n",
       "    .dataframe tbody tr th:only-of-type {\n",
       "        vertical-align: middle;\n",
       "    }\n",
       "\n",
       "    .dataframe tbody tr th {\n",
       "        vertical-align: top;\n",
       "    }\n",
       "\n",
       "    .dataframe thead th {\n",
       "        text-align: right;\n",
       "    }\n",
       "</style>\n",
       "<table border=\"1\" class=\"dataframe\">\n",
       "  <thead>\n",
       "    <tr style=\"text-align: right;\">\n",
       "      <th></th>\n",
       "      <th>InvoiceNo</th>\n",
       "      <th>StockCode</th>\n",
       "      <th>Description</th>\n",
       "      <th>Quantity</th>\n",
       "      <th>InvoiceDate</th>\n",
       "      <th>UnitPrice</th>\n",
       "      <th>CustomerID</th>\n",
       "      <th>Country</th>\n",
       "      <th>TotalAmount</th>\n",
       "    </tr>\n",
       "  </thead>\n",
       "  <tbody>\n",
       "    <tr>\n",
       "      <th>0</th>\n",
       "      <td>536365</td>\n",
       "      <td>85123A</td>\n",
       "      <td>WHITE HANGING HEART T-LIGHT HOLDER</td>\n",
       "      <td>9.540195</td>\n",
       "      <td>1/12/10 8:26</td>\n",
       "      <td>4.046632</td>\n",
       "      <td>17847.175914</td>\n",
       "      <td>United Kingdom</td>\n",
       "      <td>38.605661</td>\n",
       "    </tr>\n",
       "    <tr>\n",
       "      <th>1</th>\n",
       "      <td>536365</td>\n",
       "      <td>71053</td>\n",
       "      <td>WHITE METAL LANTERN</td>\n",
       "      <td>4.673553</td>\n",
       "      <td>1/12/10 8:26</td>\n",
       "      <td>4.765596</td>\n",
       "      <td>17876.631456</td>\n",
       "      <td>United Kingdom</td>\n",
       "      <td>22.272267</td>\n",
       "    </tr>\n",
       "    <tr>\n",
       "      <th>2</th>\n",
       "      <td>536365</td>\n",
       "      <td>84406B</td>\n",
       "      <td>CREAM CUPID HEARTS COAT HANGER</td>\n",
       "      <td>6.727698</td>\n",
       "      <td>1/12/10 8:26</td>\n",
       "      <td>2.027312</td>\n",
       "      <td>17843.254907</td>\n",
       "      <td>United Kingdom</td>\n",
       "      <td>13.639139</td>\n",
       "    </tr>\n",
       "    <tr>\n",
       "      <th>3</th>\n",
       "      <td>536365</td>\n",
       "      <td>84029G</td>\n",
       "      <td>KNITTED UNION FLAG HOT WATER BOTTLE</td>\n",
       "      <td>3.858093</td>\n",
       "      <td>1/12/10 8:26</td>\n",
       "      <td>3.607696</td>\n",
       "      <td>17839.883120</td>\n",
       "      <td>United Kingdom</td>\n",
       "      <td>13.918824</td>\n",
       "    </tr>\n",
       "    <tr>\n",
       "      <th>4</th>\n",
       "      <td>536365</td>\n",
       "      <td>84029E</td>\n",
       "      <td>RED WOOLLY HOTTIE WHITE HEART.</td>\n",
       "      <td>3.748603</td>\n",
       "      <td>1/12/10 8:26</td>\n",
       "      <td>3.078331</td>\n",
       "      <td>17872.587637</td>\n",
       "      <td>United Kingdom</td>\n",
       "      <td>11.539441</td>\n",
       "    </tr>\n",
       "  </tbody>\n",
       "</table>\n",
       "</div>"
      ]
     },
     "metadata": {
      "application/vnd.databricks.v1+output": {
       "addedWidgets": {},
       "arguments": {},
       "data": "<div>\n<style scoped>\n    .dataframe tbody tr th:only-of-type {\n        vertical-align: middle;\n    }\n\n    .dataframe tbody tr th {\n        vertical-align: top;\n    }\n\n    .dataframe thead th {\n        text-align: right;\n    }\n</style>\n<table border=\"1\" class=\"dataframe\">\n  <thead>\n    <tr style=\"text-align: right;\">\n      <th></th>\n      <th>InvoiceNo</th>\n      <th>StockCode</th>\n      <th>Description</th>\n      <th>Quantity</th>\n      <th>InvoiceDate</th>\n      <th>UnitPrice</th>\n      <th>CustomerID</th>\n      <th>Country</th>\n      <th>TotalAmount</th>\n    </tr>\n  </thead>\n  <tbody>\n    <tr>\n      <th>0</th>\n      <td>536365</td>\n      <td>85123A</td>\n      <td>WHITE HANGING HEART T-LIGHT HOLDER</td>\n      <td>9.540195</td>\n      <td>1/12/10 8:26</td>\n      <td>4.046632</td>\n      <td>17847.175914</td>\n      <td>United Kingdom</td>\n      <td>38.605661</td>\n    </tr>\n    <tr>\n      <th>1</th>\n      <td>536365</td>\n      <td>71053</td>\n      <td>WHITE METAL LANTERN</td>\n      <td>4.673553</td>\n      <td>1/12/10 8:26</td>\n      <td>4.765596</td>\n      <td>17876.631456</td>\n      <td>United Kingdom</td>\n      <td>22.272267</td>\n    </tr>\n    <tr>\n      <th>2</th>\n      <td>536365</td>\n      <td>84406B</td>\n      <td>CREAM CUPID HEARTS COAT HANGER</td>\n      <td>6.727698</td>\n      <td>1/12/10 8:26</td>\n      <td>2.027312</td>\n      <td>17843.254907</td>\n      <td>United Kingdom</td>\n      <td>13.639139</td>\n    </tr>\n    <tr>\n      <th>3</th>\n      <td>536365</td>\n      <td>84029G</td>\n      <td>KNITTED UNION FLAG HOT WATER BOTTLE</td>\n      <td>3.858093</td>\n      <td>1/12/10 8:26</td>\n      <td>3.607696</td>\n      <td>17839.883120</td>\n      <td>United Kingdom</td>\n      <td>13.918824</td>\n    </tr>\n    <tr>\n      <th>4</th>\n      <td>536365</td>\n      <td>84029E</td>\n      <td>RED WOOLLY HOTTIE WHITE HEART.</td>\n      <td>3.748603</td>\n      <td>1/12/10 8:26</td>\n      <td>3.078331</td>\n      <td>17872.587637</td>\n      <td>United Kingdom</td>\n      <td>11.539441</td>\n    </tr>\n  </tbody>\n</table>\n</div>",
       "datasetInfos": [],
       "metadata": {},
       "removedWidgets": [],
       "textData": null,
       "type": "htmlSandbox"
      }
     },
     "output_type": "display_data"
    }
   ],
   "source": [
    "# Drop the '_c0' column from the Pandas DataFrame\n",
    "rfm_df = rfm_df.drop(columns=['_c0'])\n",
    "\n",
    "# Verify that the column has been removed\n",
    "print(rfm_df.shape)\n",
    "rfm_df.head()\n"
   ]
  },
  {
   "cell_type": "code",
   "execution_count": 0,
   "metadata": {
    "application/vnd.databricks.v1+cell": {
     "cellMetadata": {
      "byteLimit": 2048000,
      "rowLimit": 10000
     },
     "inputWidgets": {},
     "nuid": "db1b0e84-36af-4d72-a9e9-45c70a02865b",
     "showTitle": false,
     "title": ""
    }
   },
   "outputs": [
    {
     "output_type": "stream",
     "name": "stdout",
     "output_type": "stream",
     "text": [
      "<class 'pandas.core.frame.DataFrame'>\nRangeIndex: 5892549 entries, 0 to 5892548\nData columns (total 9 columns):\n #   Column       Dtype         \n---  ------       -----         \n 0   InvoiceNo    object        \n 1   StockCode    object        \n 2   Description  object        \n 3   Quantity     float64       \n 4   InvoiceDate  datetime64[ns]\n 5   UnitPrice    float64       \n 6   CustomerID   float64       \n 7   Country      object        \n 8   TotalAmount  float64       \ndtypes: datetime64[ns](1), float64(4), object(4)\nmemory usage: 404.6+ MB\n"
     ]
    }
   ],
   "source": [
    "rfm_df['InvoiceDate'] = pd.to_datetime(rfm_df['InvoiceDate'])\n",
    "rfm_df.info()"
   ]
  },
  {
   "cell_type": "code",
   "execution_count": 0,
   "metadata": {
    "application/vnd.databricks.v1+cell": {
     "cellMetadata": {
      "byteLimit": 2048000,
      "rowLimit": 10000
     },
     "inputWidgets": {},
     "nuid": "739bdfac-391d-45a6-a647-873affae112b",
     "showTitle": false,
     "title": ""
    }
   },
   "outputs": [
    {
     "output_type": "display_data",
     "data": {
      "text/html": [
       "<div>\n",
       "<style scoped>\n",
       "    .dataframe tbody tr th:only-of-type {\n",
       "        vertical-align: middle;\n",
       "    }\n",
       "\n",
       "    .dataframe tbody tr th {\n",
       "        vertical-align: top;\n",
       "    }\n",
       "\n",
       "    .dataframe thead th {\n",
       "        text-align: right;\n",
       "    }\n",
       "</style>\n",
       "<table border=\"1\" class=\"dataframe\">\n",
       "  <thead>\n",
       "    <tr style=\"text-align: right;\">\n",
       "      <th></th>\n",
       "      <th>InvoiceNo</th>\n",
       "      <th>StockCode</th>\n",
       "      <th>Description</th>\n",
       "      <th>Quantity</th>\n",
       "      <th>InvoiceDate</th>\n",
       "      <th>UnitPrice</th>\n",
       "      <th>CustomerID</th>\n",
       "      <th>Country</th>\n",
       "      <th>TotalAmount</th>\n",
       "    </tr>\n",
       "  </thead>\n",
       "  <tbody>\n",
       "  </tbody>\n",
       "</table>\n",
       "</div>"
      ]
     },
     "metadata": {
      "application/vnd.databricks.v1+output": {
       "addedWidgets": {},
       "arguments": {},
       "data": "<div>\n<style scoped>\n    .dataframe tbody tr th:only-of-type {\n        vertical-align: middle;\n    }\n\n    .dataframe tbody tr th {\n        vertical-align: top;\n    }\n\n    .dataframe thead th {\n        text-align: right;\n    }\n</style>\n<table border=\"1\" class=\"dataframe\">\n  <thead>\n    <tr style=\"text-align: right;\">\n      <th></th>\n      <th>InvoiceNo</th>\n      <th>StockCode</th>\n      <th>Description</th>\n      <th>Quantity</th>\n      <th>InvoiceDate</th>\n      <th>UnitPrice</th>\n      <th>CustomerID</th>\n      <th>Country</th>\n      <th>TotalAmount</th>\n    </tr>\n  </thead>\n  <tbody>\n  </tbody>\n</table>\n</div>",
       "datasetInfos": [],
       "metadata": {},
       "removedWidgets": [],
       "textData": null,
       "type": "htmlSandbox"
      }
     },
     "output_type": "display_data"
    }
   ],
   "source": [
    "rfm_df[rfm_df['InvoiceDate'].isnull()]"
   ]
  },
  {
   "cell_type": "code",
   "execution_count": 0,
   "metadata": {
    "application/vnd.databricks.v1+cell": {
     "cellMetadata": {
      "byteLimit": 2048000,
      "rowLimit": 10000
     },
     "inputWidgets": {},
     "nuid": "30451bbf-0a86-4c95-90ea-4c8de00ce490",
     "showTitle": false,
     "title": ""
    }
   },
   "outputs": [
    {
     "output_type": "display_data",
     "data": {
      "text/html": [
       "<div>\n",
       "<style scoped>\n",
       "    .dataframe tbody tr th:only-of-type {\n",
       "        vertical-align: middle;\n",
       "    }\n",
       "\n",
       "    .dataframe tbody tr th {\n",
       "        vertical-align: top;\n",
       "    }\n",
       "\n",
       "    .dataframe thead th {\n",
       "        text-align: right;\n",
       "    }\n",
       "</style>\n",
       "<table border=\"1\" class=\"dataframe\">\n",
       "  <thead>\n",
       "    <tr style=\"text-align: right;\">\n",
       "      <th></th>\n",
       "      <th>CustomerID</th>\n",
       "      <th>Recency</th>\n",
       "      <th>Frequency</th>\n",
       "      <th>Monetary</th>\n",
       "    </tr>\n",
       "  </thead>\n",
       "  <tbody>\n",
       "    <tr>\n",
       "      <th>0</th>\n",
       "      <td>12353.990284</td>\n",
       "      <td>325</td>\n",
       "      <td>18</td>\n",
       "      <td>1.286841e+06</td>\n",
       "    </tr>\n",
       "    <tr>\n",
       "      <th>1</th>\n",
       "      <td>12690.872298</td>\n",
       "      <td>31</td>\n",
       "      <td>19</td>\n",
       "      <td>4.491482e+02</td>\n",
       "    </tr>\n",
       "    <tr>\n",
       "      <th>2</th>\n",
       "      <td>12694.656520</td>\n",
       "      <td>28</td>\n",
       "      <td>18</td>\n",
       "      <td>2.363174e+02</td>\n",
       "    </tr>\n",
       "    <tr>\n",
       "      <th>3</th>\n",
       "      <td>12695.834433</td>\n",
       "      <td>30</td>\n",
       "      <td>19</td>\n",
       "      <td>6.262581e+02</td>\n",
       "    </tr>\n",
       "    <tr>\n",
       "      <th>4</th>\n",
       "      <td>12696.097291</td>\n",
       "      <td>14</td>\n",
       "      <td>20</td>\n",
       "      <td>4.554975e+02</td>\n",
       "    </tr>\n",
       "  </tbody>\n",
       "</table>\n",
       "</div>"
      ]
     },
     "metadata": {
      "application/vnd.databricks.v1+output": {
       "addedWidgets": {},
       "arguments": {},
       "data": "<div>\n<style scoped>\n    .dataframe tbody tr th:only-of-type {\n        vertical-align: middle;\n    }\n\n    .dataframe tbody tr th {\n        vertical-align: top;\n    }\n\n    .dataframe thead th {\n        text-align: right;\n    }\n</style>\n<table border=\"1\" class=\"dataframe\">\n  <thead>\n    <tr style=\"text-align: right;\">\n      <th></th>\n      <th>CustomerID</th>\n      <th>Recency</th>\n      <th>Frequency</th>\n      <th>Monetary</th>\n    </tr>\n  </thead>\n  <tbody>\n    <tr>\n      <th>0</th>\n      <td>12353.990284</td>\n      <td>325</td>\n      <td>18</td>\n      <td>1.286841e+06</td>\n    </tr>\n    <tr>\n      <th>1</th>\n      <td>12690.872298</td>\n      <td>31</td>\n      <td>19</td>\n      <td>4.491482e+02</td>\n    </tr>\n    <tr>\n      <th>2</th>\n      <td>12694.656520</td>\n      <td>28</td>\n      <td>18</td>\n      <td>2.363174e+02</td>\n    </tr>\n    <tr>\n      <th>3</th>\n      <td>12695.834433</td>\n      <td>30</td>\n      <td>19</td>\n      <td>6.262581e+02</td>\n    </tr>\n    <tr>\n      <th>4</th>\n      <td>12696.097291</td>\n      <td>14</td>\n      <td>20</td>\n      <td>4.554975e+02</td>\n    </tr>\n  </tbody>\n</table>\n</div>",
       "datasetInfos": [],
       "metadata": {},
       "removedWidgets": [],
       "textData": null,
       "type": "htmlSandbox"
      }
     },
     "output_type": "display_data"
    }
   ],
   "source": [
    "import datetime as dt\n",
    "\n",
    "# Set Latest date 2011-12-10 as last invoice date was 2011-12-09. This is to calculate the number of days from recent purchase\n",
    "Latest_Date = dt.datetime(2011, 12, 10)\n",
    "\n",
    "# Create RFM Modelling scores for each customer\n",
    "RFMScores = rfm_df.groupby('CustomerID').agg({\n",
    "    'InvoiceDate': lambda x: (Latest_Date - x.max()).days,\n",
    "    'InvoiceNo': lambda x: len(x),\n",
    "    'TotalAmount': lambda x: x.sum()\n",
    "})\n",
    "\n",
    "# Convert Invoice Date into type int\n",
    "RFMScores['InvoiceDate'] = RFMScores['InvoiceDate'].astype(int)\n",
    "\n",
    "# Rename column names to Recency, Frequency, and Monetary\n",
    "RFMScores.rename(columns={\n",
    "    'InvoiceDate': 'Recency',\n",
    "    'InvoiceNo': 'Frequency',\n",
    "    'TotalAmount': 'Monetary'\n",
    "}, inplace=True)\n",
    "\n",
    "RFMScores.reset_index(inplace=True)\n",
    "RFMScores.head()\n"
   ]
  },
  {
   "cell_type": "code",
   "execution_count": 0,
   "metadata": {
    "application/vnd.databricks.v1+cell": {
     "cellMetadata": {
      "byteLimit": 2048000,
      "rowLimit": 10000
     },
     "inputWidgets": {},
     "nuid": "374b3e3f-a925-4723-8f4e-77eb44389721",
     "showTitle": false,
     "title": ""
    }
   },
   "outputs": [
    {
     "output_type": "stream",
     "name": "stdout",
     "output_type": "stream",
     "text": [
      "Out[30]: count    319323.000000\nmean        171.844537\nstd         131.178314\nmin          -1.000000\n25%          62.000000\n50%         155.000000\n75%         254.000000\nmax         696.000000\nName: Recency, dtype: float64"
     ]
    }
   ],
   "source": [
    "# Descriptive Statistics (Recency)\n",
    "RFMScores.Recency.describe()"
   ]
  },
  {
   "cell_type": "code",
   "execution_count": 0,
   "metadata": {
    "application/vnd.databricks.v1+cell": {
     "cellMetadata": {
      "byteLimit": 2048000,
      "rowLimit": 10000
     },
     "inputWidgets": {},
     "nuid": "27e35dd7-ec34-47dc-ae01-062f1b8778f5",
     "showTitle": false,
     "title": ""
    }
   },
   "outputs": [
    {
     "output_type": "display_data",
     "data": {
      "image/png": "[encoded data removed]"
     },
     "metadata": {
      "application/vnd.databricks.v1+output": {
       "addedWidgets": {},
       "arguments": {},
       "data": "data:image/png;base64,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\n",
       "datasetInfos": [],
       "metadata": {},
       "removedWidgets": [],
       "type": "image"
      }
     },
     "output_type": "display_data"
    }
   ],
   "source": [
    "import matplotlib.pyplot as plt\n",
    "import seaborn as sns\n",
    "\n",
    "# Recency distribution plot\n",
    "plt.figure(figsize=(14, 8))  # Increase figure size for better visibility\n",
    "\n",
    "# Recency data\n",
    "r = RFMScores['Recency']\n",
    "\n",
    "# Plot the distribution using seaborn's histplot\n",
    "sns.histplot(r, bins=50, kde=True)\n",
    "\n",
    "# Set x-axis scale to linear\n",
    "plt.xscale('linear')\n",
    "\n",
    "# Set x-axis ticks to an interval of 50\n",
    "plt.xticks(range(0, max(r) + 1, 50))\n",
    "\n",
    "# Add labels and title\n",
    "plt.xlabel('Recency')\n",
    "plt.ylabel('Frequency')\n",
    "plt.title('Distribution of Recency')\n",
    "\n",
    "# Show the plot\n",
    "plt.show()\n"
   ]
  },
  {
   "cell_type": "code",
   "execution_count": 0,
   "metadata": {
    "application/vnd.databricks.v1+cell": {
     "cellMetadata": {
      "byteLimit": 2048000,
      "rowLimit": 10000
     },
     "inputWidgets": {},
     "nuid": "f3d28fd7-e5bc-4071-8484-6d2f79d55622",
     "showTitle": false,
     "title": ""
    }
   },
   "outputs": [
    {
     "output_type": "stream",
     "name": "stdout",
     "output_type": "stream",
     "text": [
      "Out[32]: count    319323.000000\nmean         18.453256\nstd           0.671889\nmin          18.000000\n25%          18.000000\n50%          18.000000\n75%          19.000000\nmax          24.000000\nName: Frequency, dtype: float64"
     ]
    }
   ],
   "source": [
    "# Descriptive Statistics (Frequency)\n",
    "RFMScores.Frequency.describe()"
   ]
  },
  {
   "cell_type": "code",
   "execution_count": 0,
   "metadata": {
    "application/vnd.databricks.v1+cell": {
     "cellMetadata": {
      "byteLimit": 2048000,
      "rowLimit": 10000
     },
     "inputWidgets": {},
     "nuid": "e37a2813-fca4-426b-b572-5657ab0079db",
     "showTitle": false,
     "title": ""
    }
   },
   "outputs": [
    {
     "output_type": "display_data",
     "data": {
      "image/png": "[encoded data removed]"
     },
     "metadata": {
      "application/vnd.databricks.v1+output": {
       "addedWidgets": {},
       "arguments": {},
       "data": "data:image/png;base64,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\n",
       "datasetInfos": [],
       "metadata": {},
       "removedWidgets": [],
       "type": "image"
      }
     },
     "output_type": "display_data"
    }
   ],
   "source": [
    "# Query the data for Frequency\n",
    "f = RFMScores.query('Frequency < 25')['Frequency']  # Given the max is 24, you might want to focus here\n",
    "\n",
    "# Set figure size\n",
    "plt.figure(figsize=(14, 8))  # Increase figure size for better visibility\n",
    "\n",
    "# Plot the distribution using seaborn's histplot\n",
    "sns.histplot(f, kde=True, bins=30)  # Increase the number of bins for more detail\n",
    "\n",
    "# Set x-axis limits to focus on the most relevant part of the data\n",
    "plt.xlim(17.5, 24.5)  # Narrow down to the most populated area\n",
    "\n",
    "# Set x-axis ticks to intervals of 0.5 for better granularity\n",
    "plt.xticks(range(18, 25, 1))\n",
    "\n",
    "# Add labels and title\n",
    "plt.xlabel('Frequency')\n",
    "plt.ylabel('Count')\n",
    "plt.title('Distribution of Frequency (Less than 25)')\n",
    "\n",
    "# Show the plot\n",
    "plt.show()\n"
   ]
  },
  {
   "cell_type": "code",
   "execution_count": 0,
   "metadata": {
    "application/vnd.databricks.v1+cell": {
     "cellMetadata": {
      "byteLimit": 2048000,
      "rowLimit": 10000
     },
     "inputWidgets": {},
     "nuid": "3a4e0a0e-f0dd-4092-a343-6b8f6e47e687",
     "showTitle": false,
     "title": ""
    }
   },
   "outputs": [
    {
     "output_type": "stream",
     "name": "stdout",
     "output_type": "stream",
     "text": [
      "Out[34]: count    3.193230e+05\nmean     4.434344e+02\nstd      8.159079e+03\nmin     -1.140291e+05\n25%      6.250293e+01\n50%      2.055436e+02\n75%      4.436525e+02\nmax      3.350008e+06\nName: Monetary, dtype: float64"
     ]
    }
   ],
   "source": [
    "# Descriptive Statistics (Monetary)\n",
    "RFMScores.Monetary.describe()"
   ]
  },
  {
   "cell_type": "code",
   "execution_count": 0,
   "metadata": {
    "application/vnd.databricks.v1+cell": {
     "cellMetadata": {
      "byteLimit": 2048000,
      "rowLimit": 10000
     },
     "inputWidgets": {},
     "nuid": "435bfe4a-ade6-45e7-a297-8f5cc7d8a4c6",
     "showTitle": false,
     "title": ""
    }
   },
   "outputs": [
    {
     "output_type": "display_data",
     "data": {
      "image/png": "[encoded data removed]"
     },
     "metadata": {
      "application/vnd.databricks.v1+output": {
       "addedWidgets": {},
       "arguments": {},
       "data": "data:image/png;base64,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\n",
       "datasetInfos": [],
       "metadata": {},
       "removedWidgets": [],
       "type": "image"
      }
     },
     "output_type": "display_data"
    }
   ],
   "source": [
    "import matplotlib.pyplot as plt\n",
    "import seaborn as sns\n",
    "\n",
    "# Query the data for Monetary < 10000\n",
    "m = RFMScores.query('Monetary < 10000')['Monetary']\n",
    "\n",
    "# Set figure size\n",
    "plt.figure(figsize=(14, 8))  # Increase figure size for better visibility\n",
    "\n",
    "# Plot the distribution using seaborn's histplot\n",
    "sns.histplot(m, kde=True, bins=100)  # Increase the number of bins for more detail\n",
    "\n",
    "# Set x-axis limits to focus on the most relevant part of the data\n",
    "plt.xlim(0, 10000)  # Adjust this as needed to zoom in on the most populated area\n",
    "\n",
    "# Set x-axis ticks to intervals of 500 or 1000 for better readability\n",
    "plt.xticks(range(0, 10000, 1000))\n",
    "\n",
    "# Add labels and title\n",
    "plt.xlabel('Monetary Value')\n",
    "plt.ylabel('Frequency')\n",
    "plt.title('Distribution of Monetary Value (Less than 10,000)')\n",
    "\n",
    "# Show the plot\n",
    "plt.show()\n"
   ]
  },
  {
   "cell_type": "code",
   "execution_count": 0,
   "metadata": {
    "application/vnd.databricks.v1+cell": {
     "cellMetadata": {
      "byteLimit": 2048000,
      "rowLimit": 10000
     },
     "inputWidgets": {},
     "nuid": "996b1e05-9f5a-4982-a0e0-728a91523975",
     "showTitle": false,
     "title": ""
    }
   },
   "outputs": [],
   "source": [
    "# Calculate segments\n",
    "segments = RFMScores[['Recency', 'Frequency', 'Monetary']].quantile(q=[0.2, 0.4, 0.6, 0.8])\n",
    "segments = segments.to_dict()"
   ]
  },
  {
   "cell_type": "code",
   "execution_count": 0,
   "metadata": {
    "application/vnd.databricks.v1+cell": {
     "cellMetadata": {
      "byteLimit": 2048000,
      "rowLimit": 10000
     },
     "inputWidgets": {},
     "nuid": "ff547b0b-33ce-4352-9b2d-6850770473a8",
     "showTitle": false,
     "title": ""
    }
   },
   "outputs": [],
   "source": [
    "# Functions to create R, F, and M segments\n",
    "def RScoring(x, p, d):\n",
    "    if x <= d[p][0.2]:\n",
    "        return 5\n",
    "    elif x <= d[p][0.4]:\n",
    "        return 4\n",
    "    elif x <= d[p][0.6]: \n",
    "        return 3\n",
    "    elif x <= d[p][0.8]: \n",
    "        return 2\n",
    "    else:\n",
    "        return 1\n",
    "    \n",
    "def FnMScoring(x, p, d):\n",
    "    if x <= d[p][0.2]:\n",
    "        return 1\n",
    "    elif x <= d[p][0.4]:\n",
    "        return 2\n",
    "    elif x <= d[p][0.6]: \n",
    "        return 3\n",
    "    elif x <= d[p][0.8]: \n",
    "        return 4\n",
    "    else:\n",
    "        return 5"
   ]
  },
  {
   "cell_type": "code",
   "execution_count": 0,
   "metadata": {
    "application/vnd.databricks.v1+cell": {
     "cellMetadata": {
      "byteLimit": 2048000,
      "rowLimit": 10000
     },
     "inputWidgets": {},
     "nuid": "992fc3f5-4ab3-4964-bf67-d02547132441",
     "showTitle": false,
     "title": ""
    }
   },
   "outputs": [
    {
     "output_type": "display_data",
     "data": {
      "text/html": [
       "<div>\n",
       "<style scoped>\n",
       "    .dataframe tbody tr th:only-of-type {\n",
       "        vertical-align: middle;\n",
       "    }\n",
       "\n",
       "    .dataframe tbody tr th {\n",
       "        vertical-align: top;\n",
       "    }\n",
       "\n",
       "    .dataframe thead th {\n",
       "        text-align: right;\n",
       "    }\n",
       "</style>\n",
       "<table border=\"1\" class=\"dataframe\">\n",
       "  <thead>\n",
       "    <tr style=\"text-align: right;\">\n",
       "      <th></th>\n",
       "      <th>CustomerID</th>\n",
       "      <th>Recency</th>\n",
       "      <th>Frequency</th>\n",
       "      <th>Monetary</th>\n",
       "      <th>R</th>\n",
       "      <th>F</th>\n",
       "      <th>M</th>\n",
       "    </tr>\n",
       "  </thead>\n",
       "  <tbody>\n",
       "    <tr>\n",
       "      <th>0</th>\n",
       "      <td>12353.990284</td>\n",
       "      <td>325</td>\n",
       "      <td>18</td>\n",
       "      <td>1.286841e+06</td>\n",
       "      <td>1</td>\n",
       "      <td>1</td>\n",
       "      <td>5</td>\n",
       "    </tr>\n",
       "    <tr>\n",
       "      <th>1</th>\n",
       "      <td>12690.872298</td>\n",
       "      <td>31</td>\n",
       "      <td>19</td>\n",
       "      <td>4.491482e+02</td>\n",
       "      <td>5</td>\n",
       "      <td>4</td>\n",
       "      <td>4</td>\n",
       "    </tr>\n",
       "    <tr>\n",
       "      <th>2</th>\n",
       "      <td>12694.656520</td>\n",
       "      <td>28</td>\n",
       "      <td>18</td>\n",
       "      <td>2.363174e+02</td>\n",
       "      <td>5</td>\n",
       "      <td>1</td>\n",
       "      <td>3</td>\n",
       "    </tr>\n",
       "    <tr>\n",
       "      <th>3</th>\n",
       "      <td>12695.834433</td>\n",
       "      <td>30</td>\n",
       "      <td>19</td>\n",
       "      <td>6.262581e+02</td>\n",
       "      <td>5</td>\n",
       "      <td>4</td>\n",
       "      <td>5</td>\n",
       "    </tr>\n",
       "    <tr>\n",
       "      <th>4</th>\n",
       "      <td>12696.097291</td>\n",
       "      <td>14</td>\n",
       "      <td>20</td>\n",
       "      <td>4.554975e+02</td>\n",
       "      <td>5</td>\n",
       "      <td>5</td>\n",
       "      <td>4</td>\n",
       "    </tr>\n",
       "  </tbody>\n",
       "</table>\n",
       "</div>"
      ]
     },
     "metadata": {
      "application/vnd.databricks.v1+output": {
       "addedWidgets": {},
       "arguments": {},
       "data": "<div>\n<style scoped>\n    .dataframe tbody tr th:only-of-type {\n        vertical-align: middle;\n    }\n\n    .dataframe tbody tr th {\n        vertical-align: top;\n    }\n\n    .dataframe thead th {\n        text-align: right;\n    }\n</style>\n<table border=\"1\" class=\"dataframe\">\n  <thead>\n    <tr style=\"text-align: right;\">\n      <th></th>\n      <th>CustomerID</th>\n      <th>Recency</th>\n      <th>Frequency</th>\n      <th>Monetary</th>\n      <th>R</th>\n      <th>F</th>\n      <th>M</th>\n    </tr>\n  </thead>\n  <tbody>\n    <tr>\n      <th>0</th>\n      <td>12353.990284</td>\n      <td>325</td>\n      <td>18</td>\n      <td>1.286841e+06</td>\n      <td>1</td>\n      <td>1</td>\n      <td>5</td>\n    </tr>\n    <tr>\n      <th>1</th>\n      <td>12690.872298</td>\n      <td>31</td>\n      <td>19</td>\n      <td>4.491482e+02</td>\n      <td>5</td>\n      <td>4</td>\n      <td>4</td>\n    </tr>\n    <tr>\n      <th>2</th>\n      <td>12694.656520</td>\n      <td>28</td>\n      <td>18</td>\n      <td>2.363174e+02</td>\n      <td>5</td>\n      <td>1</td>\n      <td>3</td>\n    </tr>\n    <tr>\n      <th>3</th>\n      <td>12695.834433</td>\n      <td>30</td>\n      <td>19</td>\n      <td>6.262581e+02</td>\n      <td>5</td>\n      <td>4</td>\n      <td>5</td>\n    </tr>\n    <tr>\n      <th>4</th>\n      <td>12696.097291</td>\n      <td>14</td>\n      <td>20</td>\n      <td>4.554975e+02</td>\n      <td>5</td>\n      <td>5</td>\n      <td>4</td>\n    </tr>\n  </tbody>\n</table>\n</div>",
       "datasetInfos": [],
       "metadata": {},
       "removedWidgets": [],
       "textData": null,
       "type": "htmlSandbox"
      }
     },
     "output_type": "display_data"
    }
   ],
   "source": [
    "# Create R, F, and M segments\n",
    "RFMScores['R'] = RFMScores['Recency'].apply(RScoring, args=('Recency', segments))\n",
    "RFMScores['F'] = RFMScores['Frequency'].apply(FnMScoring, args=('Frequency', segments))\n",
    "RFMScores['M'] = RFMScores['Monetary'].apply(FnMScoring, args=('Monetary', segments))\n",
    "\n",
    "RFMScores.head()"
   ]
  },
  {
   "cell_type": "code",
   "execution_count": 0,
   "metadata": {
    "application/vnd.databricks.v1+cell": {
     "cellMetadata": {
      "byteLimit": 2048000,
      "rowLimit": 10000
     },
     "inputWidgets": {},
     "nuid": "5d83fc33-6a69-4366-bd7b-08f896a867d2",
     "showTitle": false,
     "title": ""
    }
   },
   "outputs": [
    {
     "output_type": "display_data",
     "data": {
      "text/html": [
       "<div>\n",
       "<style scoped>\n",
       "    .dataframe tbody tr th:only-of-type {\n",
       "        vertical-align: middle;\n",
       "    }\n",
       "\n",
       "    .dataframe tbody tr th {\n",
       "        vertical-align: top;\n",
       "    }\n",
       "\n",
       "    .dataframe thead th {\n",
       "        text-align: right;\n",
       "    }\n",
       "</style>\n",
       "<table border=\"1\" class=\"dataframe\">\n",
       "  <thead>\n",
       "    <tr style=\"text-align: right;\">\n",
       "      <th></th>\n",
       "      <th>CustomerID</th>\n",
       "      <th>Recency</th>\n",
       "      <th>Frequency</th>\n",
       "      <th>Monetary</th>\n",
       "      <th>R</th>\n",
       "      <th>F</th>\n",
       "      <th>M</th>\n",
       "      <th>RFMGroup</th>\n",
       "      <th>RFMScore</th>\n",
       "    </tr>\n",
       "  </thead>\n",
       "  <tbody>\n",
       "    <tr>\n",
       "      <th>0</th>\n",
       "      <td>12353.990284</td>\n",
       "      <td>325</td>\n",
       "      <td>18</td>\n",
       "      <td>1.286841e+06</td>\n",
       "      <td>1</td>\n",
       "      <td>1</td>\n",
       "      <td>5</td>\n",
       "      <td>115</td>\n",
       "      <td>7</td>\n",
       "    </tr>\n",
       "    <tr>\n",
       "      <th>1</th>\n",
       "      <td>12690.872298</td>\n",
       "      <td>31</td>\n",
       "      <td>19</td>\n",
       "      <td>4.491482e+02</td>\n",
       "      <td>5</td>\n",
       "      <td>4</td>\n",
       "      <td>4</td>\n",
       "      <td>544</td>\n",
       "      <td>13</td>\n",
       "    </tr>\n",
       "    <tr>\n",
       "      <th>2</th>\n",
       "      <td>12694.656520</td>\n",
       "      <td>28</td>\n",
       "      <td>18</td>\n",
       "      <td>2.363174e+02</td>\n",
       "      <td>5</td>\n",
       "      <td>1</td>\n",
       "      <td>3</td>\n",
       "      <td>513</td>\n",
       "      <td>9</td>\n",
       "    </tr>\n",
       "    <tr>\n",
       "      <th>3</th>\n",
       "      <td>12695.834433</td>\n",
       "      <td>30</td>\n",
       "      <td>19</td>\n",
       "      <td>6.262581e+02</td>\n",
       "      <td>5</td>\n",
       "      <td>4</td>\n",
       "      <td>5</td>\n",
       "      <td>545</td>\n",
       "      <td>14</td>\n",
       "    </tr>\n",
       "    <tr>\n",
       "      <th>4</th>\n",
       "      <td>12696.097291</td>\n",
       "      <td>14</td>\n",
       "      <td>20</td>\n",
       "      <td>4.554975e+02</td>\n",
       "      <td>5</td>\n",
       "      <td>5</td>\n",
       "      <td>4</td>\n",
       "      <td>554</td>\n",
       "      <td>14</td>\n",
       "    </tr>\n",
       "  </tbody>\n",
       "</table>\n",
       "</div>"
      ]
     },
     "metadata": {
      "application/vnd.databricks.v1+output": {
       "addedWidgets": {},
       "arguments": {},
       "data": "<div>\n<style scoped>\n    .dataframe tbody tr th:only-of-type {\n        vertical-align: middle;\n    }\n\n    .dataframe tbody tr th {\n        vertical-align: top;\n    }\n\n    .dataframe thead th {\n        text-align: right;\n    }\n</style>\n<table border=\"1\" class=\"dataframe\">\n  <thead>\n    <tr style=\"text-align: right;\">\n      <th></th>\n      <th>CustomerID</th>\n      <th>Recency</th>\n      <th>Frequency</th>\n      <th>Monetary</th>\n      <th>R</th>\n      <th>F</th>\n      <th>M</th>\n      <th>RFMGroup</th>\n      <th>RFMScore</th>\n    </tr>\n  </thead>\n  <tbody>\n    <tr>\n      <th>0</th>\n      <td>12353.990284</td>\n      <td>325</td>\n      <td>18</td>\n      <td>1.286841e+06</td>\n      <td>1</td>\n      <td>1</td>\n      <td>5</td>\n      <td>115</td>\n      <td>7</td>\n    </tr>\n    <tr>\n      <th>1</th>\n      <td>12690.872298</td>\n      <td>31</td>\n      <td>19</td>\n      <td>4.491482e+02</td>\n      <td>5</td>\n      <td>4</td>\n      <td>4</td>\n      <td>544</td>\n      <td>13</td>\n    </tr>\n    <tr>\n      <th>2</th>\n      <td>12694.656520</td>\n      <td>28</td>\n      <td>18</td>\n      <td>2.363174e+02</td>\n      <td>5</td>\n      <td>1</td>\n      <td>3</td>\n      <td>513</td>\n      <td>9</td>\n    </tr>\n    <tr>\n      <th>3</th>\n      <td>12695.834433</td>\n      <td>30</td>\n      <td>19</td>\n      <td>6.262581e+02</td>\n      <td>5</td>\n      <td>4</td>\n      <td>5</td>\n      <td>545</td>\n      <td>14</td>\n    </tr>\n    <tr>\n      <th>4</th>\n      <td>12696.097291</td>\n      <td>14</td>\n      <td>20</td>\n      <td>4.554975e+02</td>\n      <td>5</td>\n      <td>5</td>\n      <td>4</td>\n      <td>554</td>\n      <td>14</td>\n    </tr>\n  </tbody>\n</table>\n</div>",
       "datasetInfos": [],
       "metadata": {},
       "removedWidgets": [],
       "textData": null,
       "type": "htmlSandbox"
      }
     },
     "output_type": "display_data"
    }
   ],
   "source": [
    "# Combine R, F, and M segments\n",
    "RFMScores['RFMGroup'] = RFMScores['R'].map(str) + RFMScores['F'].map(str) + RFMScores['M'].map(str)\n",
    "\n",
    "# Calculate and Add RFMScore value column showing total sum of RFMGroup values\n",
    "RFMScores['RFMScore'] = RFMScores[['R', 'F', 'M']].sum(axis = 1)\n",
    "\n",
    "RFMScores.head()"
   ]
  },
  {
   "cell_type": "code",
   "execution_count": 0,
   "metadata": {
    "application/vnd.databricks.v1+cell": {
     "cellMetadata": {
      "byteLimit": 2048000,
      "rowLimit": 10000
     },
     "inputWidgets": {},
     "nuid": "418a5aca-e15f-423f-afc1-c801101a4079",
     "showTitle": false,
     "title": ""
    }
   },
   "outputs": [
    {
     "output_type": "display_data",
     "data": {
      "text/html": [
       "<div>\n",
       "<style scoped>\n",
       "    .dataframe tbody tr th:only-of-type {\n",
       "        vertical-align: middle;\n",
       "    }\n",
       "\n",
       "    .dataframe tbody tr th {\n",
       "        vertical-align: top;\n",
       "    }\n",
       "\n",
       "    .dataframe thead th {\n",
       "        text-align: right;\n",
       "    }\n",
       "</style>\n",
       "<table border=\"1\" class=\"dataframe\">\n",
       "  <thead>\n",
       "    <tr style=\"text-align: right;\">\n",
       "      <th></th>\n",
       "      <th>CustomerID</th>\n",
       "      <th>Recency</th>\n",
       "      <th>Frequency</th>\n",
       "      <th>Monetary</th>\n",
       "      <th>R</th>\n",
       "      <th>F</th>\n",
       "      <th>M</th>\n",
       "      <th>RFMGroup</th>\n",
       "      <th>RFMScore</th>\n",
       "      <th>RFM_Loyalty_Level</th>\n",
       "    </tr>\n",
       "  </thead>\n",
       "  <tbody>\n",
       "    <tr>\n",
       "      <th>0</th>\n",
       "      <td>12353.990284</td>\n",
       "      <td>325</td>\n",
       "      <td>18</td>\n",
       "      <td>1.286841e+06</td>\n",
       "      <td>1</td>\n",
       "      <td>1</td>\n",
       "      <td>5</td>\n",
       "      <td>115</td>\n",
       "      <td>7</td>\n",
       "      <td>Silver</td>\n",
       "    </tr>\n",
       "    <tr>\n",
       "      <th>1</th>\n",
       "      <td>12690.872298</td>\n",
       "      <td>31</td>\n",
       "      <td>19</td>\n",
       "      <td>4.491482e+02</td>\n",
       "      <td>5</td>\n",
       "      <td>4</td>\n",
       "      <td>4</td>\n",
       "      <td>544</td>\n",
       "      <td>13</td>\n",
       "      <td>Diamond</td>\n",
       "    </tr>\n",
       "    <tr>\n",
       "      <th>2</th>\n",
       "      <td>12694.656520</td>\n",
       "      <td>28</td>\n",
       "      <td>18</td>\n",
       "      <td>2.363174e+02</td>\n",
       "      <td>5</td>\n",
       "      <td>1</td>\n",
       "      <td>3</td>\n",
       "      <td>513</td>\n",
       "      <td>9</td>\n",
       "      <td>Gold</td>\n",
       "    </tr>\n",
       "    <tr>\n",
       "      <th>3</th>\n",
       "      <td>12695.834433</td>\n",
       "      <td>30</td>\n",
       "      <td>19</td>\n",
       "      <td>6.262581e+02</td>\n",
       "      <td>5</td>\n",
       "      <td>4</td>\n",
       "      <td>5</td>\n",
       "      <td>545</td>\n",
       "      <td>14</td>\n",
       "      <td>Diamond</td>\n",
       "    </tr>\n",
       "    <tr>\n",
       "      <th>4</th>\n",
       "      <td>12696.097291</td>\n",
       "      <td>14</td>\n",
       "      <td>20</td>\n",
       "      <td>4.554975e+02</td>\n",
       "      <td>5</td>\n",
       "      <td>5</td>\n",
       "      <td>4</td>\n",
       "      <td>554</td>\n",
       "      <td>14</td>\n",
       "      <td>Diamond</td>\n",
       "    </tr>\n",
       "  </tbody>\n",
       "</table>\n",
       "</div>"
      ]
     },
     "metadata": {
      "application/vnd.databricks.v1+output": {
       "addedWidgets": {},
       "arguments": {},
       "data": "<div>\n<style scoped>\n    .dataframe tbody tr th:only-of-type {\n        vertical-align: middle;\n    }\n\n    .dataframe tbody tr th {\n        vertical-align: top;\n    }\n\n    .dataframe thead th {\n        text-align: right;\n    }\n</style>\n<table border=\"1\" class=\"dataframe\">\n  <thead>\n    <tr style=\"text-align: right;\">\n      <th></th>\n      <th>CustomerID</th>\n      <th>Recency</th>\n      <th>Frequency</th>\n      <th>Monetary</th>\n      <th>R</th>\n      <th>F</th>\n      <th>M</th>\n      <th>RFMGroup</th>\n      <th>RFMScore</th>\n      <th>RFM_Loyalty_Level</th>\n    </tr>\n  </thead>\n  <tbody>\n    <tr>\n      <th>0</th>\n      <td>12353.990284</td>\n      <td>325</td>\n      <td>18</td>\n      <td>1.286841e+06</td>\n      <td>1</td>\n      <td>1</td>\n      <td>5</td>\n      <td>115</td>\n      <td>7</td>\n      <td>Silver</td>\n    </tr>\n    <tr>\n      <th>1</th>\n      <td>12690.872298</td>\n      <td>31</td>\n      <td>19</td>\n      <td>4.491482e+02</td>\n      <td>5</td>\n      <td>4</td>\n      <td>4</td>\n      <td>544</td>\n      <td>13</td>\n      <td>Diamond</td>\n    </tr>\n    <tr>\n      <th>2</th>\n      <td>12694.656520</td>\n      <td>28</td>\n      <td>18</td>\n      <td>2.363174e+02</td>\n      <td>5</td>\n      <td>1</td>\n      <td>3</td>\n      <td>513</td>\n      <td>9</td>\n      <td>Gold</td>\n    </tr>\n    <tr>\n      <th>3</th>\n      <td>12695.834433</td>\n      <td>30</td>\n      <td>19</td>\n      <td>6.262581e+02</td>\n      <td>5</td>\n      <td>4</td>\n      <td>5</td>\n      <td>545</td>\n      <td>14</td>\n      <td>Diamond</td>\n    </tr>\n    <tr>\n      <th>4</th>\n      <td>12696.097291</td>\n      <td>14</td>\n      <td>20</td>\n      <td>4.554975e+02</td>\n      <td>5</td>\n      <td>5</td>\n      <td>4</td>\n      <td>554</td>\n      <td>14</td>\n      <td>Diamond</td>\n    </tr>\n  </tbody>\n</table>\n</div>",
       "datasetInfos": [],
       "metadata": {},
       "removedWidgets": [],
       "textData": null,
       "type": "htmlSandbox"
      }
     },
     "output_type": "display_data"
    }
   ],
   "source": [
    "# Assign Loyalty Level to each customer\n",
    "\n",
    "Loyalty_Level = ['Basic', 'Silver', 'Gold', 'Platinum', 'Diamond']\n",
    "Score_cuts = pd.qcut(RFMScores.RFMScore, q=5, labels=Loyalty_Level)\n",
    "RFMScores['RFM_Loyalty_Level'] = Score_cuts.values\n",
    "\n",
    "RFMScores.head()"
   ]
  },
  {
   "cell_type": "code",
   "execution_count": 0,
   "metadata": {
    "application/vnd.databricks.v1+cell": {
     "cellMetadata": {
      "byteLimit": 2048000,
      "rowLimit": 10000
     },
     "inputWidgets": {},
     "nuid": "a6f7c30a-c918-478b-b07c-dcd64c5f7fd8",
     "showTitle": false,
     "title": ""
    }
   },
   "outputs": [
    {
     "output_type": "display_data",
     "data": {
      "text/html": [
       "<div>\n",
       "<style scoped>\n",
       "    .dataframe tbody tr th:only-of-type {\n",
       "        vertical-align: middle;\n",
       "    }\n",
       "\n",
       "    .dataframe tbody tr th {\n",
       "        vertical-align: top;\n",
       "    }\n",
       "\n",
       "    .dataframe thead th {\n",
       "        text-align: right;\n",
       "    }\n",
       "</style>\n",
       "<table border=\"1\" class=\"dataframe\">\n",
       "  <thead>\n",
       "    <tr style=\"text-align: right;\">\n",
       "      <th></th>\n",
       "      <th>CustomerID</th>\n",
       "      <th>Recency</th>\n",
       "      <th>Frequency</th>\n",
       "      <th>Monetary</th>\n",
       "      <th>R</th>\n",
       "      <th>F</th>\n",
       "      <th>M</th>\n",
       "      <th>RFMGroup</th>\n",
       "      <th>RFMScore</th>\n",
       "      <th>RFM_Loyalty_Level</th>\n",
       "    </tr>\n",
       "  </thead>\n",
       "  <tbody>\n",
       "    <tr>\n",
       "      <th>66824</th>\n",
       "      <td>14039.548558</td>\n",
       "      <td>284</td>\n",
       "      <td>18</td>\n",
       "      <td>40.701314</td>\n",
       "      <td>1</td>\n",
       "      <td>1</td>\n",
       "      <td>1</td>\n",
       "      <td>111</td>\n",
       "      <td>3</td>\n",
       "      <td>Basic</td>\n",
       "    </tr>\n",
       "    <tr>\n",
       "      <th>255045</th>\n",
       "      <td>17229.493023</td>\n",
       "      <td>300</td>\n",
       "      <td>18</td>\n",
       "      <td>40.694044</td>\n",
       "      <td>1</td>\n",
       "      <td>1</td>\n",
       "      <td>1</td>\n",
       "      <td>111</td>\n",
       "      <td>3</td>\n",
       "      <td>Basic</td>\n",
       "    </tr>\n",
       "    <tr>\n",
       "      <th>255418</th>\n",
       "      <td>17234.487880</td>\n",
       "      <td>312</td>\n",
       "      <td>18</td>\n",
       "      <td>40.689890</td>\n",
       "      <td>1</td>\n",
       "      <td>1</td>\n",
       "      <td>1</td>\n",
       "      <td>111</td>\n",
       "      <td>3</td>\n",
       "      <td>Basic</td>\n",
       "    </tr>\n",
       "    <tr>\n",
       "      <th>5471</th>\n",
       "      <td>12847.001288</td>\n",
       "      <td>279</td>\n",
       "      <td>18</td>\n",
       "      <td>40.688857</td>\n",
       "      <td>1</td>\n",
       "      <td>1</td>\n",
       "      <td>1</td>\n",
       "      <td>111</td>\n",
       "      <td>3</td>\n",
       "      <td>Basic</td>\n",
       "    </tr>\n",
       "    <tr>\n",
       "      <th>209731</th>\n",
       "      <td>16421.403613</td>\n",
       "      <td>341</td>\n",
       "      <td>18</td>\n",
       "      <td>40.685704</td>\n",
       "      <td>1</td>\n",
       "      <td>1</td>\n",
       "      <td>1</td>\n",
       "      <td>111</td>\n",
       "      <td>3</td>\n",
       "      <td>Basic</td>\n",
       "    </tr>\n",
       "    <tr>\n",
       "      <th>174779</th>\n",
       "      <td>15750.586166</td>\n",
       "      <td>358</td>\n",
       "      <td>18</td>\n",
       "      <td>40.683164</td>\n",
       "      <td>1</td>\n",
       "      <td>1</td>\n",
       "      <td>1</td>\n",
       "      <td>111</td>\n",
       "      <td>3</td>\n",
       "      <td>Basic</td>\n",
       "    </tr>\n",
       "    <tr>\n",
       "      <th>274788</th>\n",
       "      <td>17579.369701</td>\n",
       "      <td>312</td>\n",
       "      <td>18</td>\n",
       "      <td>40.668616</td>\n",
       "      <td>1</td>\n",
       "      <td>1</td>\n",
       "      <td>1</td>\n",
       "      <td>111</td>\n",
       "      <td>3</td>\n",
       "      <td>Basic</td>\n",
       "    </tr>\n",
       "    <tr>\n",
       "      <th>306330</th>\n",
       "      <td>18024.885090</td>\n",
       "      <td>301</td>\n",
       "      <td>18</td>\n",
       "      <td>40.639547</td>\n",
       "      <td>1</td>\n",
       "      <td>1</td>\n",
       "      <td>1</td>\n",
       "      <td>111</td>\n",
       "      <td>3</td>\n",
       "      <td>Basic</td>\n",
       "    </tr>\n",
       "    <tr>\n",
       "      <th>72831</th>\n",
       "      <td>14092.828918</td>\n",
       "      <td>637</td>\n",
       "      <td>18</td>\n",
       "      <td>40.634521</td>\n",
       "      <td>1</td>\n",
       "      <td>1</td>\n",
       "      <td>1</td>\n",
       "      <td>111</td>\n",
       "      <td>3</td>\n",
       "      <td>Basic</td>\n",
       "    </tr>\n",
       "    <tr>\n",
       "      <th>232295</th>\n",
       "      <td>16806.776060</td>\n",
       "      <td>360</td>\n",
       "      <td>18</td>\n",
       "      <td>40.632480</td>\n",
       "      <td>1</td>\n",
       "      <td>1</td>\n",
       "      <td>1</td>\n",
       "      <td>111</td>\n",
       "      <td>3</td>\n",
       "      <td>Basic</td>\n",
       "    </tr>\n",
       "  </tbody>\n",
       "</table>\n",
       "</div>"
      ]
     },
     "metadata": {
      "application/vnd.databricks.v1+output": {
       "addedWidgets": {},
       "arguments": {},
       "data": "<div>\n<style scoped>\n    .dataframe tbody tr th:only-of-type {\n        vertical-align: middle;\n    }\n\n    .dataframe tbody tr th {\n        vertical-align: top;\n    }\n\n    .dataframe thead th {\n        text-align: right;\n    }\n</style>\n<table border=\"1\" class=\"dataframe\">\n  <thead>\n    <tr style=\"text-align: right;\">\n      <th></th>\n      <th>CustomerID</th>\n      <th>Recency</th>\n      <th>Frequency</th>\n      <th>Monetary</th>\n      <th>R</th>\n      <th>F</th>\n      <th>M</th>\n      <th>RFMGroup</th>\n      <th>RFMScore</th>\n      <th>RFM_Loyalty_Level</th>\n    </tr>\n  </thead>\n  <tbody>\n    <tr>\n      <th>66824</th>\n      <td>14039.548558</td>\n      <td>284</td>\n      <td>18</td>\n      <td>40.701314</td>\n      <td>1</td>\n      <td>1</td>\n      <td>1</td>\n      <td>111</td>\n      <td>3</td>\n      <td>Basic</td>\n    </tr>\n    <tr>\n      <th>255045</th>\n      <td>17229.493023</td>\n      <td>300</td>\n      <td>18</td>\n      <td>40.694044</td>\n      <td>1</td>\n      <td>1</td>\n      <td>1</td>\n      <td>111</td>\n      <td>3</td>\n      <td>Basic</td>\n    </tr>\n    <tr>\n      <th>255418</th>\n      <td>17234.487880</td>\n      <td>312</td>\n      <td>18</td>\n      <td>40.689890</td>\n      <td>1</td>\n      <td>1</td>\n      <td>1</td>\n      <td>111</td>\n      <td>3</td>\n      <td>Basic</td>\n    </tr>\n    <tr>\n      <th>5471</th>\n      <td>12847.001288</td>\n      <td>279</td>\n      <td>18</td>\n      <td>40.688857</td>\n      <td>1</td>\n      <td>1</td>\n      <td>1</td>\n      <td>111</td>\n      <td>3</td>\n      <td>Basic</td>\n    </tr>\n    <tr>\n      <th>209731</th>\n      <td>16421.403613</td>\n      <td>341</td>\n      <td>18</td>\n      <td>40.685704</td>\n      <td>1</td>\n      <td>1</td>\n      <td>1</td>\n      <td>111</td>\n      <td>3</td>\n      <td>Basic</td>\n    </tr>\n    <tr>\n      <th>174779</th>\n      <td>15750.586166</td>\n      <td>358</td>\n      <td>18</td>\n      <td>40.683164</td>\n      <td>1</td>\n      <td>1</td>\n      <td>1</td>\n      <td>111</td>\n      <td>3</td>\n      <td>Basic</td>\n    </tr>\n    <tr>\n      <th>274788</th>\n      <td>17579.369701</td>\n      <td>312</td>\n      <td>18</td>\n      <td>40.668616</td>\n      <td>1</td>\n      <td>1</td>\n      <td>1</td>\n      <td>111</td>\n      <td>3</td>\n      <td>Basic</td>\n    </tr>\n    <tr>\n      <th>306330</th>\n      <td>18024.885090</td>\n      <td>301</td>\n      <td>18</td>\n      <td>40.639547</td>\n      <td>1</td>\n      <td>1</td>\n      <td>1</td>\n      <td>111</td>\n      <td>3</td>\n      <td>Basic</td>\n    </tr>\n    <tr>\n      <th>72831</th>\n      <td>14092.828918</td>\n      <td>637</td>\n      <td>18</td>\n      <td>40.634521</td>\n      <td>1</td>\n      <td>1</td>\n      <td>1</td>\n      <td>111</td>\n      <td>3</td>\n      <td>Basic</td>\n    </tr>\n    <tr>\n      <th>232295</th>\n      <td>16806.776060</td>\n      <td>360</td>\n      <td>18</td>\n      <td>40.632480</td>\n      <td>1</td>\n      <td>1</td>\n      <td>1</td>\n      <td>111</td>\n      <td>3</td>\n      <td>Basic</td>\n    </tr>\n  </tbody>\n</table>\n</div>",
       "datasetInfos": [],
       "metadata": {},
       "removedWidgets": [],
       "textData": null,
       "type": "htmlSandbox"
      }
     },
     "output_type": "display_data"
    }
   ],
   "source": [
    "# Validate the data for RFMGroup = 111\n",
    "RFMScores[RFMScores['RFMGroup']=='111'].sort_values('Monetary', ascending=False).head(10)"
   ]
  },
  {
   "cell_type": "code",
   "execution_count": 0,
   "metadata": {
    "application/vnd.databricks.v1+cell": {
     "cellMetadata": {
      "byteLimit": 2048000,
      "rowLimit": 10000
     },
     "inputWidgets": {},
     "nuid": "0cfa20b7-e10b-41af-9a68-0101cf1ab587",
     "showTitle": false,
     "title": ""
    }
   },
   "outputs": [
    {
     "output_type": "display_data",
     "data": {
      "text/html": [
       "<div>\n",
       "<style scoped>\n",
       "    .dataframe tbody tr th:only-of-type {\n",
       "        vertical-align: middle;\n",
       "    }\n",
       "\n",
       "    .dataframe tbody tr th {\n",
       "        vertical-align: top;\n",
       "    }\n",
       "\n",
       "    .dataframe thead th {\n",
       "        text-align: right;\n",
       "    }\n",
       "</style>\n",
       "<table border=\"1\" class=\"dataframe\">\n",
       "  <thead>\n",
       "    <tr style=\"text-align: right;\">\n",
       "      <th></th>\n",
       "      <th>CustomerID</th>\n",
       "      <th>Recency</th>\n",
       "      <th>Frequency</th>\n",
       "      <th>Monetary</th>\n",
       "      <th>R</th>\n",
       "      <th>F</th>\n",
       "      <th>M</th>\n",
       "      <th>RFMGroup</th>\n",
       "      <th>RFMScore</th>\n",
       "      <th>RFM_Loyalty_Level</th>\n",
       "    </tr>\n",
       "  </thead>\n",
       "  <tbody>\n",
       "    <tr>\n",
       "      <th>268387</th>\n",
       "      <td>17456.576019</td>\n",
       "      <td>38</td>\n",
       "      <td>21</td>\n",
       "      <td>79979.779072</td>\n",
       "      <td>5</td>\n",
       "      <td>5</td>\n",
       "      <td>5</td>\n",
       "      <td>555</td>\n",
       "      <td>15</td>\n",
       "      <td>Diamond</td>\n",
       "    </tr>\n",
       "    <tr>\n",
       "      <th>268542</th>\n",
       "      <td>17460.066537</td>\n",
       "      <td>38</td>\n",
       "      <td>20</td>\n",
       "      <td>59859.156521</td>\n",
       "      <td>5</td>\n",
       "      <td>5</td>\n",
       "      <td>5</td>\n",
       "      <td>555</td>\n",
       "      <td>15</td>\n",
       "      <td>Diamond</td>\n",
       "    </tr>\n",
       "    <tr>\n",
       "      <th>71586</th>\n",
       "      <td>14084.813729</td>\n",
       "      <td>16</td>\n",
       "      <td>20</td>\n",
       "      <td>52897.144245</td>\n",
       "      <td>5</td>\n",
       "      <td>5</td>\n",
       "      <td>5</td>\n",
       "      <td>555</td>\n",
       "      <td>15</td>\n",
       "      <td>Diamond</td>\n",
       "    </tr>\n",
       "    <tr>\n",
       "      <th>9838</th>\n",
       "      <td>12943.930817</td>\n",
       "      <td>31</td>\n",
       "      <td>20</td>\n",
       "      <td>16505.791906</td>\n",
       "      <td>5</td>\n",
       "      <td>5</td>\n",
       "      <td>5</td>\n",
       "      <td>555</td>\n",
       "      <td>15</td>\n",
       "      <td>Diamond</td>\n",
       "    </tr>\n",
       "    <tr>\n",
       "      <th>267031</th>\n",
       "      <td>17431.910094</td>\n",
       "      <td>38</td>\n",
       "      <td>20</td>\n",
       "      <td>14656.950157</td>\n",
       "      <td>5</td>\n",
       "      <td>5</td>\n",
       "      <td>5</td>\n",
       "      <td>555</td>\n",
       "      <td>15</td>\n",
       "      <td>Diamond</td>\n",
       "    </tr>\n",
       "    <tr>\n",
       "      <th>267177</th>\n",
       "      <td>17434.392951</td>\n",
       "      <td>25</td>\n",
       "      <td>20</td>\n",
       "      <td>12575.575031</td>\n",
       "      <td>5</td>\n",
       "      <td>5</td>\n",
       "      <td>5</td>\n",
       "      <td>555</td>\n",
       "      <td>15</td>\n",
       "      <td>Diamond</td>\n",
       "    </tr>\n",
       "    <tr>\n",
       "      <th>266765</th>\n",
       "      <td>17427.355644</td>\n",
       "      <td>18</td>\n",
       "      <td>20</td>\n",
       "      <td>11078.963693</td>\n",
       "      <td>5</td>\n",
       "      <td>5</td>\n",
       "      <td>5</td>\n",
       "      <td>555</td>\n",
       "      <td>15</td>\n",
       "      <td>Diamond</td>\n",
       "    </tr>\n",
       "    <tr>\n",
       "      <th>9652</th>\n",
       "      <td>12940.702981</td>\n",
       "      <td>36</td>\n",
       "      <td>20</td>\n",
       "      <td>10435.614987</td>\n",
       "      <td>5</td>\n",
       "      <td>5</td>\n",
       "      <td>5</td>\n",
       "      <td>555</td>\n",
       "      <td>15</td>\n",
       "      <td>Diamond</td>\n",
       "    </tr>\n",
       "    <tr>\n",
       "      <th>16911</th>\n",
       "      <td>13073.827338</td>\n",
       "      <td>34</td>\n",
       "      <td>21</td>\n",
       "      <td>9980.790405</td>\n",
       "      <td>5</td>\n",
       "      <td>5</td>\n",
       "      <td>5</td>\n",
       "      <td>555</td>\n",
       "      <td>15</td>\n",
       "      <td>Diamond</td>\n",
       "    </tr>\n",
       "    <tr>\n",
       "      <th>271610</th>\n",
       "      <td>17520.532777</td>\n",
       "      <td>16</td>\n",
       "      <td>20</td>\n",
       "      <td>9607.051513</td>\n",
       "      <td>5</td>\n",
       "      <td>5</td>\n",
       "      <td>5</td>\n",
       "      <td>555</td>\n",
       "      <td>15</td>\n",
       "      <td>Diamond</td>\n",
       "    </tr>\n",
       "  </tbody>\n",
       "</table>\n",
       "</div>"
      ]
     },
     "metadata": {
      "application/vnd.databricks.v1+output": {
       "addedWidgets": {},
       "arguments": {},
       "data": "<div>\n<style scoped>\n    .dataframe tbody tr th:only-of-type {\n        vertical-align: middle;\n    }\n\n    .dataframe tbody tr th {\n        vertical-align: top;\n    }\n\n    .dataframe thead th {\n        text-align: right;\n    }\n</style>\n<table border=\"1\" class=\"dataframe\">\n  <thead>\n    <tr style=\"text-align: right;\">\n      <th></th>\n      <th>CustomerID</th>\n      <th>Recency</th>\n      <th>Frequency</th>\n      <th>Monetary</th>\n      <th>R</th>\n      <th>F</th>\n      <th>M</th>\n      <th>RFMGroup</th>\n      <th>RFMScore</th>\n      <th>RFM_Loyalty_Level</th>\n    </tr>\n  </thead>\n  <tbody>\n    <tr>\n      <th>268387</th>\n      <td>17456.576019</td>\n      <td>38</td>\n      <td>21</td>\n      <td>79979.779072</td>\n      <td>5</td>\n      <td>5</td>\n      <td>5</td>\n      <td>555</td>\n      <td>15</td>\n      <td>Diamond</td>\n    </tr>\n    <tr>\n      <th>268542</th>\n      <td>17460.066537</td>\n      <td>38</td>\n      <td>20</td>\n      <td>59859.156521</td>\n      <td>5</td>\n      <td>5</td>\n      <td>5</td>\n      <td>555</td>\n      <td>15</td>\n      <td>Diamond</td>\n    </tr>\n    <tr>\n      <th>71586</th>\n      <td>14084.813729</td>\n      <td>16</td>\n      <td>20</td>\n      <td>52897.144245</td>\n      <td>5</td>\n      <td>5</td>\n      <td>5</td>\n      <td>555</td>\n      <td>15</td>\n      <td>Diamond</td>\n    </tr>\n    <tr>\n      <th>9838</th>\n      <td>12943.930817</td>\n      <td>31</td>\n      <td>20</td>\n      <td>16505.791906</td>\n      <td>5</td>\n      <td>5</td>\n      <td>5</td>\n      <td>555</td>\n      <td>15</td>\n      <td>Diamond</td>\n    </tr>\n    <tr>\n      <th>267031</th>\n      <td>17431.910094</td>\n      <td>38</td>\n      <td>20</td>\n      <td>14656.950157</td>\n      <td>5</td>\n      <td>5</td>\n      <td>5</td>\n      <td>555</td>\n      <td>15</td>\n      <td>Diamond</td>\n    </tr>\n    <tr>\n      <th>267177</th>\n      <td>17434.392951</td>\n      <td>25</td>\n      <td>20</td>\n      <td>12575.575031</td>\n      <td>5</td>\n      <td>5</td>\n      <td>5</td>\n      <td>555</td>\n      <td>15</td>\n      <td>Diamond</td>\n    </tr>\n    <tr>\n      <th>266765</th>\n      <td>17427.355644</td>\n      <td>18</td>\n      <td>20</td>\n      <td>11078.963693</td>\n      <td>5</td>\n      <td>5</td>\n      <td>5</td>\n      <td>555</td>\n      <td>15</td>\n      <td>Diamond</td>\n    </tr>\n    <tr>\n      <th>9652</th>\n      <td>12940.702981</td>\n      <td>36</td>\n      <td>20</td>\n      <td>10435.614987</td>\n      <td>5</td>\n      <td>5</td>\n      <td>5</td>\n      <td>555</td>\n      <td>15</td>\n      <td>Diamond</td>\n    </tr>\n    <tr>\n      <th>16911</th>\n      <td>13073.827338</td>\n      <td>34</td>\n      <td>21</td>\n      <td>9980.790405</td>\n      <td>5</td>\n      <td>5</td>\n      <td>5</td>\n      <td>555</td>\n      <td>15</td>\n      <td>Diamond</td>\n    </tr>\n    <tr>\n      <th>271610</th>\n      <td>17520.532777</td>\n      <td>16</td>\n      <td>20</td>\n      <td>9607.051513</td>\n      <td>5</td>\n      <td>5</td>\n      <td>5</td>\n      <td>555</td>\n      <td>15</td>\n      <td>Diamond</td>\n    </tr>\n  </tbody>\n</table>\n</div>",
       "datasetInfos": [],
       "metadata": {},
       "removedWidgets": [],
       "textData": null,
       "type": "htmlSandbox"
      }
     },
     "output_type": "display_data"
    }
   ],
   "source": [
    "# Validate the data for RFMGroup = 555\n",
    "RFMScores[RFMScores['RFMGroup']=='555'].sort_values('Monetary', ascending=False).head(10)"
   ]
  },
  {
   "cell_type": "code",
   "execution_count": 0,
   "metadata": {
    "application/vnd.databricks.v1+cell": {
     "cellMetadata": {
      "byteLimit": 2048000,
      "rowLimit": 10000
     },
     "inputWidgets": {},
     "nuid": "eb3ef23d-c1a4-4061-9ddb-cdac2fb92d64",
     "showTitle": false,
     "title": ""
    }
   },
   "outputs": [
    {
     "output_type": "stream",
     "name": "stdout",
     "output_type": "stream",
     "text": [
      "<class 'pandas.core.frame.DataFrame'>\nRangeIndex: 319323 entries, 0 to 319322\nData columns (total 10 columns):\n #   Column             Non-Null Count   Dtype   \n---  ------             --------------   -----   \n 0   CustomerID         319323 non-null  float64 \n 1   Recency            319323 non-null  int64   \n 2   Frequency          319323 non-null  int64   \n 3   Monetary           319323 non-null  float64 \n 4   R                  319323 non-null  int64   \n 5   F                  319323 non-null  int64   \n 6   M                  319323 non-null  int64   \n 7   RFMGroup           319323 non-null  object  \n 8   RFMScore           319323 non-null  int64   \n 9   RFM_Loyalty_Level  319323 non-null  category\ndtypes: category(1), float64(2), int64(6), object(1)\nmemory usage: 22.2+ MB\n"
     ]
    }
   ],
   "source": [
    "RFMScores.info()"
   ]
  },
  {
   "cell_type": "code",
   "execution_count": 0,
   "metadata": {
    "application/vnd.databricks.v1+cell": {
     "cellMetadata": {
      "byteLimit": 2048000,
      "rowLimit": 10000
     },
     "inputWidgets": {},
     "nuid": "e22d8c27-615c-45f1-9773-c3b6f0db77bb",
     "showTitle": false,
     "title": ""
    }
   },
   "outputs": [],
   "source": [
    "# Converting Pandas DF to PySpark DF\n",
    "RFMScores_spark = spark.createDataFrame(RFMScores)\n",
    "\n",
    "RFMScores_spark = RFMScores_spark.repartition(1)"
   ]
  },
  {
   "cell_type": "code",
   "execution_count": 0,
   "metadata": {
    "application/vnd.databricks.v1+cell": {
     "cellMetadata": {
      "byteLimit": 2048000,
      "rowLimit": 10000
     },
     "inputWidgets": {},
     "nuid": "9e00e734-77da-4799-b2a3-8a6f8170153c",
     "showTitle": false,
     "title": ""
    }
   },
   "outputs": [],
   "source": [
    "# Exporting the file into s3 bucket as a csv format\n",
    "RFMScores_spark.write.mode('overwrite').option(\"header\", \"true\").csv('s3://dbda-project/Output_RFM_Modelling')"
   ]
  },
  {
   "cell_type": "markdown",
   "metadata": {
    "application/vnd.databricks.v1+cell": {
     "cellMetadata": {},
     "inputWidgets": {},
     "nuid": "f5992ea7-f034-4a98-bddb-cac25d1dc14a",
     "showTitle": false,
     "title": ""
    }
   },
   "source": [
    "# K-means Clustering"
   ]
  },
  {
   "cell_type": "code",
   "execution_count": 0,
   "metadata": {
    "application/vnd.databricks.v1+cell": {
     "cellMetadata": {
      "byteLimit": 2048000,
      "rowLimit": 10000
     },
     "inputWidgets": {},
     "nuid": "b586e560-95c1-4954-87bf-60d4f66dd8ad",
     "showTitle": false,
     "title": ""
    }
   },
   "outputs": [
    {
     "output_type": "stream",
     "name": "stdout",
     "output_type": "stream",
     "text": [
      "(319323, 10)\n"
     ]
    },
    {
     "output_type": "display_data",
     "data": {
      "text/html": [
       "<div>\n",
       "<style scoped>\n",
       "    .dataframe tbody tr th:only-of-type {\n",
       "        vertical-align: middle;\n",
       "    }\n",
       "\n",
       "    .dataframe tbody tr th {\n",
       "        vertical-align: top;\n",
       "    }\n",
       "\n",
       "    .dataframe thead th {\n",
       "        text-align: right;\n",
       "    }\n",
       "</style>\n",
       "<table border=\"1\" class=\"dataframe\">\n",
       "  <thead>\n",
       "    <tr style=\"text-align: right;\">\n",
       "      <th></th>\n",
       "      <th>CustomerID</th>\n",
       "      <th>Recency</th>\n",
       "      <th>Frequency</th>\n",
       "      <th>Monetary</th>\n",
       "      <th>R</th>\n",
       "      <th>F</th>\n",
       "      <th>M</th>\n",
       "      <th>RFMGroup</th>\n",
       "      <th>RFMScore</th>\n",
       "      <th>RFM_Loyalty_Level</th>\n",
       "    </tr>\n",
       "  </thead>\n",
       "  <tbody>\n",
       "    <tr>\n",
       "      <th>0</th>\n",
       "      <td>12353.990284</td>\n",
       "      <td>325</td>\n",
       "      <td>18</td>\n",
       "      <td>1.286841e+06</td>\n",
       "      <td>1</td>\n",
       "      <td>1</td>\n",
       "      <td>5</td>\n",
       "      <td>115</td>\n",
       "      <td>7</td>\n",
       "      <td>Silver</td>\n",
       "    </tr>\n",
       "    <tr>\n",
       "      <th>1</th>\n",
       "      <td>12690.872298</td>\n",
       "      <td>31</td>\n",
       "      <td>19</td>\n",
       "      <td>4.491482e+02</td>\n",
       "      <td>5</td>\n",
       "      <td>4</td>\n",
       "      <td>4</td>\n",
       "      <td>544</td>\n",
       "      <td>13</td>\n",
       "      <td>Diamond</td>\n",
       "    </tr>\n",
       "    <tr>\n",
       "      <th>2</th>\n",
       "      <td>12694.656520</td>\n",
       "      <td>28</td>\n",
       "      <td>18</td>\n",
       "      <td>2.363174e+02</td>\n",
       "      <td>5</td>\n",
       "      <td>1</td>\n",
       "      <td>3</td>\n",
       "      <td>513</td>\n",
       "      <td>9</td>\n",
       "      <td>Gold</td>\n",
       "    </tr>\n",
       "    <tr>\n",
       "      <th>3</th>\n",
       "      <td>12695.834433</td>\n",
       "      <td>30</td>\n",
       "      <td>19</td>\n",
       "      <td>6.262581e+02</td>\n",
       "      <td>5</td>\n",
       "      <td>4</td>\n",
       "      <td>5</td>\n",
       "      <td>545</td>\n",
       "      <td>14</td>\n",
       "      <td>Diamond</td>\n",
       "    </tr>\n",
       "    <tr>\n",
       "      <th>4</th>\n",
       "      <td>12696.097291</td>\n",
       "      <td>14</td>\n",
       "      <td>20</td>\n",
       "      <td>4.554975e+02</td>\n",
       "      <td>5</td>\n",
       "      <td>5</td>\n",
       "      <td>4</td>\n",
       "      <td>554</td>\n",
       "      <td>14</td>\n",
       "      <td>Diamond</td>\n",
       "    </tr>\n",
       "  </tbody>\n",
       "</table>\n",
       "</div>"
      ]
     },
     "metadata": {
      "application/vnd.databricks.v1+output": {
       "addedWidgets": {},
       "arguments": {},
       "data": "<div>\n<style scoped>\n    .dataframe tbody tr th:only-of-type {\n        vertical-align: middle;\n    }\n\n    .dataframe tbody tr th {\n        vertical-align: top;\n    }\n\n    .dataframe thead th {\n        text-align: right;\n    }\n</style>\n<table border=\"1\" class=\"dataframe\">\n  <thead>\n    <tr style=\"text-align: right;\">\n      <th></th>\n      <th>CustomerID</th>\n      <th>Recency</th>\n      <th>Frequency</th>\n      <th>Monetary</th>\n      <th>R</th>\n      <th>F</th>\n      <th>M</th>\n      <th>RFMGroup</th>\n      <th>RFMScore</th>\n      <th>RFM_Loyalty_Level</th>\n    </tr>\n  </thead>\n  <tbody>\n    <tr>\n      <th>0</th>\n      <td>12353.990284</td>\n      <td>325</td>\n      <td>18</td>\n      <td>1.286841e+06</td>\n      <td>1</td>\n      <td>1</td>\n      <td>5</td>\n      <td>115</td>\n      <td>7</td>\n      <td>Silver</td>\n    </tr>\n    <tr>\n      <th>1</th>\n      <td>12690.872298</td>\n      <td>31</td>\n      <td>19</td>\n      <td>4.491482e+02</td>\n      <td>5</td>\n      <td>4</td>\n      <td>4</td>\n      <td>544</td>\n      <td>13</td>\n      <td>Diamond</td>\n    </tr>\n    <tr>\n      <th>2</th>\n      <td>12694.656520</td>\n      <td>28</td>\n      <td>18</td>\n      <td>2.363174e+02</td>\n      <td>5</td>\n      <td>1</td>\n      <td>3</td>\n      <td>513</td>\n      <td>9</td>\n      <td>Gold</td>\n    </tr>\n    <tr>\n      <th>3</th>\n      <td>12695.834433</td>\n      <td>30</td>\n      <td>19</td>\n      <td>6.262581e+02</td>\n      <td>5</td>\n      <td>4</td>\n      <td>5</td>\n      <td>545</td>\n      <td>14</td>\n      <td>Diamond</td>\n    </tr>\n    <tr>\n      <th>4</th>\n      <td>12696.097291</td>\n      <td>14</td>\n      <td>20</td>\n      <td>4.554975e+02</td>\n      <td>5</td>\n      <td>5</td>\n      <td>4</td>\n      <td>554</td>\n      <td>14</td>\n      <td>Diamond</td>\n    </tr>\n  </tbody>\n</table>\n</div>",
       "datasetInfos": [],
       "metadata": {},
       "removedWidgets": [],
       "textData": null,
       "type": "htmlSandbox"
      }
     },
     "output_type": "display_data"
    }
   ],
   "source": [
    "df = spark.read.csv('s3://dbda-project/Output_RFM_Modelling', inferSchema=True, header=True)\n",
    "ml_df = df.toPandas()\n",
    "print(ml_df.shape)\n",
    "ml_df.head()"
   ]
  },
  {
   "cell_type": "code",
   "execution_count": 0,
   "metadata": {
    "application/vnd.databricks.v1+cell": {
     "cellMetadata": {
      "byteLimit": 2048000,
      "rowLimit": 10000
     },
     "inputWidgets": {},
     "nuid": "ea73ca4f-2f9b-4905-af02-10a02fb12689",
     "showTitle": false,
     "title": ""
    }
   },
   "outputs": [
    {
     "output_type": "stream",
     "name": "stdout",
     "output_type": "stream",
     "text": [
      "Out[59]: Index(['Recency'], dtype='object')"
     ]
    }
   ],
   "source": [
    "ml_df.columns[(ml_df == 0).any()]"
   ]
  },
  {
   "cell_type": "code",
   "execution_count": 0,
   "metadata": {
    "application/vnd.databricks.v1+cell": {
     "cellMetadata": {
      "byteLimit": 2048000,
      "rowLimit": 10000
     },
     "inputWidgets": {},
     "nuid": "e534fd3e-ebe3-4f49-ac08-df0bcba0a16a",
     "showTitle": false,
     "title": ""
    }
   },
   "outputs": [
    {
     "output_type": "stream",
     "name": "stdout",
     "output_type": "stream",
     "text": [
      "   Recency  Frequency  Monetary\n0    5.784      2.890    14.068\n1    3.434      2.944     6.107\n2    3.332      2.890     5.465\n3    3.401      2.944     6.440\n4    2.639      2.996     6.121\n"
     ]
    }
   ],
   "source": [
    "# Handle negative and zero values\n",
    "def handle_neg_n_zero(num):\n",
    "    if num <= 0:\n",
    "        return 1\n",
    "    else:\n",
    "        return num\n",
    "\n",
    "# Apply function to Recency and Monetary columns\n",
    "ml_df['Recency'] = ml_df['Recency'].apply(handle_neg_n_zero)\n",
    "ml_df['Monetary'] = ml_df['Monetary'].apply(handle_neg_n_zero)\n",
    "\n",
    "# Perform Log transformation\n",
    "Log_Tfd_Data = ml_df[['Recency', 'Frequency', 'Monetary']].apply(np.log, axis=1).round(3)\n",
    "\n",
    "# Display the transformed data\n",
    "print(Log_Tfd_Data.head())"
   ]
  },
  {
   "cell_type": "code",
   "execution_count": 0,
   "metadata": {
    "application/vnd.databricks.v1+cell": {
     "cellMetadata": {
      "byteLimit": 2048000,
      "rowLimit": 10000
     },
     "inputWidgets": {},
     "nuid": "c53cf1ef-1b23-4a00-8fe3-55236a3ffd0f",
     "showTitle": false,
     "title": ""
    }
   },
   "outputs": [
    {
     "output_type": "display_data",
     "data": {
      "image/png": "[encoded data removed]"
     },
     "metadata": {
      "application/vnd.databricks.v1+output": {
       "addedWidgets": {},
       "arguments": {},
       "data": "data:image/png;base64,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\n",
       "datasetInfos": [],
       "metadata": {},
       "removedWidgets": [],
       "type": "image"
      }
     },
     "output_type": "display_data"
    }
   ],
   "source": [
    "# Plotting the histogram with KDE for Recency\n",
    "Recency_Plot = Log_Tfd_Data['Recency']\n",
    "\n",
    "plt.figure(figsize=(10, 6))\n",
    "sns.histplot(Recency_Plot, kde=True, bins=30, color='skyblue', edgecolor='black')\n",
    "\n",
    "# Customizing the plot\n",
    "plt.title('Distribution of Recency After Normalization', fontsize=16)\n",
    "plt.xlabel('Recency', fontsize=14)\n",
    "plt.ylabel('Frequency', fontsize=14)\n",
    "plt.grid(True, linestyle='--', alpha=0.7)\n",
    "\n",
    "# Show the plot\n",
    "plt.show()"
   ]
  },
  {
   "cell_type": "code",
   "execution_count": 0,
   "metadata": {
    "application/vnd.databricks.v1+cell": {
     "cellMetadata": {
      "byteLimit": 2048000,
      "rowLimit": 10000
     },
     "inputWidgets": {},
     "nuid": "72023667-3c14-47b5-b117-bbe3027e7b97",
     "showTitle": false,
     "title": ""
    }
   },
   "outputs": [
    {
     "output_type": "display_data",
     "data": {
      "image/png": "[encoded data removed]"
     },
     "metadata": {
      "application/vnd.databricks.v1+output": {
       "addedWidgets": {},
       "arguments": {},
       "data": "data:image/png;base64,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\n",
       "datasetInfos": [],
       "metadata": {},
       "removedWidgets": [],
       "type": "image"
      }
     },
     "output_type": "display_data"
    }
   ],
   "source": [
    "# Filter data for Frequency values less than 1000\n",
    "Frequency_Plot = Log_Tfd_Data.query('Frequency < 1000')['Frequency']\n",
    "\n",
    "plt.figure(figsize=(10, 6))\n",
    "sns.histplot(Frequency_Plot, kde=True, bins=30, color='lightgreen', edgecolor='black')\n",
    "\n",
    "# Customizing the plot\n",
    "plt.title('Distribution of Frequency After Normalization', fontsize=16)\n",
    "plt.xlabel('Frequency', fontsize=14)\n",
    "plt.ylabel('Frequency', fontsize=14)\n",
    "plt.grid(True, linestyle='--', alpha=0.7)\n",
    "\n",
    "# Show the plot\n",
    "plt.show()"
   ]
  },
  {
   "cell_type": "code",
   "execution_count": 0,
   "metadata": {
    "application/vnd.databricks.v1+cell": {
     "cellMetadata": {
      "byteLimit": 2048000,
      "rowLimit": 10000
     },
     "inputWidgets": {},
     "nuid": "47742814-7839-4072-b882-5e0772812460",
     "showTitle": false,
     "title": ""
    }
   },
   "outputs": [
    {
     "output_type": "display_data",
     "data": {
      "image/png": "[encoded data removed]"
     },
     "metadata": {
      "application/vnd.databricks.v1+output": {
       "addedWidgets": {},
       "arguments": {},
       "data": "data:image/png;base64,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\n",
       "datasetInfos": [],
       "metadata": {},
       "removedWidgets": [],
       "type": "image"
      }
     },
     "output_type": "display_data"
    }
   ],
   "source": [
    "# Filter data for Monetary values less than 10000\n",
    "Monetary_Plot = Log_Tfd_Data.query('Monetary < 10000')['Monetary']\n",
    "\n",
    "plt.figure(figsize=(10, 6))\n",
    "sns.histplot(Monetary_Plot, kde=True, bins=30, color='salmon', edgecolor='black')\n",
    "\n",
    "# Customizing the plot\n",
    "plt.title('Distribution of Monetary After Normalization', fontsize=16)\n",
    "plt.xlabel('Monetary', fontsize=14)\n",
    "plt.ylabel('Frequency', fontsize=14)\n",
    "plt.grid(True, linestyle='--', alpha=0.7)\n",
    "\n",
    "# Show the plot\n",
    "plt.show()"
   ]
  },
  {
   "cell_type": "code",
   "execution_count": 0,
   "metadata": {
    "application/vnd.databricks.v1+cell": {
     "cellMetadata": {
      "byteLimit": 2048000,
      "rowLimit": 10000
     },
     "inputWidgets": {},
     "nuid": "b926fc7e-2690-4b4c-8e6a-d204d6942da9",
     "showTitle": false,
     "title": ""
    }
   },
   "outputs": [
    {
     "output_type": "stream",
     "name": "stdout",
     "output_type": "stream",
     "text": [
      "(319323, 3)\n    Recency  Frequency  Monetary\n0  0.941959  -0.680884  4.577210\n1 -1.136057   0.834766  0.640892\n2 -1.226252  -0.680884  0.323455\n3 -1.165237   0.834766  0.805544\n4 -1.839045   2.294281  0.647815\n"
     ]
    }
   ],
   "source": [
    "import pandas as pd\n",
    "from sklearn.preprocessing import StandardScaler\n",
    "\n",
    "# Assuming Log_Tfd_Data is the DataFrame you want to scale\n",
    "# Check the shape of Log_Tfd_Data to ensure it matches the number of rows in Scaled_Data\n",
    "print(Log_Tfd_Data.shape)\n",
    "\n",
    "# Process the data on the same scale\n",
    "scaleobj = StandardScaler()\n",
    "Scaled_Data = scaleobj.fit_transform(Log_Tfd_Data)\n",
    "\n",
    "# Transform it back to a DataFrame with the correct index and columns\n",
    "# Ensure the index used here matches the number of rows in Log_Tfd_Data\n",
    "Scaled_Data = pd.DataFrame(Scaled_Data, index=Log_Tfd_Data.index, columns=Log_Tfd_Data.columns)\n",
    "\n",
    "# Display the first few rows of the scaled data\n",
    "print(Scaled_Data.head())\n"
   ]
  },
  {
   "cell_type": "code",
   "execution_count": 0,
   "metadata": {
    "application/vnd.databricks.v1+cell": {
     "cellMetadata": {
      "byteLimit": 2048000,
      "rowLimit": 10000
     },
     "inputWidgets": {},
     "nuid": "cffc5708-1035-49ad-869c-1c3f370f5a7d",
     "showTitle": false,
     "title": ""
    }
   },
   "outputs": [
    {
     "output_type": "display_data",
     "data": {
      "image/png": "[encoded data removed]"
     },
     "metadata": {
      "application/vnd.databricks.v1+output": {
       "addedWidgets": {},
       "arguments": {},
       "data": "data:image/png;base64,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\n",
       "datasetInfos": [],
       "metadata": {},
       "removedWidgets": [],
       "type": "image"
      }
     },
     "output_type": "display_data"
    }
   ],
   "source": [
    "from sklearn.cluster import KMeans\n",
    "\n",
    "# Dictionary to hold the sum of squared distances (inertia)\n",
    "sum_of_sq_dist = {}\n",
    "\n",
    "# Iterate over a range of cluster numbers to fit the KMeans model\n",
    "for k in range(1, 15):\n",
    "    km = KMeans(n_clusters=k, max_iter=1000, random_state=0)\n",
    "    km.fit(Scaled_Data)\n",
    "    sum_of_sq_dist[k] = km.inertia_\n",
    "\n",
    "# Plot the Elbow curve\n",
    "plt.figure(figsize=(10, 6))\n",
    "sns.lineplot(x=list(sum_of_sq_dist.keys()), y=list(sum_of_sq_dist.values()), marker='o')\n",
    "plt.xlabel('Number of Clusters (k)', fontsize=14)\n",
    "plt.ylabel('Sum of Squared Distances (Inertia)', fontsize=14)\n",
    "plt.title('Elbow Method for Optimal k', fontsize=16)\n",
    "plt.grid(True, linestyle='--', alpha=0.7)\n",
    "plt.xticks(range(1, 15))  # Ensure x-axis ticks are integer values within the range of k\n",
    "plt.show()\n"
   ]
  },
  {
   "cell_type": "code",
   "execution_count": 0,
   "metadata": {
    "application/vnd.databricks.v1+cell": {
     "cellMetadata": {
      "byteLimit": 2048000,
      "rowLimit": 10000
     },
     "inputWidgets": {},
     "nuid": "8a2ada24-0de9-4513-9fbb-403d5ccdc764",
     "showTitle": false,
     "title": ""
    }
   },
   "outputs": [
    {
     "output_type": "display_data",
     "data": {
      "text/html": [
       "<div>\n",
       "<style scoped>\n",
       "    .dataframe tbody tr th:only-of-type {\n",
       "        vertical-align: middle;\n",
       "    }\n",
       "\n",
       "    .dataframe tbody tr th {\n",
       "        vertical-align: top;\n",
       "    }\n",
       "\n",
       "    .dataframe thead th {\n",
       "        text-align: right;\n",
       "    }\n",
       "</style>\n",
       "<table border=\"1\" class=\"dataframe\">\n",
       "  <thead>\n",
       "    <tr style=\"text-align: right;\">\n",
       "      <th></th>\n",
       "      <th>CustomerID</th>\n",
       "      <th>Recency</th>\n",
       "      <th>Frequency</th>\n",
       "      <th>Monetary</th>\n",
       "      <th>R</th>\n",
       "      <th>F</th>\n",
       "      <th>M</th>\n",
       "      <th>RFMGroup</th>\n",
       "      <th>RFMScore</th>\n",
       "      <th>RFM_Loyalty_Level</th>\n",
       "      <th>Cluster</th>\n",
       "    </tr>\n",
       "  </thead>\n",
       "  <tbody>\n",
       "    <tr>\n",
       "      <th>0</th>\n",
       "      <td>12353.990284</td>\n",
       "      <td>325</td>\n",
       "      <td>18</td>\n",
       "      <td>1.286841e+06</td>\n",
       "      <td>1</td>\n",
       "      <td>1</td>\n",
       "      <td>5</td>\n",
       "      <td>115</td>\n",
       "      <td>7</td>\n",
       "      <td>Silver</td>\n",
       "      <td>2</td>\n",
       "    </tr>\n",
       "    <tr>\n",
       "      <th>1</th>\n",
       "      <td>12690.872298</td>\n",
       "      <td>31</td>\n",
       "      <td>19</td>\n",
       "      <td>4.491482e+02</td>\n",
       "      <td>5</td>\n",
       "      <td>4</td>\n",
       "      <td>4</td>\n",
       "      <td>544</td>\n",
       "      <td>13</td>\n",
       "      <td>Diamond</td>\n",
       "      <td>1</td>\n",
       "    </tr>\n",
       "    <tr>\n",
       "      <th>2</th>\n",
       "      <td>12694.656520</td>\n",
       "      <td>28</td>\n",
       "      <td>18</td>\n",
       "      <td>2.363174e+02</td>\n",
       "      <td>5</td>\n",
       "      <td>1</td>\n",
       "      <td>3</td>\n",
       "      <td>513</td>\n",
       "      <td>9</td>\n",
       "      <td>Gold</td>\n",
       "      <td>2</td>\n",
       "    </tr>\n",
       "    <tr>\n",
       "      <th>3</th>\n",
       "      <td>12695.834433</td>\n",
       "      <td>30</td>\n",
       "      <td>19</td>\n",
       "      <td>6.262581e+02</td>\n",
       "      <td>5</td>\n",
       "      <td>4</td>\n",
       "      <td>5</td>\n",
       "      <td>545</td>\n",
       "      <td>14</td>\n",
       "      <td>Diamond</td>\n",
       "      <td>1</td>\n",
       "    </tr>\n",
       "    <tr>\n",
       "      <th>4</th>\n",
       "      <td>12696.097291</td>\n",
       "      <td>14</td>\n",
       "      <td>20</td>\n",
       "      <td>4.554975e+02</td>\n",
       "      <td>5</td>\n",
       "      <td>5</td>\n",
       "      <td>4</td>\n",
       "      <td>554</td>\n",
       "      <td>14</td>\n",
       "      <td>Diamond</td>\n",
       "      <td>1</td>\n",
       "    </tr>\n",
       "  </tbody>\n",
       "</table>\n",
       "</div>"
      ]
     },
     "metadata": {
      "application/vnd.databricks.v1+output": {
       "addedWidgets": {},
       "arguments": {},
       "data": "<div>\n<style scoped>\n    .dataframe tbody tr th:only-of-type {\n        vertical-align: middle;\n    }\n\n    .dataframe tbody tr th {\n        vertical-align: top;\n    }\n\n    .dataframe thead th {\n        text-align: right;\n    }\n</style>\n<table border=\"1\" class=\"dataframe\">\n  <thead>\n    <tr style=\"text-align: right;\">\n      <th></th>\n      <th>CustomerID</th>\n      <th>Recency</th>\n      <th>Frequency</th>\n      <th>Monetary</th>\n      <th>R</th>\n      <th>F</th>\n      <th>M</th>\n      <th>RFMGroup</th>\n      <th>RFMScore</th>\n      <th>RFM_Loyalty_Level</th>\n      <th>Cluster</th>\n    </tr>\n  </thead>\n  <tbody>\n    <tr>\n      <th>0</th>\n      <td>12353.990284</td>\n      <td>325</td>\n      <td>18</td>\n      <td>1.286841e+06</td>\n      <td>1</td>\n      <td>1</td>\n      <td>5</td>\n      <td>115</td>\n      <td>7</td>\n      <td>Silver</td>\n      <td>2</td>\n    </tr>\n    <tr>\n      <th>1</th>\n      <td>12690.872298</td>\n      <td>31</td>\n      <td>19</td>\n      <td>4.491482e+02</td>\n      <td>5</td>\n      <td>4</td>\n      <td>4</td>\n      <td>544</td>\n      <td>13</td>\n      <td>Diamond</td>\n      <td>1</td>\n    </tr>\n    <tr>\n      <th>2</th>\n      <td>12694.656520</td>\n      <td>28</td>\n      <td>18</td>\n      <td>2.363174e+02</td>\n      <td>5</td>\n      <td>1</td>\n      <td>3</td>\n      <td>513</td>\n      <td>9</td>\n      <td>Gold</td>\n      <td>2</td>\n    </tr>\n    <tr>\n      <th>3</th>\n      <td>12695.834433</td>\n      <td>30</td>\n      <td>19</td>\n      <td>6.262581e+02</td>\n      <td>5</td>\n      <td>4</td>\n      <td>5</td>\n      <td>545</td>\n      <td>14</td>\n      <td>Diamond</td>\n      <td>1</td>\n    </tr>\n    <tr>\n      <th>4</th>\n      <td>12696.097291</td>\n      <td>14</td>\n      <td>20</td>\n      <td>4.554975e+02</td>\n      <td>5</td>\n      <td>5</td>\n      <td>4</td>\n      <td>554</td>\n      <td>14</td>\n      <td>Diamond</td>\n      <td>1</td>\n    </tr>\n  </tbody>\n</table>\n</div>",
       "datasetInfos": [],
       "metadata": {},
       "removedWidgets": [],
       "textData": null,
       "type": "htmlSandbox"
      }
     },
     "output_type": "display_data"
    }
   ],
   "source": [
    "# Perform K-Means Clustering or build the K-Means clustering model\n",
    "KMean_clust = KMeans(n_clusters=3, max_iter=1000, random_state=0)\n",
    "KMean_clust.fit(Scaled_Data)\n",
    "\n",
    "# Find the clusters for the observations in the dataset\n",
    "ml_df['Cluster'] = KMean_clust.labels_\n",
    "ml_df.head()"
   ]
  },
  {
   "cell_type": "code",
   "execution_count": 0,
   "metadata": {
    "application/vnd.databricks.v1+cell": {
     "cellMetadata": {
      "byteLimit": 2048000,
      "rowLimit": 10000
     },
     "inputWidgets": {},
     "nuid": "1d537132-16e1-4c21-b219-f4537e7836af",
     "showTitle": false,
     "title": ""
    }
   },
   "outputs": [
    {
     "output_type": "display_data",
     "data": {
      "image/png": "[encoded data removed]"
     },
     "metadata": {
      "application/vnd.databricks.v1+output": {
       "addedWidgets": {},
       "arguments": {},
       "data": "data:image/png;base64,iVBORw0KGgoAAAANSUhEUgAAAz0AAAHwCAYAAACMgQE2AAAAOXRFWHRTb2Z0d2FyZQBNYXRwbG90bGliIHZlcnNpb24zLjUuMSwgaHR0cHM6Ly9tYXRwbG90bGliLm9yZy/YYfK9AAAACXBIWXMAAAsTAAALEwEAmpwYAACxIklEQVR4nOzdd5xdVb3//9c6deZMb8mkh5DQAiFAgAChSbeCwPVSVARBbBfUa/f6vfd6LT9UFLwqICJFxYINRenSCZAEQgghIb1OMpPp5cxp6/fHWnvOSQhhgDkT7uH9fDzmkXN2W2Wvvc/67L32jrHWIiIiIiIiUqpCezoDIiIiIiIixaSgR0RERERESpqCHhERERERKWkKekREREREpKQp6BERERERkZKmoEdEREREREqagh4RkRJijPlPY8wvRymtY4wxLxtjeo0xZ45GmiIiIm+Egh4ReVsyxswzxjxhjOkyxrQbYx43xhz+Jrd5kTHmsZ2m3WyM+Z83l9tXpHOzMSblg412Y8x9xpj93sB21hpjTn4TWflv4H+ttZXW2j+/yvYHfD6Dv/FvIj3xjDHWGNPn63STMeZqY0x4T+dLROStSkGPiLztGGOqgb8BPwLqgQnAfwGDezJfu2KMibzKrKustZXARGAbcPOoZSpvCrD0NZZ5jw+Kgr/NhTN3Uz55bQf7NnA88AHg4j2cHxGRtywFPSLydrQPgLX2dmtt1lo7YK2911r7fLCAMeZSY8wyY0yPMeZFY8yhfvqXjDGrCqaf5afvD1wHHOWvvncaYy4DLgC+4Kf91S873hjzB2NMqzFmjTHm3wrS/U9jzB3GmF8aY7qBi3ZXEGttP/Br4MBdzTfGvNcYs9Tn5yGfT4wxtwGTgb/6vH3hVda/1Biz0t9RujO4U2OMWQVMK1g//lqVXrBNa4z5pDHmZeBlP+3dxpjnfD6fMMbMKlj+EGPMIl/nvzXG/Ca4e/Yqd9esMWa6/xw3xnzPGLPeGLPVGHOdMabczzvBGLPRGPM5Y8w2Y8wWY8xHCrZTboz5vjFmnb8j+Jifdpcx5tM7pfl80BZ2mv4PY8yndpq22BjzfuP8wKfdbYxZYozZ5X7cHWvtSuBxYHZBGrurz0nGmD/69rfdGPO/BfMu9u2+wxhzjzFmyk71erlxQxo7jTE/NsaYgvmvOGaMMZ83xvxhp/Jfa4y55vWWU0TkTbHW6k9/+tPf2+oPqAa2A7cAZwB1O80/F9gEHA4YYDowpWDeeNxFow8AfcA4P+8i4LGdtnUz8D8F30PAQuDrQAwXOKwGTvPz/xNIA2f6Zct3kf+hbQKVuKDn0YL1f+k/7+PzdwoQBb4ArARifv5a4OTd1NM7gDbgUCCOuzP2SMH811p/l/MBC9yHu8tWDhyCu1t1JBAGPuzXjfs6Wgd8xpfhHF8/Qfl3VecWmO4//wC406dVBfwV+LafdwKQwQ3TiwLvBPqD9gD8GHgIdycwDBzt8/QvwFMF6R2Ma0+xXZT1Q8DjBd8PADr9dk7zbaEW1872x7elYbThwjLuB2wBPuO/764+w8BiXy8VQBkwz6/3Pt8+9gciwNeAJ3ZK828+v5OBVuD03R0zwDhcG6z1y0V83g7b0+cB/elPf2+vP93pEZG3HWttNzAP14n7GdDq72KM9Yt8FDd87BnrrLTWrvPr/t5au9lam7PW/hZ3p+KI15H84UCTtfa/rbUpa+1qn4d/LVjmSWvtn30aA6+ynX83xnTiOqmV7PqO0AeAu6y191lr08D3cEHG0cPM6wXATdbaRdbaQeDLuDtZU4e5PsCf/V2BTmPMnwumf9ta2+7LdxlwvbX2KevuvN2CG2o41/9FgR9aa9PW2juAZ4aTsL8LcRkuGGi31vYA32LHuk4D/+23/XegF9jXGBPCDRe7wlq7yefrCV8PdwL7GGNm+G18EPittTa1i2z8CZhdcMfkAuCPfjtpXCC2H2CstcustVuGUzZvkTGmD1iGC85+4qfvrj6PwAXtn7fW9llrk9ba4E7Z5bj9ssxam/F1VZh3gO9YazutteuBf5K/u7TLY8aX5xFcUARwOtBmrV34OsopIvKmKegRkbcl37G7yFo7ETc0bDzwQz97ErBqV+sZYz5UMGyo06/b+DqSngKMLwgEOoGvAGMLltkwjO18z1pba61ttta+11q7q/yOx90lAcBam/PbnjDMvO68fi/ujsZw1wc40+ez1lp7ZsH0wjJOAT63U51M8umPBzZZa23B8usYniYgASws2O7dfnpgu+/gB/pxQWQj7i7IK+rVWpsEfgtc6IOj84DbdpUBH2jdRT7QOg/4lZ/3IPC/uDtK24wxNxj3vNlwHerz+gHcXZ0KP3139TkJWLdTmSlY75qCddpxd20K93dLweegrmA3xwzujuqF/vOFvEpdiYgUk4IeEXnbs9a+hBsyFjxPsQHYe+fl/BXvnwGfAhqstbXAC7iOIbg7R6/Y/E7fNwBrCgKBWmttlbX2nbtZ543ajOvIBvk3uM7ppmGms/P6FUBDwfpvRmHaG4Bv7lQnCWvt7bhhWxMKnx3BDa0K9OECmyCPzQXz2oABYGbBdmuse/j/tbQBSXbRDrxbcHdtTgL6rbVP7mZbtwPnGWOOwgVS/wxmWGuvtdYehhv2tg/w+WHkbYi/q/I74EnckEnYfX1uACabXb9AYgPwsZ3WK7fWPjGMrOzymPH+DMzyzyu9Gx/0iYiMJgU9IvK2Y4zZzz+8PtF/n4S7Aj/fL3IjbvjYYf5h8+k+4KnAddZb/XofYccXCGwFJhpjYjtNm1bw/WmgxxjzRf9QfNgYc6B5k6/LfhW/A95ljDnJGBMFPocb5hR0YnfO285uBz5ijJlt3IsKvoV7lmXtCOfzZ8DlxpgjfX1XGGPeZYypwnXmM8C/GWOixpj3s+NwwsXATJ/HMtwzTcDQna2fAT8wxowBMMZMMMac9loZ8uveBFxt3IsnwsaYo3w94IOcHPB9XvvOxd9xweN/44bB5XxeDvdljuKCt6Tf5hvxHeBSH/Ttrj6fxgWS3/HTy4wxx/htXAd82Rgz0+evxhhz7q4S24VXO2aCO2N34J49e9oPjRMRGVUKekTk7agHNxzoKf9MxHzcHZvPgXtuB/gmrpPWg7tSXW+tfRHXyX0SFzAchHtrVuBB3CucW4wxbX7az4EDgmdarLVZ3NXu2cAa3B2FG4GakS6ktXY5bjjRj3w678G9Qjp49uTbwNd83v59F+vfD/wH8AdcR3lvdnweZqTyuQC4FDfUqwP3nNJFfl4KeL//3o4byvXHgnVX4IKJ+3HPV+3wJjfgi3578417G979wL7DzNq/A0twzxC1A/8fO/5u3oprA7v9z2D98zt/BE7GtalANS5A6cAN2dsOfBfAGPMVY8w/hplPrLVLcM/OfP416jOLawfTgfXARlydYq39ky/jb3xdvYB70cdw0t/lMVOwyC24utLQNhHZI8yOw6RFRETe2owxNwMbrbVf28P5+BBwmbV23p7Mx/8FxpjJwEtAs3UvEhERGVW60yMiIvI6GWMSwCeAG/Z0Xt7q/MsePgv8RgGPiOwpCnpEREReB/9MUCtuiOOvX2PxtzX/8otu3P8V9f/2cHZE5G1Mw9tERERERKSk6U6PiIiIiIiUNAU9IiIiIiJS0nb1n5O95TQ2NtqpU6fu6WyIiIiIiMhb1MKFC9ustU27mvd/IuiZOnUqCxYs2NPZEBERERGRtyhjzLpXm6fhbSIiIiIiUtIU9IiIiIiISElT0CMiIiIiIiVNQY+IiIiIiJQ0BT0iIiIiIlLSFPSIiIiIiEhJU9AjIiIiIiIlTUGPiIiIiIiUNAU9IiIiIiJS0hT0iIiIiIhISVPQIyIiIiIiJU1Bj4iIiIiIlDQFPSIiIiIiUtIU9IiIiIiISEmLFGvDxphJwK3AWMACN1hrrymY/znge0CTtbatWPkQeTux1nLvvffyh3/8geRgktOOPY33n/V+ysvLd1huwYIF/PqPv6altYWjDjmK8/7lPBobG4uev1QqxZ133snfHvwboXCIs049izPOOINIpGinInmb21NtXURE3lqMtbY4GzZmHDDOWrvIGFMFLATOtNa+6AOiG4H9gMNeK+iZM2eOXbBgQVHyKVJKrvrBVfzmsd9QcUgFoViI3hd6mVUxixuuvYFoNArA3+76G//5k/8kekiUsroyelb20NTaxG3X3VbUzmAul+OKL1zBE5ufoHJWJTZn6X2ul3cd+C7++z/+G2NM0dKWt6e/3fU3/uun/0VkdmRU27qIiOwZxpiF1to5u5pXtOFt1tot1tpF/nMPsAyY4Gf/APgC7g6QiIyAjRs38vt7f0/ze5up3buW6knVjDt9HEval/DYY48B7k7L96//PrVn1NI4s5HK8ZWMO24crU2t/PaO3xY1fwsWLGD+mvmMe9c4qqdUU7NXDePeM467n76bFStWFDVtefsJ2nrN6TWj3tZFROStZ1Se6THGTAUOAZ4yxrwP2GStXTwaaYu8XSxfvpzQuBDhWHhomjGG0OQQi55fBMDmzZsZCA9Q3rDjcLfKvSt58tkni5q/pS8uJTs+iwnl7+iEIiGYAC+99FJR05a3n02bNr16W3+uuG1dRETeeoo+kN4YUwn8AbgSyABfAU4dxnqXAZcBTJ48uYg5FCkNdXV10PPK6bnuHM1NzQDU1NRgByzZVHaH4CjZnmRc07ii5q+xoZFwb/gV002PcXkXGUG1tbXkBnK7bOvjm8bvwZyJiMieUNQ7PcaYKC7g+ZW19o/A3sBewGJjzFpgIrDIGNO887rW2hustXOstXOampqKmU2RkjB79mwmlU9i24Jt2JzFWkvn6k7KN5Vz6inuOkNdXR2nHnMqWx/eSjaVBWCgbYDs81kuOOeCoubvhBNOoKq9ivbl7Vjr8tf6fCtNmSbmzp1b1LTl7aeuro5Tj96xrfe39pNdnOX8s8/fw7kTEZHRVswXGRjgFqDdWnvlqyyzFpijFxmIjIyWlha+/q2v89zLz0EEJtRM4L++8F/MmjVraJn+/n6+c/V3uOexezBlhgoq+PfL/50zTj+j6Plbvnw5X//O11mzbQ0AB0w6gG989RtMmjSp6GnL28+u2vrnP/55Tj/t9D2dNRERKYLdvcigmEHPPOBRYAmQ85O/Yq39e8Eya1HQIzLitm3bRiqVYsKECa/6VrSuri46OzsZP3780JvdRoO1ls2bNxMOh2lufsVNXpER19nZSVdX16i3dRERGV17JOgZSQp6RERERERkd/bIK6tFRERERETeChT0iIiIiIhISVPQIyIiIiIiJU1Bj4iIiIiIlDQFPSIiIiIiUtIU9IiIiIiISElT0CMiIiIiIiVNQY+IiIiIiJQ0BT0iIiIiIlLSFPSIiIiIiEhJU9AjIiIiIiIlTUGPiIiIiIiUNAU9IiIiIiJS0hT0iIiIiIhISVPQIyIiIiIiJU1Bj4iIiIiIlDQFPSIiIiIiUtIU9IiIiIiISElT0CMiIiIiIiVNQY+IiIiIiJQ0BT0iIiIiIlLSFPSIiIiIiEhJU9AjIiIiIiIlTUGPiIiIiIiUNAU9IiIiIiJS0hT0iIiIiIhISVPQIyIiIiIiJU1Bj4iIiIiIlDQFPSIiIiIiUtIU9IiIiIiISElT0CMiIiIiIiVNQY+IiIiIiJQ0BT0iIiIiIlLSFPSIiIiIiEhJU9AjIiIiIiIlTUGPiIiIiIiUNAU9IiIiIiJS0hT0iIiIiIhISVPQIyIiIiIiJU1Bj4iIiIiIlDQFPSIiIiIiUtIU9IiIiIiISElT0CMiIiIiIiVNQY+IiIiIiJQ0BT0iIiIiIlLSFPSIiIiIiEhJU9AjIiIiIiIlTUGPiIiIiIiUNAU9IiIiIiJS0hT0iIiIiIhISVPQIyIiIiIiJU1Bj4iIiIiIlDQFPSIiIiIiUtIU9IiIiIiISElT0CMiIiIiIiVNQY+IiIiIiJQ0BT0iIiIiIlLSIsXasDFmEnArMBawwA3W2muMMd8A3gfkgG3ARdbazcXKx0h5+umnueG2G1i9fjX7T9+fj334Y8yaNWtE0+jr6+PWX9/KX+/7K9Za3nvKeznnrHP4+n99nT/d9yfSmTRHzT6Ka666hr333vtNpfXCCy9wwy038MKKF5gycQqXXnApzc3N3HDLDTyz+BnGNo7lon+5iFNOOQVjzOva9uDgIL/+za/5491/JJ1Oc9rxp3Hxhy6mpqZml8vncjm+973v8ZNf/oTu3m6mT57Od77+Hd7xjne8qTLuSmdnJzfdehP3PHwP4XCYhkQDW7u3Eo1GOfPUM7nw/AspLy8f8XTB1fl1N1/Hiy+/yNRJU7nswsuYO3duUdJ6LdZa7r//fn7x21+wtW0rY2vHkswk6ezp5OD9D+ZjF32M/fbb73Vtc9OmTdxw8w08+NiDtLe3E4lG2HuvvTn/zPM568yzCIfDr1gnmUzyy1//kj/8/Q9s3LARQjBm7BjefdK7+cgHP0Jtbe0IlfiV1q5dyw0338BTzz1FU0MTF517EaeddtpQe1+1ahX/9vl/Y/7i+USjUd513LuYOXMm9z56L+FwmLNOO4sLz7+QsrIyADKZDL+743f89q+/pX+gn7E1Y+ns7ySZSnL8kcdz6UXuGBtpmzdv5mc3/4xHn3mU2ppaLjzzQt73vve97uP2jXjiiSf42a9+xrqN6zhwnwP52EUfY+bMmcNaN2gvjy94nPqaei54/wW89z3vHZV8i0hx9Pf3c9uvb+Mv9/0Fm7O8+6R3c9EHL6KiomJPZ00EY60tzoaNGQeMs9YuMsZUAQuBM4GN1tpuv8y/AQdYay/f3bbmzJljFyxYUJR8DscjjzzCZ/+/z1J2ZBkV4yro2dBDdkGW6791PbNnzx6RNHK5HJf922Us6ltE/WH1AHQs6mDDPzfQO66X+FFxQrEQA4sHqF1VywtPvkB9ff0bSuuFF17go1/4KOZQQ/WUavq39tP1cBf0Qvm8cmpn1JLsSNLzZA///q//zvn/ev6wt22t5XNf+RwPbXyIusPrCEVCtC9uZ/rgdG674TZisdgr1vns5z/Ldf+4jujxUSINEQZfHiQ8P8xdt93FvHnz3lAZdyWZTPLByz7ImsQaag+s5YUXXqB7aTdN1U3MOH0GHQs7OKL2CH7yg5+MeMdryZIlXPrFS4fqvK+lj+T8JFf9+1W848SRD+5ey+2/vZ3v3f49Ko+qpHtTNyseXUFk/wiz585msGWQ0HMhfvGDX7DvvvsOa3ttbW2cd+l5tDW3sWHRBganDEIDjCsfR+XGSs47+jw+f+Xnd1jHWsun//3TPN76ONtbt9OZ68TuZamMVDI+NZ5pg9O47frbhoKKkbRp0yYu+PgF9O/TT90+da69z+/hynOu5EMXfIi2tjZmHTOLzumdlB9cTjaZpffBXspSZcz95FzIQfuCdubWz+XHV/8YYwz/75v/j7++8Fdqj6hlU+smNizcQKIjwcEXHEz36m4aNjZw+423U1dXN2LlaGtr4/zLzqdjcgd1+9eR7knTNb+Lj7zjI3z6E58esXR25f4H7ueLV3+RxFEJEmMTdK/rxi6y3HjVjRx44IG7Xbe1tZXzLj2Prr26qN+vnsGeQXrm93DJqZfwics+UdR8i0hxWGu5/IrLeab7GernuP5J+6J2ZsVm8fMf/3yXF75ERpoxZqG1ds6u5hVteJu1dou1dpH/3AMsAyYEAY9XgbsL9JZlreWaG6+h4rgK6mbUEauM0bB/A5HDI/zkpp+MWDoLFy7k+ZbnGX/KeMobyilvKCc2I0Zbro34yXFi42JEGiJUvaOKrjFdXHvttW84retvvh5zqKFxZiOxyhi1e9fSe0Av63vX03RIE7GqGNWTq2k8vZHrfnkdyWRy2Ntevnw5jy59lPGnjyfRlKCsrozxJ4xndWo1jz766CuW7+3t5abf30T5e8op26uMSHWEisMqyByW4evf/vobLuOuPPTQQ6zNrWXc8eMYMAMkK5NUvqeSro4usuks404dx8L1C1m8ePGIpgvw01/8lNCc0FCd102vo/LESq752TUU68LDqxkcHOS6266j4fQGqiZWsXHBRsrPKMdMM2zt2krTQU3kZuX4+S9/Puxt/vEvf6SzuRMikJmQIXFEgvKp5bRmW2k4tYE77r6D1tbWHdZZsmQJT616itrZtXR3d1N2UhmJ6QkGygaIz4qzNrOWRx55ZIRL79z++9vp26uPsYeNHWrvTac3cf2vrmdgYIBrrrmGrjFdVJ1YRaQ+Qqg6BPNgIDxAf28/5Y3ljD9tPAvWLuD5559nw4YN/P3xvzPuneOI1kfZ1reNypMqyYzN0LWui+a5zWxv2M5f7/rriJbjz3f+mfYx7TQf2Uy8Ok7lhErGvmssv/zLL+no6BjRtApZa/nhz35I9Tuqqd27llhljMaZjZhDDdfffP1rrn/Hn++gc1wnzUc0E6uOUTWhijHvHMOtf7yVrq6uouVbRIrn2WefZdHGRYw/Nd+PGX/yeJa2L+Xpp5/e09kTGZ1neowxU4FDgKf8928aYzYAFwAj27MdYZlMhrUb1lI1qWqH6dVTq3nx5RdHLJ01a9aQHZPd4Q5D18YumAS5bG6HZc0kwzPPP/OG01r68lKqp1TvMC1ZliRLllwqn1a8Jk4qknpFZ3V3Vq9ejWk2mNBOd0qaYfnK5a9Y/qWXXiJTliHSsONIy9iUGCvWrRh2usOx7OVlmGaXr76+PmzcunyOhYHWAYwx5MbmWLNmzYimC/Diyy++os4rx1eycetGBgcHRzy93dm2bRuDkUHiNXHS/WnSmTTh+jCR8gjdfe6aRPXUapYsXzLsbS5etpiyiWV0t3Rjxrk6NmGDiRrS2TShxhDr1q3bYZ01a9bAWOjf1g9jGGozNm7p6+vDjDMsW7FshEq9o+deeo7KSZU7TItVx8iV5WhpaeHp55/GTMq34exgFlNuMGMNnRs7XfkK2suaNWsIjwkTioQY6B+AmCuPGWfo2doDQHxCnMXLRjagXvzSYson7jgcM1IWIVQfYsOGDSOaVqH+/n5a2lqoHL9jHVZPqWbpy0tfc/3nX3qexKTEDtMi5RFMjWHjxo0jmlcRGR2rV68mNza3Qz/GGEN2TJZVq1btwZyJOEUPeowxlcAfgCuDuzzW2q9aaycBvwI+9SrrXWaMWWCMWfB6Ot0jLRKJ0FjfyEDbwA7T+7f2M2n8pBFLp7m5mXDHjrd+K5oqMFsNJrxjAGG3WaZPmf6G05o8YTL9W/t3mBbPxDHWEIrmm0RmIIMZNK9rOE5zczNs55V3Lzpg4riJr1h+6tSpmAFDti+7w/T01jTjG8cPO93hmDJxCrbD5ausrAyTNi6f7RCvjQMQag8xduzYEU0XYNKESfS19O0wLdmepL66nng8PuLp7U59fT2hwRDp/jSRsghhEybXmyM7mCVR5jqifS19TJ04ddjbnDZpGsltSRJ1Cex2v+8t5NI5IpEImfbMK+q1ubkZ02Eoqy3DdJihNmPShrKyMmy7ZfLEySNS5p3tPWnvVxwDmWQG229paGhgn6n7YFvzbTgUDWFTFttuqWzMd/RDHa69jB07llx7Dmst8Xgcm7ZgwbZbEvWuTgdbB5k2adrIlmPy3gy27hg05zI5sp3ZorTjQHl5OTUVNQy0v/K8OHnCa++zvSftTXLbjneQc5kc2a7i5ltEimdX/RiASGeEcePG7YEcieyoqEGPMSaKC3h+Za394y4W+RVw9q7WtdbeYK2dY62d09TUVMxs7pYxhssuvIzOf3YysN39wPdt7aPviT4uveDSEUtn7ty5TAhNYOvTW8mms+QyOeiEst4yUk+nyA3ksBlL/3P9xFfH+eyVn33DaV16waUMzB+gd0svAAPtAyReStAUa6J7fTfWWlLdKbbev5VzzziXysrK19hi3uzZs5lRN4OWx1vIplw5tj27jYbuhl2+mKCxsZHTjj6N/r/3k+nMYK0luSYJ8+HLV3z5DZdxV04+6WTqOupoXdxKXU0dscEYfQ/3URmrJDE2wdb5W5kcn8wRRxwxoukCXHr+K+u848EOPnr+R0f9we2Kigr+5V3/wrb7t5HuTzPx0IkkH0iS25JjwrgJ9GzqYfCZQS4+7+Jhb/Pcs84ltjJGeU05odUhUqtSDGwboCHRQPtj7Rw3+zgmTdrxIsGcOXOYWj6Vvo19JCIJBhcMkmxLEsvEyG3MUddZx8knnTzSxQfg/HPOxyw1dK3pGmrv2+7bxvtPez/V1dV89srPElsZo/+5fmzGEo6EsQss0YEojVMbyaaytDzZwpT4FA4//HD22WcfDtnrELY8tIWIiVBfVU/vwl5C60I0HdhE+0vtlK0t46z3njWi5Tj7fWcTXRmlY0UH1lrS/Wla7m/hlCNPKWrwEAqFuOS8S+h4sGMo8Ond0svA/IFhnRfPOfMcoi9H6Vjp8p3qTdFyfwtnHHsGjY2NRcu3iBTP3LlzmRiZSMv8lqF+zNZnttKcaR7R53NF3qhivsjAALcA7dbaKwumz7DWvuw/fxo43lp7zu62tadfZGCt5Y4/3sENv7yBzr5OGmsa+fTFn+adZ7xzRNPZtm0bV11zFQ8/9TAAxx1xHBeeeyFXfvlKFr64EGstU8ZN4SdX/YQTTjjhTaV17333cu2N17K1YyvV5dVcct4l7DVlL75/3fdZu2ktiXiC8888n49+5KNEIq/vJX8dHR18/9rvc99j95HNZTnykCP50hVfekWnN5BMJrn045dy5z/vJGMz1CZq+fqVX+djH/vYmyrjrqxdu5arrr2Kpxc/TS6bI0qUFCmikSgnHHUCX7jiC0XrdN19z9386KYfsa1jGzWJGj56/kf5wLkf2CNvq8pkMvz85p/zqz/9ir5kH6F0iFwoh4kaJjRN4DOXfeZ1t7Hnn3+eq/73Kp5d8iytba3Ey+OMHzues04/iys+ccUu34q3fft2vnvNd7n3kXtp2dJCzuQYO2Ysxxx+DF/8ty8yZcqUESrxKz3zzDN898ffZfXG1ZTHy/nX9/4rl118GdFoFHDPgH3iC59gXcs6DIZZe89i/wP25/nlz2Mwr2gvPT09/PDHP+Suf95FKp1ybSudIhwPM3PGTL746S9ywAEHjHg5lixZwlX/exXLVi8jFo5x9hln88mPfbIoL4AoZK3l9t/ezs9v/zndA92MrRvLv3303zj1lFOHtf7ixYu56n+vYvma5cSjcc5+59l88rJPjvqdTxEZOa2tra4fM/9hLJZ5c+bxhSu+oDs9Mmp29yKDYgY984BHgSW411MDfAW4BNjXT1sHXG6t3bS7be3poCeQy+Xo7++noqKiqB3V4MUBhZ2W3t5eUqnUG35j265Ya+nv76esrGzorSrBtHg8/rqDnZ2lUilyudywO1/JZJLu7m4aGxsJhYo78nJgYIBwOEwsFiOZTGKMGZXOlrXueZVEIlH0Mg5HJpNhcHCQRCJBLpcjmUySSCTecPsubD+pVIpoNDoUROzO4OAg1lpCoRDZbLZorw3f2XDae3t7O7FYbOiO52u1l1QqRSaTIZFIkE6nSaVSo/K61r6+vhE5bl+vbDb7htvNSJ5vROStIzinF/vii8jO9kjQM5LeKkGPiIiIiIi8Ne2RV1aLiIiIiIi8FSjoERERERGRkqagR0RERERESpqCHhERERERKWkKekREREREpKQp6BERERERkZKmoEdEREREREqagh4RERERESlpCnpERERERKSkKegREREREZGSpqBHRERERERKmoIeEREREREpaQp6RERERESkpCnoERERERGRkqagR0RERERESpqCHhERERERKWkKekREREREpKQp6BERERERkZKmoEdEREREREqagh4RERERESlpCnpERERERKSkKegREREREZGSpqBHRERERERKmoIeEREREREpaQp6RERERESkpCnoERERERGRkqagR0RERERESpqCHhERERERKWkKekREREREpKQp6BERERERkZKmoEdEREREREqagh4RERERESlpCnpERERERKSkKegREREREZGSpqBHRERERERKmoIeEREREREpaQp6RERERESkpCnoERERERGRkqagR0RERERESpqCHhERERERKWkKekREREREpKQp6BERERERkZKmoEdEREREREqagh4RERERESlpCnpERERERKSkKegREREREZGSpqBHRERERERKmoIeEREREREpaQp6RERERESkpCnoERERERGRkqagR0RERERESpqCHhERERERKWkKekREREREpKQp6BERERERkZKmoEdEREREREqagh4RERERESlpkT2dgf9LMpkMvb291NbWDn1Pp9PE43FCIRc/dnZ2AlBVVUVPTw+VlZXkcjnS6TSDg4PE43EAQqEQ8XicTCaDMYZIJMLg4CAAkUiESCSCtRZrLaFQiFwuRyaTIRaLYa0lnU6TyWSG0s7lchhjSKVSlJWVkc1mGRgYIJFIkEwmh9IsKysjmUySSqWIx+OkUilisRixWAxjDL29vUSjUWKxGH19fVhrSSQShMNhstks1lrC4TDGGDKZDLlcjlAohLWWwcHBHcoVTA+FQvT39w+lEQ6Hh8oWlCebzZLL5cjlcq+oF2BomeB7JpPBWjtUX8aYoelB/rLZLKFQiHQ6PVSfoVAIYwy5XG6oPKFQaId1stkssVhsh31fWP+Fn3fFWvuK/AM71G2QdiQS2eFzOp0mnU5TVla2Q51ns1mi0SiZTIZIJDK0z621Q/s+HA4PfQbIZrNDnwPB91QqRXl5+VA7qaysJJ1O09HRQVVVFdFodKjOgmWCshe2953tnN+d67zw+871G7SlnfMdlK2wfnO53FD99PX1EY1Gh/K8s97eXsrLy0mn0+RyOcrKynZY31o7dOwYY3YoX9CGgvwE7SYcDg+1/3A4PNR+crkcwNC+CI7p8vLyofNAsP+CNmKMob+/n/LyckKhEIODg0SjUQDS6fTQtoFdtpfg3BG0x8L8ZrPZoWlBOYNzR5CPoC0FeQ6Oz1193lUbD+qxsO6D4zPIbzgcHspjf38/2WyWysrKoXWDPAR53/lcM1yFec1kMiSTSSoqKobOL0G73FU7keLY+dw92jKZDMAeTf/1tuOR8Hav97eToL/1ar/LxdbZ2UllZeX/iX1dtBwaYyYBtwJjAQvcYK29xhjzXeA9QApYBXzEWttZrHyMhEwmw4mnnMjjix/HYjEYKkwFyVCSnM1RlahiSsMUlqxdgjUWskDGrxz2f+BKnMPdX8vhaj+Kq52U/2zcumMbxjJu8jgslp72HrZ2biVnc9Qmaulo6yCJC2TIQXVVNaFwiP6BfmzOErZhUqTIZXMuHxGf5qDPS8Snmc7nI2ESpEIpMjbjpgd5AUhCXWMd4XiYgcEBaspqSKfTtHW3ucCjMO9pXPnjft20T8/4tIxP20IoHqKuoo5ERYItrVtcJ8oawtEwERuhrLKMQw48hHef/G4efvphNmzeQCKeoLujm9UbVjOYcZ3DfffelwvOuoDFyxezdPlSYqEY8Xiczds2s7llM4P9g5iwobKykmlTpmHShqUvLyWZ8XWYhfJEOREToXewFxMyNNc3c/uNtzNr1iw+8rGP8MCTD5DJZoiZGJl0hlwkx5QJU7j6v67mjDPOANyPzB/+9Ae++f1vsmrDKsLhMLMPmE1FuIJ7n7yXdDYNQCQbIV4RxxpLOBQmm86SJUt6wHXKCbs81dXUkSFDb1/vULsz1hAvjzOmdgy9yV46ejpcoJMxRGIRwtEw2cEs6Ux6qP2FQiFX99a1LRuzWGMJZUNYLDZk3X4K+fZhgT6Ytu80ejp7aO1pze+3LFTXVfOJD36Cb37jm0Mn2WXLlvEf3/oP7nv4Pnp6e7AZSygaoipexbS9p1EWK2P1xtX09vVSX13PJRdewmc//Vk6Ojq46OMX8dRzT5FMJl2bta6tmKjrUNdU1vDOk9/J1z7/NR5/8nFuveNWOro62Lp+Ky3bW1w5IxAKh5hz0Bx++K0fctRRR3HZ5Zdx659vdYGHzztAKBaiprqGcDhMX3cfyUwS229dmw1DOBTmlGNOYeq0qSxYvIBYLMap805lzbo13HHXHfQn+127z+bbc5gwZRVl2JClIl5BPBxn07ZNrm6BsA0TIkQmnCEcChOLxrA5SzqVJpPOvPI8kPX7I+SmG2uIlkeJh+NkM1myoSy5TI5MfwYbtWBccFgeKWf2IbM548QzWLN+DXc9cBc9vT2ECRMLxejq6SJjMkPtPihDJOra5KQJkxhbP5b+ZD8Zm6G6vJqBwQHSuTSHzTqMz1z+GRYvWcy3r/42a7esdUFkrIz62npmHTSLYw45hjv+dgdLVy51FwYiMcLZMD3pHjKZDNl01qXpzwlj68ZS31hPZ3cn0WiUMU1jiNooqzasom+wj8a6Ri694FKu/NSVVFRU8GqSySTX33g9v7/r9/R29rJq5Sp6M71upnV1Y62FnCvrkYcdyTXfvobDDjvsVbcpb04ul+PXv/k1N//uZto725m570w+e/lnOeSQQ0Yl/VWrVnHxJy9m4QsLAThk/0O46Sc3MWPGjFFJf/HixXz/p9/nhZdeoK6mjg+d+yEuPO/CHS4eFEMul+M3v/sNN/32Jto72jlgnwP4zMc+M2ptfc2aNVz08YuG6v3g/Q7mph/fxL777jsq6b+dLF26lEv/7VKeX/48GDj8oMO5+ac3M2XKlFFJ/7LLLuOmP95ENud+XGftNYuFTy18Swc/JrhaPuIbNmYcMM5au8gYUwUsBM4EJgIPWmszxpj/D8Ba+8XdbWvOnDl2wYIFRcnncMw7YR6Pb3wcTgaagHXAQ8BkiJwYIfNMBpYARwMTgE3ACmADcBIwA+gHHgPW+42mgHnA/sBmYKNf5hjgefcXOS1CfFWc/rJ+ItMjhMeESS5IurTOwnWI1gMvAkdCOBIme3cW6oHDgRb/tz+uU7sYmA3sDfQBjwLbgTqgy29vf7/cCa58tAH/AA4As79xQdftHW4b+/v1NgIDfp0FPv/vwHUit/p6OBZo9/OmAc8C03GB2FRcnpPAIp+/hVBxWAW5FTls0jLzwzOJN8Z59u/PMvDcAKG6EKFjQ+Sqc0RaIphnDFMOmsLEeRNZePNCBqcNMlg5COVgn7KYkIHDwbQbco/lYD+fbhmw2u/TZjDdhtBpIXLP5ogtiLH/9P1ZHltO+XHldKe6ySzPwHyoO7+OVGuK8KNhHvj9A8yZM4ff/v63fPn7X6Y11Er8+Di5shw9i3tc+9jX75OVwFPAoWAaXUfMvGCwNRY6fH1OBbqBLbig9Wifz0rgZb+/48BMvw+6/bRO4CDgGb+/x/nvNcBa4GHcJYhjcB3Prb6dTvTtYDowBWgF7sPlpwk4wu8f/P6thlhLjCvOuoKrvn0V69ev5+xLzubFqhfpr+6HcmAZrhPfC5FNEXKzckQOiFBVV0Xq2RSxdTHeM/c9PPTYQ2yduJXkmCQ2Yd2xs8DnaaZLP7w+TOKFBA3hBqqmVTH2lLE8c8szdG3pcvVQ59o/YVfOvbfuzZwpc/jd/N/BPLAR646txT5PR/j6SwPLfbvb7NvvPn4fPAFVfVUc+7VjGewZ5OkfPk3vYC8cArbCQoVv91t9nS4DohB+dxi7xJJbmHP5P9LVAU/gArmjjAuEuv0xMBF3DJ/gj5PlflqrO+ao8euv8MdNDMxSg53qA9VFwHFArUufJVBmy4jYCKmeFGXvLmMgNUB6UdotO9u3iUrgBdzx2AXsC2aOgV4o6y0jsTFB3Ul1bF65mfiaOIdefCj9Lf20/rWVgcgAXWVdcCT00w9rIbEqQfO0ZtY/s55wQ5jo8VF6o73YdRa7wLp2NRV33lnly1jh8hDuDlNxUgW5mhyZ7RlSS1NEiFB1ZhWpthRly8o454Bz+PHVP37Vq+Wf/+rneXDTgzQe08gDX32A7KSsK2vUHxfP4475F9zyZpJhn4F9+NPP/8T++++/y23Km3P9jddz/T3XU398PWV1ZXSu7iTzZIabr76Z/fbbr6hpJ5NJZhwyg/a920kcmQCg/5l+alfU8vKil0kkEkVN/+WXX+ZDV3yI8JFhaqfXkuxM0v5wOxefeDGf+vinipr2DT+/gevvvp664+soqy+ja3UX6SfS/OL7vyh6W08mk+xz6D5sn7adxBEJCEH/0/3ULK9hxcIVVFZWFjX9t5Pu7m72nbMv3Qd0kzg8AVnom9/HmPVjWLFoxauORBkpX/ziF7nq1qtcv3hvXB/iAZgems7LL7xc1LRfizFmobV2zq7mFe1emLV2i7V2kf/cg+sWTLDW3mutDe6DzMf9/L1lZTIZnnj+CTgZzDjjOosTgBOBde5uBT24jmkDrjMzCTgYqMI1hhiuU3Iq7kc4iQuEDsZ1+qtxnZ4croNzBDAWMi9n6B/oJ3JShFxFjlRfynUcZuI6XGncD/t+wFawE/zV6mNw/27w252C6zQdjOvYluE6s8f6fLUB43Ed6NXAYbjOX5nbLoe4MtmYpX99v8v73rgOZBWu02V92Y8EmnGdyJj/3ojr7ByAC6Ssz/NKXOBX6fMzFTjQ189cGFwxSHq/NNmmLG2ZNtZvXk+2OwtjwB5qCU0MEa4MkxmbIX1YmrZ1bWxeuBkOADvZYistoYqQq49BCFWHyLXnXB3s7cs3xpcv7qbZuMW0GaJHRxmsHeSFjS9QeXolJmHIkMHMNnAA9D/RT8WsCjIHZfj2975NNpvl+tuupyvbRfzEuOv4VUTJ1GRcPff5+tjq66sebKXFjDfYo60LcI7DXQHfABzl28MkXzc1/t+DfcOc4Osq7tvdLPJBZgzXoTwQF/gk/HbK/f6I4YKpg31begkXpE72+3Caz0scF6g1uvwyHtfOOyA3J8fPf/dzcrkcv/vj79jauJV0YxpqwTQbV+ftLv3M+AxmH0OuIocpM5QdU0amIsN9D99Hi2khemgUG7eufBP8fpnl8x4DO92SmZZhU3YTtsFiIoautV2ujFHfjht9O5oCW8Zt4Y777yD0jhC2zLrt7YULjvb15Wz06RyFC7QO88dG2NfnCdDX10ff1j561veQqkphJ1rMROPSbfR1E/NtaKL7nFuTI9eYc8f0HF/3g7jzxrFgc76ce/tjIOuXW4kLdE7ABSEH+u3Gfd6PBda4/WhnWxfEbvT5HodLr8mtn2xLkprp79pasAmLSRqXx4MKyj7Hr1uDC/jLDTZmCc0KkR6XZvPzm6k4vILctBytz7dSN6OOLQNbaB9oJ35inMGyQcLVYULTQ6Smp9j8/GZy9Tmyc7KkalKEK8PYauvKtA13V2yib2srfPkmQHZSluiMKKHaEKlICo7C3fFLQfmEcgb3H+SxFx9j+fLl7Mr69et56NmHaD65mY6VHWRNFk7BHUs1vp73wwW+h+DOWTnY1LSJW26/ZZfblDdnYGCAW/94K02nNlHeUI4JGeqm12EPstz621uLnv4vfvEL2ivaqTyhklB5iFB5iMrjKums7uTnP/950dP/5e9+SfaALHX71GFChvL6csacNoZf3/lr+vr6ipZuMpnk1j/cSuOpja7ejaF271qYxai09VtvvZXt5dtdvSdChMpcvXfVdnHjjTcWPf23k+uvv57uhm4q51USiocIJUJUnlhJa7SVX/3qV0VP/0c3/wiOATPdDdE2jQbOgJVbVtLS0lL09N+oURkAaIyZivu5eWqnWRfj7iPsap3LjDELjDELWltbi5zDV9fZ2emGrDX7CX5oFuNwd2vAdWibcJ3UHK4jFMN1eFIFGwuCnyiu4xEMByvznxtxAVQYl14H0OCfw4iBTVu3bhOuYxQpWK8PbJ/v4MVxnak0rrMaw/3gV5EfdoZfL4XrAKdxHYQk7sq18X+9Pj0/5CbTmXGdwphfJ45rRUHAF/br9xSk1eS3U/i5wec/XPAvfnoPMAZy/TlspRuS0jfQR39/P7bXYqzB1rk7lCZksGGLqXTPGPVu6yXUFHLDaHydmYS7k2J7/VC8RvJD/thFvrr9tDjkGnKYiNv20HC/sZDtcrdzw+PCrFi/gr6+Pjr7OsnmsoTrCoYvWL/tPv+5B9d2cuSHPlb5ZaO4/RcMPwzaSVDPwRDBClwHPkR+GFTM7+seXLurLVgH3P4P2kK6IO0GPz9oG9l8GQnhOtNBmzZ++QF3t2MgPUBnZyfL1ywnU5kha7MQB4tvp1W4q+xjccdQKP+ckWk09A/2Y8dYsoNuXwXD6mj06QVD7UKQrXPLDPQM0L2l282P+L+g/kLue7oiTTaXxUzwFylsQbmrCuqWgvoeQ34IH255W2vp2dhDf3s/uUjOBduDNt/mg2Ov1/8bB9vl21gTQ8MJSeMCsoRfJxi21uj3yxi/33pwx32fXz44n0T9vuv365cX1NXYgmVwQwKphlwyB/WQ6cpACGyrdcvufPFvDK499fuyxSCTzbjgZSCLCRlMk6Fvex/pvjTEIBvKEqryzwiFDCZusFWWVH8Km7Hk6tyzM8HQPMbizivWt7FK8vOSrk2lB9NkbRYbta4MtZDrzoFxF5bS1Wk2bdrErmzatIlIY4RQOMT2pdtdXYXJD9eE/HmlwddhP6QqUqxYu2KX25Q3Z/v27WSjWWKVOza4inEVvLy2+FeBV6xYgW1+5SiWXHOOFSuKv89XrFlBxfgdh2NGE1FyZTna2tqKlm57ezuZSOaV9T6+gpfXFb/ely9fvst6t832VS9ayBuzbPmyV9S1MQaa4aWXXip6+sls0vVlCtOvNlAOTzzxRNHTf6OKHvQYYyqBPwBXWmu7C6Z/Fdcl2GVIaq29wVo7x1o7p6mpqdjZfFW1tbUYjLsaDPlgYCOuwwTuR7yFfGcmibu628+OnYwkLpBJ467IB52xoEOwDRd4ZHHpNQCtYLOuI2Vixq3bguv0ZnAdnq1AFZhK47Y1gOvIxdz6DOI6Nl0+rUBwVyDq/zpwHbMt5IO7ar9cym0zWh91+Rwkf9cq59Op9Xna7D8P+m34/IHPe7Uva9AhzJDvbG/z8zdDqDJEqCcEIaisqKSiogJTbbDGYra73rzNWkzWQDfE4jGqx1WT25ojHA0P1ZnttZgug6ky+bsh6YI0jZ8W5KvWTx+AUFsIm7FEopF8h3gThBtcbyq7McuB0w+ksrKShuoG9wB1W3Aj0297C66NGL9/N+LaScbv2y4/b5D8XQF8Hrfh8hy0kTCus9vulwv7+k/ibi9X49pde0H9W79ft/tpMfLPnbX6tIO2EXQSN/ntdpJ/Hsz65SvA9Bgq45XU1tYyc8ZMot1RwqEwJHHHyyAueKx15TfWQM494G9zFrvNUlleSaglRLgs7JY3vp1sw7W34JmZHITbwphBQ6ImQc3EmnywnvV5x+c3A7GeGJFQhNz6XP7CQNBeg7r2jzzR77cRtPmC59hMh6Fmag2VTZWE02FoAVPmj7EgmGr1+3arX6feXaAYurMRHIe95APfrM/rNvLnjhqG2j2V5IebhnxdBOnk/HZC/vvmgmXwgUsXhMvCmO2GSH3EDasba9yyhce/9eXuA8ohVBaCQYiEI4RaQ4QTYWzWYrdaKsdUEq2IQgrCuTC5rhwhE3L7ctAS6g4Rr4xjIobw9jCRcCS//7b49hecG7sK6rrc1UMsHiNswpi0bzvtEK4Ng4XcQI5oZ/RVx6lPnjyZTGuGXCZH08FNrp0H58adzyvbGLr7Fe+Nc8D0A3a5TXlzmpqaiGaiDHYP7jC9d0PvqNT5gQceiNlkKBy+b60ltCnEgQceWPT0Z86YSd+mHe/opHpThAfDjBkzpmjpNjY2EsvFGOzasd571veMSr3PmjVrl/VuNhkOOuigoqf/dnLwQQdjNu043NdaN0R81qxZRU+/IlLh+jKF6bdbGICjjz666Om/UUUNeowxUVzA8ytr7R8Lpl8EvBu4wBbroaIREolEOH3u6XAf2DXurgNrgH8Ck3DDrRK4MfstuM9rcePng2ctenGdor+Tv7OzGnga98PfDtxLPvh4DGiD+Iw4FdUVZO7JuE5FNO6e6VhG/k7RM7ihIvW4sfIp3LM6vS5/POjTmgE8hxvK1I1rrI/4tBv995dwQ38W4p4b6sF1Wp91ZTa9hrLmMjcUZ7kvSydwP/mXMjyG66A1kX+Oqd3Pew7XmU7jyrEP7jmTTlyHbDmwFNfxfhpi02JElkUIbwtTn6ln0phJhBIhTIvBLDRkV2fJdmaJbogSWRihbkIdYw4aAy+BWWkwXYbc9hw86obm5VpzhKvDrj5ewnX2NgJP4jpJL4DJGGyFJf3PNOW95Ry+z+H03tlLbnuOSDring9abig/vJy+BX3EXozxtS9+jVAoxKcv/jR1oTpSD6ZIb0qT6kgR3R51dRD3+6Te1/tW9/wQa8E8atzV8If8/pvo96Hx9bUeF5Bu9Ps7mB60sRa/j4I7DClf98/hnlXq9m0jCTzu92vI7+eluGGN9/l2kvB18yiu8/m03zetrg3wGFANoWdCfOqiTxEKhfiX9/8LE7omEN0She1g11lXxnqX9+jWKPYFS6gzRK4rR/KhJLGBGO865V1Mik0i/WSa0EDIpRO04UW+3L3uGZbI2ghTy6ZCC6S709TPqHflSOKOxU2ujsxKw4StE/jI+z+CfdC6Ou7Dtdk2f6ys9HXW4+tjgq+/pb7eNgMPQGVlJbGqGOVN5cT6YoQ2h7CrbL7OH/ftZmO+XYfHhQm3hN0yT/r9Ftzdedi1L1pwx/BLuPPJAtwQ1Hpflkqfl00+Pyv9cTLZ7SOzyLjlxxfUU6fPx4OQGJMg9nyMiIlgB1zAb0N+COVzvnydPn9bcUHIZsh15gglQ+SeyRFtjTLhwAn0Pt5LaE2Ihv0aaFvSxqSqSTSWNzJ4/yDRriiZtgy5ZTliK2OMP2g84fYwoWdCRLZFyHZm3cWJB33Z0rhz4/24oYSbXfsMbw4z+MIgttUSH4xjH7OEI2Fy2Rz9a/opf7Gck+eczPTp09mVCRMmcMYxZ7DlH1uoHFdJ1ETd+IGk3+eL/X4PzkHdLjCf3DGZD5/34V1uU96ceDzOpedfyvZ7ttO7uZdMMkPb0jaiL0VHpc4/+MEPMjY7lt77esl0Zsh0Zeh9oJemwSY+/OHip3/hBy4k9lKM1iWtZJIZerf00np3Kxf/y8WUl5cXLd1YLLbLeo+8GBmVer/gggsYZ8fRe28vmY6Cek82cfHFFxc9/beTSy65hPreenoe6CHTlSHTkaH3nl4mRiZy3nnnFT39L336S/AE2BfdhS+70cLf4aCpB9Hc3PzaG9hDivkiAwPcArRba68smH46cDVwvLV2WOPW9vSLDADe//73c+cjd7rhSyZMQ1kDXdkuMtkMjbWNzJwyk4cXPeyG+ORwHbfgSm3wIovgKn5wNd3gOsOW/BV4fxV6+pTpjJ00Fiz0tPewvm092WyW5tpmtmzZQm+2170BLRuiaUwThKCnp4eczRG3cfptv3uDV3CFu/DtbUH6wdvb4lAfrydpk/Sn+vNvngvyPQATJk2AGPT199FQ1UAunWP9tvXurR1J8kOpBnHrJ8i/IS4YSpYt+DcMkViE8Q3jKa8qZ92GdQwODmKMIRZxV+oTVQmOOfwY3nvqe3ngyQdYuXYldVV19LT3sHTlUvoH+4mXxTn4gIO56NyLePbFZ1n4wkIq4hUk4gnWbFrDho0b6O/tJxQOUVNbw7777Es0G+Xp556mJ9kz9Kaw2ppaoqEo2/u2Y4xh7/F78/vbfs/06dP55BWf5K///CupVIqKaAXJdJIsWfabth9X/8/VzJs3b6id3H///Xzje99g6ctLCUfCHHXYUdSX1fObv/+GgdQABkN5qJxYIoYNWaLhKJlUhrRNk+pPkU6lIQImZ5g4diID2QE6OjvIkcNgCBEiUZlgctNkOno72NqxlWwmSygbIlYeIxKNkElmSKVSZG3WXXkPh3e4e5SL5bBYojZKzuTIksUMGnLh/JvjTMpw8OyD6eroYm3LWjdkDVdXTWOa+OLHv8jnPve5oXKvXr2ab139Lf7yj7/Q0dlBNp0lGo9SV1HHvvvvS2W8kqWrltLd283YurFc/pHLufzSy+nu7ubj//ZxHpj/AH29fWQz2aG3bIXjYSKRCPU19Zz7nnP5/JWfZ/5T87n1D7eyrXUbbZvaWL1xtXtOJuouUBx/1PF8/xvf5+CDD+arX/0q195yLX39fe6Omn9zYjQapbGxkUg4QldHF32pPrK9WXecRNz8D7zrA0yaMolHn36U8rJy3nXiu1i3cR2/uP0XdPd1u2dOgmM5C7FIjIqaCnLkqC6vpjJWyYq1K8iGXMXHjXsNdsqkXNsuS5DNZUkNpEimkxB2d8NC2RA2ZMnZ3NBdZYMhZEOUVZaRiCfcULBQlmw6y2DfIDmTw4YtIROiqqyKuUfN5d3veDdrN67l93/9PV09XUSJUh4tp7W9lWQuuePxH3X5r6yuZOqUqUwaM4mu/i5SmRRNNU30DvQykBrgqMOO4uMXf5xlLy3j21d/m5fWvIS1loqyCurr6plz6ByOO/w4fvuX3/LMkmfIpDOUl5UTSofoHuwmOZgknU67c2PMDcWYNn4a1Q3VdHV3EY6EmTBuAmWhMpa+vJSegR7GjRnHJy76BJdefOnQ6/53JZ1O88tf/5Lf/vW3dHZ1smrpKrYnt2Nz7q2HobB7FTo5iJfFOenYk/juN77LAQfoTk+xWGu58693cvPvbmZr21YOPfBQPnnJJ0ftxRGbN2/m8isu55FnHgFg3mHzuO6a65g4cXQeI16+fDk/vvHHLFiygDENY/jwuR/mzPedWfRXV1tr+evf/sovfvcLtm7byiEHHcKnLvnUqNb7x6/8OA8//TAARx9yNNddcx2TJ08elfTfTtatW8flV1zOk889iTGGE444get/dH1R7yYW+uIXv8gPf/FDUpkUIRNi3qx5PHDfA3v87W27e5FBMYOeebjrxUtwP60AXwGuxXWRt/tp8621l+9uW2+FoEdERERERN66dhf0FC0cs9Y+Rn6EfKG/FytNERERERGRne2Z/75VRERERERklCjoERERERGRkqagR0RERERESpqCHhERERERKWkKekREREREpKQp6BERERERkZKmoEdEREREREqagh4RERERESlpCnpERERERKSkKegREREREZGSpqBHRERERERKmoIeEREREREpaQp6RERERESkpCnoERERERGRkqagR0RERERESpqCHhERERERKWkKekREREREpKQp6BERERERkZKmoEdEREREREqagh4RERERESlpCnpERERERKSkKegREREREZGSpqBHRERERERKmoIeEREREREpaQp6RERERESkpCnoERERERGRkqagR0RERERESpqCHhERERERKWkKekREREREpKQp6BERERERkZKmoEdEREREREqagh4RERERESlpCnpERERERKSkKegREREREZGSpqBHRERERERKmoIeEREREREpacMKeowxBxU7IyIiIiIiIsUw3Ds9PzHGPG2M+YQxpqaoORIRERERERlBwwp6rLXHAhcAk4CFxphfG2NOKWrORERERERERsCwn+mx1r4MfA34InA8cK0x5iVjzPuLlTkREREREZE3a7jP9MwyxvwAWAa8A3iPtXZ///kHRcyfiIiIiIjImxIZ5nI/Am4EvmKtHQgmWms3G2O+VpSciYiIiIiIjIDhBj3vAgastVkAY0wIKLPW9ltrbyta7kRERERERN6k4T7Tcz9QXvA94aeJiIiIiIi8pQ036Cmz1vYGX/znRHGyJCIiIiIiMnKGG/T0GWMODb4YYw4DBnazvIiIiIiIyFvCcJ/puRL4vTFmM2CAZuADxcqUiIiIiIjISBlW0GOtfcYYsx+wr5+03FqbLl62RERERERERsZw7/QAHA5M9escaozBWntrUXIlIiIiIiIyQoYV9BhjbgP2Bp4Dsn6yBRT0iIiIiIjIW9pw7/TMAQ6w1tpiZkZERERERGSkDfftbS/gXl4gIiIiIiLyf8pw7/Q0Ai8aY54GBoOJ1tr3FiVXIiIiIiIiI2S4Qc9/FjMTIiIiIiIixTLcV1Y/bIyZAsyw1t5vjEkA4eJmTURERERE5M0b1jM9xphLgTuA6/2kCcCfi5QnERERERGRETPc4W2fBI4AngKw1r5sjBlTtFy9RX3lK1/hhz/8IdOnT6epqYnNmzdjjOHLX/4yZ5xxBt/4xje4/fbb6ejoIJPJYIzh1FNPJZVKsXjxYtrb24e2FYlEOPbYY9lrr7144IEH6OnpIZPJ0N/fTy6XY9asWUyZMoV169ZRVlbGc889RzQa5VOf+hSxWIy//OUvTJ48mc997nOsXr2an/70p6xcuZK6ujrOOOMMfvOb3zA4OEhFRQWpVIpUKkUikeCCCy7g7rvvpquri8bGRkKhEJFIhAkTJnDJJZfw5JNP8sgjjzBr1ix+/vOfE4lEuPLKK5kxYwYvvPACY8eOZcuWLWzcuJGGhgaOPPJIMpkMjz76KM899xx9fX1kMhmi0Sjd3d3U1NTwuc99jhtuuIFNmzZRVVVFNBpl8uTJNDc3c9hhh3HdddfR29tLX18f3d3dHHroobz00ktUVFRQXV3NvHnzeN/73sfvfvc7BgYG+OAHP8iSJUvIZrNs3ryZ6upqZs2axbRp07j66qs59thjaWtr49577yUcDtPb20s2m2XMmDH867/+K+Xl5dx7772k0+mh+Y2NjZx99tl84xvf4MUXX+Skk07ihBNO4N577wVgcHCQaDTKmDFjSKVSdHd3c+aZZ1JWVsYjjzzCueeey2233caKFSuoq6ujra2NmpoajjzySN797ndzyy23cM8991BRUcHEiRMJhUJUV1dz6aWX0tnZyX333Ud7ezuLFi2io6ODsWPHcuKJJ9LV1UVXVxfbtm3jqKOOYu3atbS0tFBWVsbUqVM57rjjqKqqoqWlhUWLFmGt5ayzzmLs2LHcdNNNrFq1iqqqKsaPH8+6devI5XJ86EMf4qabbmJgYIA5c+YA8Nxzz7FmzRq2bNlCWVkZZ511Fu985zv56U9/SmdnJ+FwGGst48ePZ+7cuSxbtoxwOMy5557LCy+8wKxZs7jjjjvYsmULM2bMYNy4cdxzzz1s3ryZd77znWzcuJGnnnqKiRMnMnXqVAYGBkgkEpx11llUV1dzwQUXEI1G+cxnPsOf/vQn2traSKVS9Pf3M378eN7znvdw2GGH8b73vY+bbrqJRx55hKuvvppt27bxzW9+k6effprZs2fz/e9/n6lTpwLwzDPP8P3vfx+AZDLJqlWrmDp1Kp/+9Kfp7Ozk9ttvZ8WKFfT09NDW1kZVVRVz584llUoRCoU4++yzmT9/Pk8++SRNTU3EYjHC4TB9fX1s2rSJ5uZm+vv7sdby9a9/neeee44HH3wQay25XI6KigpaW1sZO3Ysl156KY888gg1NTX09PRQVVXFxo0bOe+881ixYgXf/OY36e/v5/LLL2fJkiW8973vJZlMcsstt3DaaafR3NxMe3s7xx9/PMuWLWPLli2cdtppLF68eOjYmzp1Kh/72Mfo6OhgxowZ1NXVceedd7Jy5Uqam5vJZrN0d3dz3333sW3bNmKxGI2NjcyYMYNzzjmHJUuWsG7dOn7xi19www03cM8993DaaadRU1PDQw89xBVXXMHg4CA//elPeemll4hGoyQSCc444wy6uro466yzeOCBB1i4cCF1dXV0d3dTVVVFQ0MDJ598Mg8//DDt7e3ccccddHZ2csIJJ7Bt2zaSySQnnnji0LJr165lcHCQ3t5ejjvuOD7+8Y8P6/y8efNmnnrqKVpaWpg5cybjx4/nRz/6Effff/9Q+02lUowdO5af/exn7Lvvvq+90RKxfv16vvGNb/DOd76Ts846a1TT/vvf/84999zDF77wBSZMmDCqaQN8+MMfZnBwkN/85jejnvaaNWv4j//4D0455RQ+/OEPj2raP/nJT/jTn/7ENddcwwEHHDCqaQMccsghDA4O8uKLL4562nvSY489xiOPPMKll15KU1PTqKR5wgknUFFRwV133TUq6RV67rnn+J//+R8+8IEPcO655456+q+XGc5bqI0xT1lrjzTGPGutPcQYEwEWWWtn7WadSbj/x2cs7v/0ucFae40x5lzcM0L7A0dYaxe8Vvpz5syxCxa85mJFM3/+fI467iioBMqBAaAXqMKVLA30++9x/z3rlx3036N+Xsp/Ly9YLgrk/L/46Rk/LwYYXHgaApJ+XoX/3uvXTfhle30aFUCZz+ugT7vPbyfmlx8oWDYN9PjPFX47FOTT4gY0pnx6kYJ8DxZsN7fT8hk/PainmF8vyFe04C/l00z5MocK5iX9NOvrurwgbym/vWD/DPrvOV8H5T4fyYJ8BNNzfnrKpxfzZcmSH8CZ8nmIFOQt4+cH6wf5NP4v6vOZ8nUdJ/8KEEN+H+f8duIFy2QK8jzgt5Xw3/v9+gm/raHXivj1jZ+W8tstLGNZQd2nyO/DMlzbGARqfd4G/ToRv36F31aSfDsJ6jrY/0HbD9KK+TwH+yjupwf5yRXUc7nPe9C+Yn56suB7yKcV8st3+XKX++32A72QqEjQ39/v6ijIcxrXPgZ8OmV+W9244zZBvh3hpwVtJshLj6+vcr9M2uct5Jct88sN+HkVBd+DY3QQ1wYj/q+/YNmgDMFxEOQz5tfrJ3/sBnkb9NPK/DrZguVtQX33FcwrbDvBvg6Oh+AcY8ifM4I8DACdfv0w+WMlaAPBNOvzFy3IS3Ceyfp5lvz+j/vlsuTPHSE/3beV//jMf/Df//3f7MqaNWt459nv5KWVL7kJcZ+vAfLHT3B8Jcm3qRzYVOn/LwyJygQD0QG335LAADx+/+McffTRRU33mWee4Yjjj9jh+KyyVXR3dhc13cDs2bNZvHpx/ngdgP0n7j9qnfBYeYx0WXqHev/HH//B6aefXtR077zzTt73gfe5dINzShfY3Oi09draWrpsl0vbAANQni535+QStmrVKvaZvQ+5eM6dawagOdHMlo1bipZmY2Mj29Pbd/id36txL1avXl20NAuF4iFshc3/zvbDY/c/xjHHHDMq6b8aY8xCa+2cXc4bZtBzFe7n7kPAp4FPAC9aa7+6m3XGAeOstYuMMVXAQuBM8j931wP//n8h6DExAzOA04BqoAP4O64TdDLwBO5HfS75QGiV/1wNPAYcC9TjOmqbcSeidmA/4CVgNjCefMfiGVyHzABHA9P9963AIuBs3I/5P3AnlxNxJ7kbcWHmO3CdjDaf13pgLdDg81wJtOJeRl7t13keGAMcCPzT/xvFdYRX+DzHgSW+rPW4DsxjuBD2YJ//5cDLuA7TIT7NxT6Nyf7fFX69ccAsn4cscC/5DnITcBSuA7QFeBbXOer06U/AdZIeBjb4Omn2+XwEWIZrcVNwLW6+z0fIr3+In74QeNyX83BgPTDRb/8Rn8dm8j9ejwNTfT00+H3a4Mtg/Tb6fX1u92UIOoiLcPt5M7DOl7kWOB73jsRtwFJf7+N9WkcA+/h6uQPXZmb6+m0BHgXm+f1lgdXA/cA04Djg9/7zIT4fW3GDU/fDtcswrp3cDxzm6+sBXPvoACYBp/j98aTfv6f4MidxbSXht9/iyxjkudPX+QvAqcC+fp8tBhb48h/s67vO530p8G6/7adx7ftIX889uLYzxqczDTgJ19a34tr6Fl938/w+6cK1hRpfngNx7Wu5T+90XLtM4trSEuAS/32Fz/u/Ar8GDgUOwrWhdb4cbX6fH+inrwUeAs7BHb/bcW33SGAN7hg5xufrRVxbeQfueGrDHdNBvR+Hax/P+3zN8WWL4o6fFX4/HOnzMgfXBp7w+azBWYo7z5wAHIBriy/i2ncSd/6Z5/dfr5/XjWsLR/j63QzchWuH+/l1jF/+YV+nM31a5b6M1X6953D7eH/cuW0bbt934NrgOFx73oQ7d9Tizmn9vp6fgP6t/ZSXBz1YJ5fLMWP2DFZ3r3blmOnrwvj9cK+vr5Nw5+MWX7/9QA4q05X09PRQqqZMmcL67Hp4F64e+nHH61KwfcXtBJuEcfvjHbjzwxbgbzC9fDovv/xyUdP+zW9+w3mXn+fa0EF+4gvAg3DTD27iIx/5SFHTnzBhApvZ7M5jo13v5fl6NwmwW4G/Qfn24gce3/ve9/j8Nz7vzjMH+4lLgQfg8vMu56c//WlR09+TwlVhcvvkXHuvxJ1r/gazG2fz7LPPjnh6V1xxBdfeeq07t83EnfefAx6GO266g7PPPnvE0yxUU1NDd3U3vAfXp+vF9RuWgR3YsxeTdhf0DPf/6fkSrgu0BPgYrmvxtd2tYK3dYq1d5D/34LodE6y1y6y1y4eb+T1t48aN7gf/RNwPOLjO2XG4K5gVuBN60HEPOuvH4DrPHbjOYBX5AGIOrnPT5JcfB+zt50WAvXAnylrcHtrHr1/u15mJ6xik/d8xuA5EcJcn+JEJ4TqHR+M6EzH/uQl3Em7GdXQ2+3SPx+3l5bgO3HRch7gC16nr9HnYG9dBj+I6RnvhOkfW18HeuA5cFNfBCu5oHe3LMeDn70v+DlWdz9cM8ne9jsSdPOI+rwfiOraH+e9RXKduP/9vMOCywpcr4acHd6Hm4TpDU/z6GT9vov9e5fMQxp2ws357hxTkY4LfH0mf/xafj/3JBzjVPt12XDsJ+fUbfT2u9csZXw+zfd5DPh8z/bY24X6wm3xeNvp0JpG/ezcN137G+O9hn7+9/fZX+n+P9fNDPs0yvz8q/PzxuEBwic/74T6/Qee1sWB7x/htBINjj/dlNbg2cqjfn/jl9sZ1zBt8+mW+zI0F+yi40zAR1+7ayF8eORzXhmp93e6D6+xHyAc8BnfiPZp8ADbR76dmn+dVPm9T/fIbcG1srM9rcPGgAhcM4bdXhus8T8a1z+CO2Uy/b+r8Poj5dfbGtftncfttX/+30dfPMeTvZHb6+sNPa/Jphny563w52/3+qSV/B+5An5f9cAHUDFzb3u7LOMNvM7ijsheu/QTt5CBce67y6/X4dGfi9lsW13lJ+G1M8nnK4o6lrM9fGe54qfZ1Wo47x9X7cgUXNtb5bc0lf9c2OH/W+LQPJH/nObjjM9vVy6GHHsrO7r77bjZ0bcjf/ZtH/s7ceF/eWl9G4/NyBEN3H3pN7yu2WUrWd6x355rxfkKCod+HH//4x0VL97bbbnNpnUT+zuI44GhYuXVl0dINXHDBBe4YmI1rC8E5fS+45JJLip7+5u7Nr1rv3/rWt4qW7re+9S13/PiAB8D48+JAZGB3q46Iz3/+867eDyVf77OA6XDdddcVPf095bHHHnN3eIILyjD0u/Pc6ueKkua1117rfiuDi3BhXN9oEpxzzjlFSbNQN93ufBv8flYydLzfeuutRU//jRpW0GOtzVlrf2atPddae47/POxQzhgzFdcNeep1rHOZMWaBMWZBa2vrcFcbcb/+9a/dj2XDTjOayP9w53A7PKiRYMhQBBeI1JIfEhXF1Xrh8LPgBz9YN7j6X05+eBHkh7jVMTSUZ2iYUXDVNO7zYgry2sjQcA7q/DaCYXU15IfTVPl/ewryFAz1CjruPX4bwdCvtF82GJ4SlCEI0nJ++zXkh32l/fZqC7Yd8vVXvlOd4tcLkx/WU+m/W/LDcCJ+XiDu66arYFrIb6O2oA7w69WTH84TXB0f8MtCftiO9eUfJN+Rivr8GPJDKcJ+maDug/m1uH0X3BXCfw7aUjBEqLBtBGXt8+vHyA+ZzPg0ggt4wXYacZ3jroLyBkPvesgPuaNgvXryw+XqfL5Nwfrg9mUQAAXDuqrID3MK2kPY12+wXFBnQZmD4CsYuhiUJbgwEAz7CoaMBu0VXzfBUK0KdtTg06wgv8/CfpspX9cRv0yWfMc8yFcM177Wkx++WYcLTmr9tKAzji9rwuc3mBacL3oL0qr134N2GQxthPxxEAgCxpqCaUk/PWiDwYWBYLhaf8HySfLnnOD80U/+nFWonnybDYZxBmUI9mtwbAZ5i5AfThcM8QzK1Ed+vwXrBcPLsuSH/QbDRYNzRHABIrhwEvd5DqY1uGd2drZ69Wpy5Tm3XFDmQHCspnaaXnguH+5Trf9XRci38UA5kHDP2hTL3XffnR9eWqiBUanzXC7nzlM7a4LX0XV546K8ss9QDlRQ1Ocu/vznP0N5PuAZUniRqth2LverTSsh9957rzsn7lzvDRTvPceGV23joyLMK88tlUCZG2L5VjXct7etMcas3vlvmOtWAn8ArrTWDnswr7X2BmvtHGvtnNF6GGxXvvCFL7gf5TU7zVhNfjx/CHdlOuhwJnEBCLhGv8F/DsbFD+I6nl24jsom8uPcg+cjNvv5wTMMwbwsrkPW6P96cVd2o7iIexB396HwvL7GbzPs8xJ0LpM+7SC42OzzOMZ/zpB/diWJu6vTWLCNIEjZ7MsVdDIHcHeMesjfKWoj/5xI8JxBcPcpeA4ohLuiHfb53erzFcxvx3WGtvnvQce1h3wQgM9Dl89vcBUCn68+3BX3wk50zE/rxXWStvr5NQWfB8jv643kb18HweyAz3Ob32YK1/Fb48sT3O3ahDtRbCHfYdxMPsBIkb9jV+/Tyvh0G/z3AV+nwfMm68gHZ8F21vj8T/D7InieKQiIgvZHwXpryXecNxbUb1Bf+HKvId/xjpFvbwn/V1i/QdC7hXwwbv20oCyVBWUJ2mQd+aGMneQ7wQbXDoJnRVoKymB9GbJ+PwSBSArXZit9PpJ++TJfd5DvFAfpHebXy/o0pvl8BdvM+rK1+PzUFNRR1tfROPLPbm3E/RilcfsjuNsS9XkrbLvB+WILOwbGG8hfAAiRfw6rDdc2Nvvlg3NKUPdhX59r2DG4sj5fwVm5gvw5Jo07h/WSvzAB7tyTxp1zgroN2n3E5yNoE8F6QfAd3H1uL6i/PvIBUPCM1HbyFxyCgGUjnHrqqexs3rx5hHvDbrmt5PctPq0N5J8NCqwtKH/h8qVogHwbD2wHeuCrX33V0elv2pe+9CXXdtp2mrGW/HNzRVRZWenae+F+zwGrecUQyaIYIN/OAtuB7uLe6bn22muhD+zO14nXMir1PpTWzvW+c/+pxFx22WXut2HrTjPWgknvfKVphFhe2cb9b088Ht/1OiMpxSvb+FZgAL72td0OBNujhhv7F46NKwPO5ZUx3isYY6K4gOdX1to/vv7svUV0AfeRv5W3CfesxVjcTu/w04IOZTAufW9cw1hKfuhSNy5gmohrIMtxB8tjuOEj4Mbvt+I6BDHc8wHTyT+vsdZvO3g+7j7ckJlgmNDfcUNkGnCdlKdww1eW+3TSPi+r/LS9yD93MNmX4RFf7iCwWonb4y/7dF/y2yjsFB+E60QsJx/w3OvTrgDuxA3zacI9M7CK/LMwvX6ddb7OOnHPCRyCC6yCOm3GPeeR8vXVhxvHuh33jMhefn/M9/W6kPxwtKdxJ4it5J/tSftlOvy8p3GdpMJ834O7ZZ/A/Yhv8HWxDhcgbvHbGOf31UzyL0X4J25IUG9B3Uz1yw346UFnfpzP20v+c9SXLUd+zO4qv85MX+cv+3p7GjeMwOAGkrb4sk3zZfgLriOfwLWhpC9XMIRwPe4ZmeNw7e9Zvw/SuLaQxgVQ43HPi2R8/Xf672NwwajBDZELguJ28s+HLMANX0r57ff7MryEa9/9Pm+b/baDB84f8nnP+PppxQ1behz3jEkw/G4t7pmjQV8fWV+PL/p62tfvpza//8b6ModwQ8G6fFmCFwT0+rJHccfbMr/dA8g/E9Tpl5+PG0oT8eVZixt2NoBrx5vIP1P1gC9PcBfkAdzxGgRHT/h5T/ptB9d8nvJpT/H1+TSu/b/s091A/i7xVp/uFL/dbbh2+gCunYRxx0C7r/dncMNx+nHnky5coPQXXPutwZ0DnvP1dT9uuFCn/3sWd+45wJd1vs97cJHkJVybXenT7fNl6sL9cAcvQ1hI/u54cDHocZfG73//e3Y2e/ZsTjnyFO6af5db9k6f32D/rPLbGkv+ucZFDF3QmXvw3Fdss5T865n/ym/u+Y07LqfhznNPQDgZLuqLDA466CDi6TiDfx10bbsOd2w/Bee///yipRvYtGkTNRNq4G+4487g2u5WaGlp2e26I+F9p72PvzzyF3esBPX+JNAPxx9//O5XfhPmzp3rjqm/gT2G/MWOp+DQA145PHSktbS00Lx38471vhjYAosXLy56+nvKxIkTaSprovWuVtfeG3Ht/Un45EWfLEqaTz31FEeedKR7RvFg3G/GIqBt13fFR9pRs47iyflPui/TXLo8DqbXMHv27KKn/4ZZa9/QH7DwNeYb3Nvbfvgq8x8C5gwnrcMOO8zuaYClEksdlgosYSzVWKqwlPtr6GV+WiWWBJZa/2/CrxPMi2Cp8euG/byE/x6sE/F/lX771X6dkE+ncP2o/17n5xm/fN1O6ZdhifvvdX7bhXk2Pq1gXtTnJyhjjf+3zG+j0m835v8N8hTMry4oQ6XPe43fZrzgr8ovW+E/xwryXeXXSRTMjxTkp8rPixfkvdqXpcJPr/XLxnyZKChbja/DWME+DMoZpFeYx/KCegvKGtRrUM7CZaMFdRPUWbX/XO7XK1ymcJ9U+XnhgrzivwdtJSh3rKBuywrKErQn4+fX+HWC9lC4naCuqv28UMG2g7Yf5KmCfNsI2lS1/wvvYn6kID9BHoK2GuQt2JdBvmoKth3UbdCe6ny+guMwaOth7DnnnGMPO+yw/L4sbAfB8VRFvs2XsWO7CY7P4HuQF8gfW7V+O0EbDaYXtrNgf8QKlguO9WB/R/1fVUEZgmMsaHdBvmPs2J7j5M8HQbsKzhWFx1tw3tg5/3H/PbgHWLhssC8LzyXB8oXHd9CWC4/l4HxRyY5tuvA4D+ohOHcE6wXtIth3NdhoPGo3btz4qufmdDptv/rVr9poTdStv/M5JlZQv0G7j2IPP/zwUfwF2XPOPPPMHc6NdXV1o5Z2c3PzDsfn+eefP2pp/+Uvf3Httc63hzD29ttvH7X03/Wud+1Q75WVlaOWdjwez9d7Gfbggw8etbS/+93vunqvzdf75z73uVFLf0866KCDhurdVBr7qU99qqjpXXXVVfn+Qa07d99xxx1FTbPQUUcdtUMbr6qqGrW0dwdYYF8lnhju29sKLxGEcHd+Pm6tPXg368zDvVdqCfkbcF/BXYP7Ee76ZSfwnLX2tN2lv6ff3iYiIiIiIm9tu3t723CHt32/4HMGN0jgX3a3grX2MV752GzgT8NMV0RERERE5E0ZVtBjrT2x2BkREREREREphmEFPcaYz+5uvrX26pHJjoiIiIiIyMh6PW9vOxz3bhxw/wfr07j3BomIiIiIiLxlDTfomQgcaq3tATDG/Cdwl7X2wmJlTEREREREZCQM6z8nxf0vB6mC7yl2/G8fRURERERE3pKGe6fnVuBpY0zw1rUzgVuKkiMREREREZERNNy3t33TGPMP4Fg/6SPW2meLly0REREREZGRMdzhbQAJoNtaew2w0RizV5HyJCIiIiIiMmKGFfQYY/4f8EXgy35SFPhlsTIlIiIiIiIyUoZ7p+cs4L1AH4C1djNQVaxMiYiIiIiIjJThBj0pa60FLIAxpqJ4WRIRERERERk5ww16fmeMuR6oNcZcCtwP/Kx42RIRERERERkZr/n2NmOMAX4L7Ad0A/sCX7fW3lfkvImIiIiIiLxprxn0WGutMebv1tqDAAU6IiIiIiLyf8pwh7ctMsYcXtSciIiIiIiIFMGw/nNS4EjgQmPMWtwb3AzuJtCsYmVMRERERERkJOw26DHGTLbWrgdOG6X8iIiIiIiIjKjXutPzZ+BQa+06Y8wfrLVnj0KeRERERERERsxrPdNjCj5PK2ZGREREREREiuG1gh77Kp9FRERERET+T3it4W0HG2O6cXd8yv1nyL/IoLqouRMREREREXmTdhv0WGvDo5URERERERGRYhju/9MjIiIiIiLyf5KCHhERERERKWkKekREREREpKQp6BERERERkZKmoEdEREREREqagh4RERERESlpCnpERERERKSkKegREREREZGSpqBHRERERERKmoIeEREREREpaQp6RERERESkpCnoERERERGRkqagR0RERERESpqCHhERERERKWkKekREREREpKQp6BERERERkZKmoEdEREREREqagh4RERERESlpCnpERERERKSkKegREREREZGSpqBHRERERERKmoIeEREREREpaQp6RERERESkpCnoERERERGRkqagR0RERERESpqCHhERERERKWkKekREREREpKQp6BERERERkZKmoEdEREREREqagh4RERERESlpCnpERERERKSkKegREREREZGSpqBHRERERERKmoIeEREREREpaQp6XgdjzKv+jR8/frfz9ac//b35vxNPPHHoczwe3+Uywzle9ffqfx/4wAf2eB4K/+6+++5XPSd3d3czbdo0wuHw697u20kkEtlj5d6TdX7jjTcOpX3hhReOevqTJk16W9b7V77ylaG0jz766FFPf08Kyl1dXT0q6Z1++ulDaX7nO98ZlTQL/V87pxprbXE2bMwk4FZgLGCBG6y11xhj6oHfAlOBtcC/WGs7dretOXPm2AULFhQln8NhjIEoUA3UAP3AAJAC4v6zASqAeqAL6POf08A2v169X7YHyAFZoNxvN9hetZ/X6RPP4tKu8f+2++03AUkg4fPQC5QV5C3h0y7367ZDuAuyIZ9GPdDh1osOQLrOby9esN0Gv90eCPXD9BCsyPjtVQCDQMSnEwUyQMyXowy31/v8/IhPNw5s98sav0wFVA1Ccw80ZWELsCEBmaBOq31eUz5PnRDph1ACYtWQ7oVcD6QTPt8d/t86oNvns3BfRHz+an0+Ov0+SfjpVX7ZXl9/cV+OiN9Wwtdzt5+W8cvE/fLl+boNA+FKl89UF+SSkBnv1+3w9RbUdY9PJ+On9cG4FEw2LtsbKiBT7+f3+vQG3XdTAyYMtgtsBupzMCEL5RnYAGyvgmg1pLsglYJoDnIRyFYU7LcqMO1ge3x9BeWv83UU7MsqP7/H10MK12brfP1th/oByFRAuhZSacj24jT59LpcO6tMQW+FSyfcA9mYz0vCt48OX07fhoeOqzKoXw8TcjAeWGVgQwwGQ7j2H/PtpjDvCZ/3IN9lBeXow+2soF1XQHgA6vqgMQVbQ9ARtMcQxJIQ8b9pGV+nkTBEqqCqB5pTkAjB+ghsKTwmQv7fmK/fpK+PKv/X5fJhLJgk5FLkzyttLr1oFWT6wQbHaZXflvVlCD43+v3S78vU75et8/ODehnj1+vw+7vH5y84tit9Hrb7/I3x29kGZtC3mxqwHS4dG8Gdtxp8+YK/MIQTMK4TJmdhu4HNldBT5vPXC6YCTAPYQTDdkIv5PHTDzr9VBxxwAMs2LnPHcRRo8fVb7fPf7uu6wq1P1KUTSkEkAuke+NUvf815551HKTNR4+okOMf49l6s3/6hdI1xdV+JS3870A1/+O0feP/731/UtIfSD84Bwbmkq/jlHko/bFzbLKj36nA1XV1dxU13V/XeBf/zX//DV7/61aKmPZR+UO/gzjOjWO97SnV1NXagh3FAUwQ2pGFLDh594knmzp1blDSNMe63sY58v3EX58piuOWWW7jokotc+g0u3eC3dU/va2PMQmvtnF3OK2LQMw4YZ61dZIypAhYCZwIXAe3W2u8YY74E1Flrv7i7be3poCcUM9gZwNHAOFwn5WFgE66R1eN+bM/EnWgGgMeAZX5eP/B+XCfEAk8Dj/t13uv/fQY4DPcjXQm8BDzl0zoFmIk7cW8C/uzTOAYXUtbiOi0P+W2FgPXAFOBkXOelH7jTr3c+rnOTAu6G6FLXYU7tD6zGdWjOwh1IWeBJl5dICjLVwEnAEuBIP+8QYLH/9zlgti9rB66zczdwnJ8ewvXg/+TLdhBUpOFfVsN7YxDeCn0p+GoIVh8EvAPXgekHHmAoQKzogBlzIV4OqX5Yuwz62l3nkzLgfX7ndeE6Px2+Pv6O60S/B5iA61C9BNyPO3hP8Mv9FZjm9oWpg1Aa7EOQ2wtYBRzh19mO60yNAfbybQRgo0srUQv7HgkR4/K2ZjH0xHHt6R+4IOC9fh/m/D5c4up9ehK+EIZYHXxnEPqOg5YmSNfgLhc8huv07gvx6RCPQfcfoaEPPhWCQxNgtsKWCFwbhchJMGhh7cOQ7AUOBbb6vB/n0oz3QvpuyK0FDvT7utLX083+8+lgasFmfX5X+nZ1DrAJ9nrI7afKE6CsFranYd06yC4DLsO14xeB+1wbMIdB6HkfkNf7up3u285K37ZO9Xn4B3AU1M6HizfBFSGIxaHNwpVpeKAO15Gfhmv75X47D+KOvdNxbXYj8E5fHoM7Hlf79I937TTaDntthvFL4LAUXGMgMxdiT8P4o6FpjMtTWztsegTSZbBXOXywFQ5LuG23WPj/+mBVEITMwB0nSWCzr78xwOG4Y7gMQk9CfAykt0Bmm98Pjb7ODnKBho0AK3DHxnG+fS/2bS/hP38Y19ZX+fIPAu/2dWP99LuAucB+/vuTfrlj/OfD/fwwrq3/CXdeeC+YX4AZDxXzIBRzAVrfPS6wZyzuXDnTt9P1QCscUQFXRqGyB7IG/h6H26dAbweYTih7D8QaXPb6X4Ts42CPB/4J82bN49FHHwVg/vz5HHXaUflzYw74sWsbHIo7V9T7egsuDN0H7AMsgqZK6OuC/o17/ge6mIwxMBVC74NQtTtms48CC8H2FTnoqTDuN+14XPvpxv12rRmlgKsWeBfuXALu+P4b0DFK6U/F/Q7V4n5HHwWeGaV6PxT3WxbU+1+A1aNX7+YMCO0NxkB2Ddi7GJV635MqooZz4/C+ZncBrGcQfrQF5qeKU25jjDsXvwfMXmBzuN/LvzMqQaYxBvbGtfEqXH/un8CzYPvfukFP0Ya3WWu3WGsX+c89uBBgAq6KbvGL3YILFd6yzjrrLGw57od1DK7GYriTedBhqsR1TCr9SuW4jlsId9tiDu7HF7/8EbgOdhzXaLfjamYargNtgMm4k+VYv+3gzuEEXMcp4fMU9tuowXVcWnzeMrjOUMznIwHMwl0BivttxYBj3R2S6gFcEJP1+Quu0oRxHYlKyKR8XpK4E/oArmOT8/+Ci/in4AKP4I5Is8+z8X9jfV4ywCHQtAbeVQHhmEu33IAth8hMv40sLtg5ClgHsRZoPghiEQgZd9V28oG4K9zGld/U4072dS4NenGBaiWwv69HfH3PACbigsNpuKAs4ZerdCcT0+CWCw/6dTuAg/36cV/HR/j6CvsylkP0IIjEXB3FEjBhFkQ34m6/RH2d1/i8hNz+IAqRtDtQmmtg0QCk94XmRkhkfH3v68sWAiZDpAzSG12a+xk4rBxMGkwIJtbCaTnXwauqgsQUtxwH44LCY8BEXfnTCYgeASaB6+xW4HqgQTs63O8LAybi1h1qSz1QthL2CkP4ABfwADSEfZqVwMt+H8309RiFSCuEorj2HgQGxtfrBNytnPW4TuyhwPPQ1AKfsBCLuWUbQ/DxEIwb9OsdhTsR5/z3Y4GtEIrgAp4jfdkivnxH4drzdJePUDVkoxCaDJsqoDcK8SluGxUToKnZ7+cQNI6BiilgB2B8OxwecncsiEBzGN5jXfVgcIF/2Oep3reB2biArsLdFTSHQHoTZA7xdbYBF5DMdnVhw37/HYm7+5PBHXd7++/7+e2v9WnOwAX+03HtO8jLdL/O07hjZQLuuI6Tv9t2lM8vPr+H+33h794kjvL7LgShMogd4e7QcDiukxnxn+NQk4KzDVQZoA7CGTi9HMasB7ZBeBbEGn3bCkFiprvgQC/QDI899hiBE0880bWL4Nz4PO44OtSXJQjqa3HnjxrcOacFmAMdW2HMLIhXUNqqgCNdewZ3cSt0NJCgqMNRjDGu/cwj336qceeU0Rn149r29ILv03b6Xky+3qn138O4uqiAaDRatGSH6v1Y9ly9T4PwdBfwAIT3wp2DSlh5eTlNwLvHuIAHoCoOZ9dAffF2N+zrAh5w50yzD+7i62gI2lWV/x7Btbsin1verFF5pscYMxXX9XwKGGut3eJnteC6h7ta5zJjzAJjzILW1tbRyOYu/fnPf853wCIFMypwHSpwP6rxnVaM4To0UfLBUCAIlNK4DlfWbw/ciSrn04rtYl3IBxRZv3zQvoIhQTncnt35B72sIM8B34GNQH54TNVOy4T9tsN++WDITTC8Jvge/BsEN2E/beft4csVc2lWWIiF8utkjbvqH4oVlC1E/mpCxt3hoWB2NOZ+0LHsWGcRv2457gp2sJ1CJl8PUFAu49cP6iwBJourx6T/N0gj2F+BkMtLroz8MD4DZeX+isygn15VkC649lLmNleHq48e64byYdxsrP8rPNnghgQRg6YgvYL20WD8UCQgHAyxCoZOBvkO+SZQ6euykh3PEDnygX6gzG8j7OokPgi5EIR3antxg2sbfQUT/VBOO+DTi7s6JihjULagjeHLPOD+qQjajDfWQDTjv1TsOI9qV15rcW0oaCPBMsFwrsJ2FfGjMMuhKwfhKlfGcGH7Cn7YfYDVEBy7Jv+j32AgFpxDgo6Ibx9DF1H8NOPryQbDKIO2kvRlKjzey8gPQTPk92XGL9tTkM8cu+70VPv1C88ZcVxQ74fy7aDK52EAbAhC5TvOHqqbSvL7rNxtP26hOtieDxijuCDI5MDsdFwa46d1vTLvg4ODOx7HXeTba1B3IXY8foNzVJU/ZQfLlLIwmJ1+Q0Ixhtp5UQXDOAtVkj8Giu3V2vto2NXvqD+/ZDKZXawwgoKLFoWC43Y07KqOa3YxrYQkk0kSBuI7BTg1UYgW86bHrup1T7bxXbW9t5iin/KNMZXAH4ArrbXdhfOsu/+2yyZhrb3BWjvHWjunqamp2Nl8VdZaQlnc1f/CDts6XO0FHcuWgnk53B2eYCz7yztttJP83YSgc7kB11lJMnTVnC7cVenkTtvejOuU+AAA35llg1+3wy+3OiiE/zcY815ohStDKurXG/DTCrX5eVlflgbc1d4xuOF2dT7tOv990Kc/gBu+FZQtYH3eBoBeaEvAxhRDzwDFLCTSkNru0zR+/ZVANeSqYPsW1ykK+jPbtxWUc5X/N+y2R49Lhym4Ts/L7Njqkrir4lmfzhjcsK9+/xf1neX1kEuQHxK23m8vSX6fBwZcXZsWhgIesrBts78L0ITrbO6cly0uz0kLTxmw/TAjBrl1kM66YhD2+dzo1+kBYyHS7D4/n4V+C8TBptywoyctmCZXjmSXr49BX+ZNfjtZ97ucWu0CEVaTf/YKVw+s8esEgn2bBuqgawwkU5BZ6+vMz+5J4tr83n69QV/ngJngn11px7XRICC0Pp+bcW0uh2ub46E1Cs/n2CGIfzAH24M7U0E+g7wvJx/o1ODaki/z0B3ZtE/LQi4DpKA8DaYd9o9Cci3QDH0bIJNlKLDMWuhfB6E4LI9Bf8oV2ubcIk8AvRbXTtrJV0qwjW0+DynIZcGuhUgDhDb4fd2EuzS0Dtceg3Jv9PODoapdfrs53N3j4OpqcPdrJTseh8ExNQF3Lkri2nQP7qp4e0F+Ay/77Ve5Nje43k/3+3pwjbviyBqfbxi6q9kegcVZH9gNuFlbsrA1DrYSsit9m/Hbyg1AbjPurmaQjjd37tz8HSdwd3xayN/dDc6fwbN4+Dw1uDKXR6F9A6QHKG29YFftOCm7BeiBU045pWjJnnHGGe7Y3bTTjJfZ8Xe0mF6tvY+GXl75u+/b5yc/+cmiJXvyySe7+t1VvffuYoViWOnPn57N8so+RYn5wQ9+wHYL67t3nP58D3QWM+hZ4evXsyny/Z9i6+eVx9MGN/3mm28epUy8fkV7pgfAGBPFjaK9x1p7tZ+2HDjBWrvFP/fzkLV2391tZ08/0zM0Pvgg3DCoTmAp7ke11v9rcMOFJuGChIW4jkSzX3Z/3I93L7AA19Epww1j24t845mB6wy96Lfbjxs6dhguoHnBLxvDXbncj/yD823kn5mpwp38DiMfeCzCdSiOwA0N2eryktgO/eNwnb7gRQAH4oYC9OCeN9oGU3Kwroz8MwFlPo3g6nIU1yGyvlwZXMdkLa7TFjyztAzXofZDqpgG+7wEZydhTBKW5eBPIWgNhjM14U7iS3BDfFohthpq9oeqJujvhI4XYbDel6HH18teuB+a1bhhOzW4cf1xn7+ZuM7is3771T6fB/g67vTb8M/G2C5cJzO4M7fCpxXy2w6G0CR8mV9wd7BqZ0JlA/S2QucKSB3s9/UzvvyzfDodvm10uv1X0wUnZ+HIOPzewguTYWB/v+4SX9cpV/+h/SCSgPR895KH2Tl4bxjKeuAxC083QXwWdG6CvvWQ64VsEy54a8Pdh62B8HrIPQ+2BtcxPRjXKW7BDYOyftpkn88Fvg0kcbe641DzJNTmIDMNwlOhLQn9y3Gd71N8u1gEbIbyLCSbIZRxL6OwCdwQt/39vlzhy3io348v44aNbIcDF8HHLEwJu0dyfmVgY/AignK/zjif92dxx+Y+ft+s8Pt/st+HC8gP6aoDGqCsDxpfhqO6YPUgPBuD3CSIbIeyKqj3AVz7SkhuhkwcxkyAvdbAuzKQSMDjIXgwBF3BHc8K374iuGNyjd+Ph/q0u4H1EB0PudWQ7fHLT/b13wTxehhM4gK5cbi23urrZgL5YGAe7hh70dU1SVzgH7S/xbhA6khc23/J10WnS2fohRCH+7y/jDv/HIQ7NzwKphfCh0KkEdKbIbcY7Fi/nUPIDz3rcnlpisC7+2FWH7RF4I4ELN/X7RPT7YZnRPfxL/x4zgfflcBGsIM7/laZMuPOx4e4dsddvhyHu/bBWty5qsp/34IborcCqsdDcj2kRuGB/j1p6KHyWX7cfyfuvNMySmP+m3H7ow7X1hczKg9a33jjjVz66UvdeX+n9v6za3/GRz/60aKmHwqFsFXWHSt7446pZ4Ato1jvc3DtfRTr/Stf+Qrf/sG38+eZkE97DXz5M1/mW9/6VlHT35OMMUyPwLkVMCYOS/rhb0nYlilOvX/nO9/hy//9Zdd3OBj3O/IssB7sQPHPaUMvUTgYd5y149r41j1/Tt1TLzIwuGd22q21VxZM/y6wveBFBvXW2i/sblt7OugBv4ODt35ZXEcsGF6TwjW4YNhAMBylxs/zV/2Hhmf1M/R2rqEhNcFdmzL/7wD55w0s+eE6wZWESp9GhPyV/7hfL01+uF0IiILph1DWX6SPMTREKzzo35gVLshn8DalStwK/lmZujB0ZArSz/jl0wV1EeSlcKhYBfk3ygUPVpb7egiGhYUg0QeV1vX90+Xk3woX2amsA1CWhXTMPc+TTUPGD/ExlWB72fFNXIO4H/4M+auMQR0E+4OC6XG/P/sYGpJksmCDoYNlvk5C7HglMe7ziy+vr4twCCJx90xUFvJtJLhDF/F5De7amfz+MWmoC0Eq5O8W+KFCQ28OzPq6KYeQH9qT822hOgfhNHSE3DjjcBQGgzsMcYj2Q6bcX1jPgYm5O0tA/k2AfrgdaZ+/wvYY3OEJ9n+Z/3fALVMBDJZDJhiiFQzJy7ltR3IF1edfOGAM2GAoaZr8MMKo30bwooo40OUOsUpgWwTSQVsMTmk75z3u6zbp6iOTIf+WQ3y9BMv7fVuddcO4enL5egvafMw/f5fy5cVANO7uVpQPQjQE7cGtfr+Pho6L4E5WUN/lPr8D7t+wdUPccv6O3dCxnXHLxlMw6J8DGhrSFSvYZtBWIuTbVXBXrNrPD4a/VZBvR5Xk23bCrxcM0+0u2PcR3PGRc8+DmZi7MzP09sYc+aGK6R23E01DTcbdjewPhvD5O6GkIFTlPufSDA2b/Mc//sHpp59Ooe7ubhoaGsiUZVx+u/12Ej5/XTvVq6/DSBSyKX8nroQDnoAxJj+E1/8ejdobzIJnTAraz2ilfeGFF/KrX/0qP4S4G4488kjmz58/KumXl5eTHEzuuXoPzpO9+KG9o5P20UcfzZNPPrlDvTc1NbFt27ZRSX9PMsaQCEN5CDozbhRAMeu9qqqK3t7e/DCzHvj2t7/Nl770paKlWcgYkx+t5Pu9b4Vz6p4Keubh3lcSXJMG+AruuZ7f4a5drsO9snrnQRQ7eCsEPSIiIiIi8ta1u6AnsquJI8Fa+xg7Pkpc6KRipSsiIiIiIlKo1N9dIyIiIiIib3MKekREREREpKQp6BERERERkZKmoEdEREREREqagh4RERERESlpCnpERERERKSkKegREREREZGSpqBHRERERERKmoIeEREREREpaQp6RERERESkpCnoERERERGRkqagR0RERERESpqCHhERERERKWkKekREREREpKQp6BERERERkZKmoEdEREREREqagh4RERERESlpCnpERERERKSkKegREREREZGSpqBHRERERERKmoIeEREREREpaQp6RERERESkpCnoERERERGRkqagR0RERERESpqCHhERERERKWkKekREREREpKQp6BERERERkZKmoEdEREREREqagh4RERERESlpCnpERERERKSkKegREREREZGSpqBHRERERERKmoIeEREREREpaQp6RERERESkpCnoERERERGRkqagR0RERERESpqCHhERERERKWkKekREREREpKQp6BERERERkZKmoEdEREREREqagh4RERERESlpCnpERERERKSkKegREREREZGSpqBHRERERERKmoIeEREREREpaQp6RERERESkpCnoERERERGRkqagR0RERERESpqCHhERERERKWkKekREREREpKQp6BERERERkZKmoEdEREREREqagh4RERERESlpCnpERERERKSkKegREREREZGSpqBHRERERERKWqRYGzbG3AS8G9hmrT3QTzsYuA6oBNYCF1hru4uVh5FkjNnTWRCRYbDWAjpmS0mwT3d2wAEHsGzZshHdZina+VgYrbLvqXTfiuk3NDTQ1tY26unC26/e95Sqqip6e3uHvo9Gufd0Xe/p9F+vogU9wM3A/wK3Fky7Efh3a+3DxpiLgc8D/1HEPIwIYwxUAHVgmsC0QLwDTBYyYUglIRKDcBWUj4FUF6Q7IJ3EhXf9bl0mAn3AVqAbqALqgV7cnkgD4wALbIaKTshWQLIZSABtftleoMFvexsQBpqAWmANkIJQA+TqgRYgg7un1wPEwVRBqBZoBdMJmXpf0H633dg6l9UDY7AtCyuy0J4BDFANjHdpsB0YBGIu7XEtMDMDJgpLQ7A57NOOuXSp8v+2FfwbdWmGyyHeAvF+6K2FTAPY7RAKQWQQcv2QCQH7ABt9HdQAE/x2tvv6S0PEQKQKKsZCfz8MdPh0JgNL/HrNvjytrtzxPrD/f3t3HmVXdd55/7vvULNK8yyhESQkAQIJMWMG22Bjg922Y/N6SuK87tdxd+yspLPidLrdznrz9kp3r3Qnr5NOvOLZjoMxxo2xwWCwDcYMFjNIgCRAaC6hsVRz3fv0H89z6l6VSoGOqXvLV7/PWrVUde45Z+/97H3O2fucfa4mweDsiMWrEeN8rDMVaI14Hol4luJfi/K0xr7bqup4WqQzOfI4CCyOfe6M2EyOdYjYHo3PuyMPC2LZIWB2pLknYp+ibDMiDy97eebkYVUe2nPw1BDsKEF5daW8DEFLDgqTYchgsAloBzsY6S6NGPRGGTqBXZB6waZEPg/EOkNV5ZgOPOP7oh2Yhbf5rsjv0sj/q0B/LCvGei9Vta8mYEfkZWb87AQOR/x6oHgEitOgqRP6uqDUDcODVcfr/KjnvbFdS/zsxY+3yRHbQ5GfnljeGct7ox7LkecjVe2gn0ob2u37KHZAoQP6eiKd6bHewShfS5ShMz7bFfkqRoxnxb6O4MdyFp9cpLWDSps/GHkuxWdRT809MPwqlPJ4u2yKsgwBW/BjcH58lqV/ZpR7F+SHoXQ08jgbb8u7qLTPw7BqCObn4O6cZ2dxgiVFeH4ItgO9UyKWHcDCqPvDke4evJ3Oi3IeiXZy2LdJUyAtgHI/3lZbY3lKJ1xMU0o0dcCkpZArwpEXYEYOVhYgleEXzVCaHWXZGWkNAsv991xLwgYm/kX6V5FS8njP4ri2PlY8xyXtDvzcNA3YCaklQY1inlKiOAla45ze31WbcgPMmDGDA8cOeNznA4fhwKsH6hP3XZBaE/TXsBM+BS93wuu9RnGvp5G4L6ZmcU8pVfqW5UizRrFOKfk1bTbHXZMmel2P26DHzO5LKS0etfgM4L74/W7gR/waDHpoAc6GpkuhNQdWhv4fw9ynYXcb0A+tp8HyS6BQBDPY/iwcfgKGuoHTIPdeyLX77oY3AXcBffgF6UzgCeD9+IlqENgLvd8HWwuswzsfR4E78c7AQeCjwN8Dl8c6CfgqsATsPLzDA/ADvKYPALNg0hWQcj44Sw+BbYLSh/EOyR1wXhE+PR/ail7WB/fD3/fAoanAVXgDP4R3JB4DLoOFD8O/z8G8eZ6PPQZ/PgivGN7hugzv6LXhA4kf4J2QSyG/AE4bhJ5BOPwYTDoNjiyDcgeU74PWFrB9cHRPbNsHnA68M8plwP3AI8AwtMyGtZdCqQBPFPCO5AG8Az0DeLPHiOyzu2GgAHNWwKFlMPAUcAWwCPhppNMS5WgBbsM7cq2RNngnbiVwbvy9C/i554cPRGzzeMe+FT8x7ox8zIt8vCvWGQI2xfYfxju9B2P5s8D1eO/yB7HscvzEN+zbzcnDn3bC2ZM8K/sH4E8PwOZno808CC3bYcZayPXBoTnQthq6D8FwH/AUPnjagHdeN0BhCgz/JdhyKLwDUsHb+fADkB4By0de/xY/4c/An/O2R31tijq6Dr8w7AXujXJ1RN47o2xLI4aHgJvwQfz5UL4SuMXrsdgNU8+F0870tjw8CFvuh2MvR72uBt4a8Sx5HfMEcAE+kFkMvBs//izazr14J+X9kSeAzfhZahXwAnANcA/wG/hAbCDyeQvMXAP7NgGzIXcx2AKwL+HHzEq8LV0Z8cluANyMHxP/Cj9+h4Hbo52sj3o4hA9YVgE3QGry45IH42dq5GcABg5AcS+UnqHS9qbF9vsjnblRtt0RzznApV4XpW9EPbwVHxwUov6+G39vhZ3RhlsH4D3NcMPcqIMSfHkX/KAfyqsiztfhF+Of4eeK04C3xX6bgcfxQfICvwHT+m4Y6PCbSKVtYD+O9e84/mK6ePFimjpg/pUwY47f3ChshU9PhjVT4eP7oPAmbwel5qinmyOuw8CbIT0G9jyNbzHwbkjN0W4eAR6oQbodwCXABm8fNgB8D3hu/JNOKdE0GRZfDZOn+7IjB+Hle2rTKTtw4ACcAbnrIdfq58rSRvycPt7agYviJ+H9iVupWdyZhp9n5sfCfcDNE78z/CsbK+7fw68h4yCl5H2q90GKgb3tBL5bw1gvBW7A+5oG/AK/Jk1gtX6n51k8RADvw+8DTmgjo9n1fmcc/AReXA8H2mF6HzR3wKxVPuDxbWDhSkjZneVzKwMegPyZ+IlhGO9kdeGd+Fl4jeSBOWDL8IFBW2zYiQ8b5+IH1U145ykb8BzF7w6fD5bzJy6p6H+zF+9sn+75ByhOAlZCrjnSPQcmF+H6ST7gycp64UyYk/COw2wqd3G3RL6H4ZJ+mNcWaeRgbgEuT3jHsC22yeEnhgJ+kLR7ms0DMCUPPUUonAtHu6Clw9POnw3dr8Kc1TGG2xXbb6AyZE94Z7YZ8gazVkJrE+xPMJjDO8DgHZ6VEeds23kRz2mw/1noOBhlmBd5bsEHJu1UDuy1UUdZ2i1RtrPj74R3+lfENvn4vNPLy8vx0wlpPT6AWRf7Kcb2ayLGB/C74J3AMi8jXZAWRx5bqTwt2OJZWl2oDHgAZjbDO5uhKeEnSfPyLF0Ah7uh6UzI5zzmuTzeXop4J/kCYNDbNE2Q2+ADHvBlhfPBWiKhY5AbjDRWR8yIPC6MmPw4ls2J/E/HO8U78LtV2YAHvDN/NjAA+R1R9nM9JqkF5q+otOVCE8xaDc1teHu7sKqO8viFqDXi3o4PKJqr6nB9fL6WyoAH/IbEdOBRfNDxCt75z5645fFjeQX0bINSh+c7twh4MdI4Gz8uu/F6neKxoglvj21UnqQUqvJ+Dt4mwB+prPcBD0S5N0SeszbYGdsvjrwtj7yBd7bOiLhn5uHH732AQZoR202LfGWx64i4bAPWwdEOH8NON7hmVlUd5OEdU2Fmf8S7x/c7Ev+Cb087lePkXPw8uNePdesAK/hn+eUR+8NUOlBh+/bttMzxAQ/AltthaR7OngHPH4Ujk6F5dVTxcMRpPX6+PAIpD8V1kDppbFm7ibaecvjx3Ta+0z9TSt6u11XaR2qOtGsU8/ZFlQEPwORp0LG4Nmln5/Zcq/+ZEuTPA9prFPcNVM4pTXjcJ49bssdbzvHH62wq55MGlVLyc0yt476qMuABf0p+3DV0PMW5ZeTmetYPa53YU8trPej5beB3U0qP4pefwZOtmFL6eEppY0pp4/79+2uWwbEzAxQrbRl8oFBKPo3Ckne6quXyfmElT6Vzle0uVS1rwu9Et3Ci1visWhNeawV8SksTlYz1R3oFjs9sdje77OWozocV4mFFlLEAtOY5Ti4Hbdld6DyV6T5Dse8SdGbLsn0BnVmHh6pts3wNMdLBzzazFHcjS5CrOnFYCYpZfC320Tp2XFIOmqJTXsryko+0srvLo1t9LCsPQ2441s1RmZpH/J2i7C1UYpyVO+sAZ7JpZ+XqQMb+hqhMjWuJ35tHbZtt31+1LVXbV+WbbOphLO8c43zTnvNpf+R8n7ls+lNVvnNZGi2xvyxf1TeMRrXlkUGdUWl/aYz1srL3jdo2G+QZYx8D2X6Gq/KW9/znR9VjIdsXnNg+qgZmI3Efnb8xjtWRPGT1PsiJdRX7Lw9TGdADlj3JzY6drM1kUyKNE9tIdZmzQXaWzugyZcf6QNU6WTstctyxznBVmavrs2XU38NVeR6dp3L8G+e1HNA06lzRUoBcNt1zdLsZq11UHSep+fhNRrYbYMy2ka/aV3kQOqI99JZ8cJjSqGJkeU/+Wa45zsWNLBsQj15WHGPdN1qB48+JMPb5d5zkxjiWx1o2Pokz9jnwFIj7CecpGPvc3mhOFvfxPMeMFddaxfqfuyZNYDUd9JjZc2b2VjNbB3wLv3d4snW/YGbrzWz9zJkza5fJE/PhHYGt/u5DZvB5mN4P3e0+JejVl47fbv9usH78budmf7ydKe3H76In/AnMbPwu/SB+1S/hncMt+J3OrMNXwp9WZO/SXI/fBd0Rn8+If7dBMh8sgKdPZ6S3q5KP4X7I74KUvfOzHQ4Ows+PxTSIsPMo7Czjd5CyJ089+JOHrUA73N8E/T2RxxIMGPwsVeV1Bt4pH6AyCDkC7IHBAgyUobkMw89D61To7/c8lbf5310vxyBmSsTpmePjzfO+fLgMXduhbDDVoBDzXEcGiFvwO+5ZffRG/A7D1GXQMxWfcnWYyns4Rxl5D4YW/DZ3X5R1mMrA5JWq/BzDp69Vn/D6vG6Yh99x7/aphcyKOsoGpkbl3aGl+InlWPwd74fY0UivD28/Q/h0PODxITiQdYSBoTL8uB96y4w8pSv3wv5uaC3A8G5Ps7/P48amKNOMyFc28BuA8qhH9aUtVN47mR3vYhyLOGdtaBiforUPn+6SxWIn/l5Kwm+BbI8yUrXdc77vcvZkZRMwCOU+eHXP8Xk58DIM9kUsRrePbLrXksjfsxzfw34Zr+PNo5YfjHyviM+WR9myOh+On+dhylJIR4Aur590epR7L/60JKvXbipPB6vbTObZKMNWKgPgLM/VXow8t1EZdA75NDF68HadnTtWeh7p5/ibJC/gT9gS2BD+FKYLb/fV7XEz/kR0E3AE5ibozsEzB4/P0sbDcCiPxzu7IWOR9wG8PktVMd4Z+ZgGpecgV2bkRk/5MD4tdDHeNkbp2Q39vf77wovhhSF4tRfOmgKFgzDcFXfVskH5s/hxnYdyGQafg/KxE/fbUI4Am44/n7Mdb0/jrQc/roKVGWk/tdDzMgxWnQeHB+HYSydd/Y11xM/t1df9cryjOH369JNu9obowfsJ1Tbj17FaeIHK+REqx30D6+jo8HPx6B7tZvx8P142g1U9OrBe/LpRC2Ndk7bhcZjA0njO+4t3em6v+va2WWbWlVLK4V908FMz+9Jr7Wf9+vW2cePGccvnaxl5MW8V5GdB2gX556C9F460QOqB1Abti6F9HgwcgaMv+DszgHdKFuMdp2PAk3jHYhaVl50H8U7CKryj8Qy07oWhqTC8Cu8UvhTbHcU7TOvwudnT8Kkwk/FpON2QXw2l6XjH5xW8k/2S5yW/HHLTwHZDegGGWvEO8y7Pz+Tn4KICXNQK+4fh9j54OXsCMh+fJjOAd6LiZfumNli9Ha4t+R3bO3PwbAEGsk7X1EijiHf8+vF3CtqANVAsQMcrMLgH0nI4NgPvoHTBpDbo3xGDzouiHPsjH4vwjvPTkZchaG6G1gUwZSF09UHvNrwztwKfyjM3ti3gJ+NDvm3rdOhbgV80duNTf/ojLkupvFy/k8rgLevwT6Iy/bAlYv5S1MlpUc4DUX9r8c70L6m839MV+Voc9ft05Ov0yPeB2N+CaDNPRXzA2+bSSPdhyB2BMwvwzhboSHDXADxegu6z8cHGq55+yyToWADHjsLQaVBuAXsV70yviHX3RJucirfbQ17GtCjWfRpv0y2xTUuUqzPKswTv5GyOfy+jMhXvcMS3OWL0FH5MnBOx3hSxn4lPEduKd9hWAtt8lc4zoHkyHNsFvdthaBDv6E+OfM+LMmyKuloTeS7gA5hlUaYnI8bt+FS8M/GT9xPx+eTI/3y8U56PdRLewd8LLZ2Qa4Pe7lh/RdTZIeCs2O75qOM5EeetEY+zouw78DY5O9LvxtvXTE+D5VS+ZCJr88si7jOguRuGt8a4YTD2sxofRP20KpYW8e7C3zMqAs9C7iCUD1XVQ6vHmv14u3sF3t4D0/LwjeRVfG2Lf5HBMwNw7yC8uijWnxPl6ooYZV9kMD/aRbenyQxgN+T68fa9EsoD8VlT1NtesNLx16pcPtE8A6as8C8y2H0vnF6Ad7TB831w52Qon4O3xS14B/wYcIGfs3kZ7Ngp8EUGHYzZ1mvyQv10vL1Nw9vRNvxmTw1iXigmmmdB5+n+RO/ICzCwH4YHxz/tkbgvoxL3p6hP3LPzTI3inppT5djP4eepPWD9jXucQVXcz8L/Hee4p5T8/Dgfv66V8Ta2F6xWbXwSJ16TDtb/nJpSetTM1o/52Th+q8S38NfBZ+D3Sj+LnwY+Gat8F/iMvY4M1HvQA1HB8Tgv3welk+S62ALDA3GHp0hlKhK+LUNU7r7C8dNbsqlY5cp2Rfwb4ix7ZJjduWqiMv0qm1bUTGWUHdM3yv14h6j6zkvBpweVsydL2ZSpeNeDHl+tveiDluGsrHm8N5VNI8rKZow80mwe9ilm/bkoR9nXTfm4uZunMtUnK0tMPcv1eRH6kk9PsQHIF6E0TOXOcHuUsfrvfirTAJsr+21ugqFhv6tLIdLpq1ovm3Y07CEYjNiMfJNe9ne27+rtTyab0pCVLfumr+q20DaqDNl2g1SmUFVPa6xuN9m0oWx6XAmPcYHKc9u489OcfEpbT9a+sqmUJUbuwOeSDzgHsrZUne++ynaJeBIQeU5tMX2rugzZE6HszlMW81LVsiKVdlR1V3+kXINUpiJm6ec5fmpcVVtPCQrN8U2JoyU81n2RVluUrzq2o5dlTyaymJdGxSUrZzbwiemCmVxMbyhH+XNlKA+NKsPoYzUrUwt+7CUqDTKLb/UxXH0M5Crr5vJ+N92qy5JNKStXlaEl/s7qJJsy2x/HaalqeT7y3FRZP598GltPtOdc8ieGPUPHr0cu4pjlNb70ZWSqYDbFNYtzlu3mUWUYOvlFNKVEruBTM4cj3WKCYh56sym1o2Ndlcd6X5xrYWR+fVVbr+lXVo+qg1p/XXa+wMiXndQj/brGPTunUIdyV51Xapl+PY30E7PZMIxvuUdinU1TrvG3UY6kX3VNmgj1/M8NesZt9p2Z3XiSj/5qvNIcTxOhIkVEpELn5ddWzxidqmnXO/1TNe16q3XZ6x3reqf/L1HrLzIQERERERGpKQ16RERERESkoWnQIyIiIiIiDU2DHhERERERaWga9IiIiIiISEPToEdERERERBqaBj0iIiIiItLQNOgREREREZGGpkGPiIiIiIg0NA16RERERESkoWnQIyIiIiIiDU2DHhERERERaWga9IiIiIiISEPToEdERERERBqaBj0iIiIiItLQNOgREREREZGGpkGPiIiIiIg0NA16RERERESkoWnQIyIiIiIiDU2DHhERERERaWga9IiIiIiISEPToEdERERERBqaBj0iIiIiItLQNOgREREREZGGpkGPiIiIiIg0NA16RERERESkoWnQIyIiIiIiDU2DHhERERERaWga9IiIiIiISEPToEdERERERBqaBj0iIiIiItLQNOgREREREZGGpkGPiIiIiIg0NA16RERERESkoWnQIyIiIiIiDU2DHhERERERaWga9IiIiIiISEPToEdERERERBqaBj0iIiIiItLQNOgREREREZGGpkGPiIiIiIg0NA16RERERESkoWnQIyIiIiIiDU2DHhERERERaWga9IiIiIiISEPToEdERERERBqaBj0iIiIiItLQNOgREREREZGGpkGPiIiIiIg0NA16RERERESkoWnQIyIiIiIiDU2DHhERERERaWga9IiIiIiISEPToEdERERERBqaBj0iIiIiItLQNOgREREREZGGpkGPiIiIiIg0tMJ47Til9CXgHUCXma2JZWuBvwNagGHgd83skfHKwxsppVTvLIiInJLMbMzlv+p5+WT7bSRjxahW5a5n2mOlX8+0a5n+qRz3eqpH3E/VNv4vNW6DHuArwOeBr1Ut+y/A58zsjpTS2+PvK8YxD28Ir9j5wPnAWuAh4EnOopsdtHOYPnwctxp4E/Ac8HNgN1CmlRaWkuMiOnmVYR6mmz0MACuBK4FfkmMfixjiEsqUOcoDDPMKZYyVke4s4EFgF7AX6GA2veyjh8RCcryJMkWMWynSTCvn0sQyevklQ2xhiFXAFsDIcR6JDRiPY2zEGIp8PATMAbYBK4C3Ai8DPwO2Ax3AYpq5mA6OkniAHHvoIge0xbbXAEXgR8A+oC9+FgFvAaYBd0YZhoHZEbcXgSZgB3AhcCZwH7CJKVzLEFsZZBNDXAE8D7wKrAEuAzYBv4jYJGAycEbk5YUo1wzgKuBv4vf5wCXAwSjfi/iDz98Fboq8zAEuAErAw5HXfcBW4Ch++AxHK5nFdPo5lyLLKPAox3gOY4BWmjmLFtbQz9MM8CxDXBb5/CEwKcp6Vez3Poo0AcdIdLEa4y3kuY9hnqOZbs7AuIYyPcDdUS/lqJvfBv4WGGAZiavJ0wn8iBJbyNHPH0e9bAUmMZP9rCOxiCEepZ3tLOMYeYbYGqVqiRivizZxH0UGKbKCNtYzwBb6eYIS+yizGHgP8CJFfkAzTfRzOmXeQpmDwL0R44uAS6vivr0qzt9hNgXKzMe4iG7aGOAXQDN+/yTL+9rID7GvFcBPoh30Aj3kmE3iPBLrKPMY8ChljgH/NtrKc9FG3jwSd3gl2ufSaDv7gR9Hvs8HngROj3TLwFmxzapoBxuBhcBy4HYgH7Hbgbf/HPAIsJY8KylHno22iMtZwAPA01HeXSQeZy3dTKPMPXTgx8oVkf8H8OPg0xGPhyJWx4Dp+PFwGvA2oAf4KrAAeHvk/44o+yfw4/cHsZ9eYAmwPvK+GD9mNuLnkHX4MXYzibkkLiBxFsaDGE9i5PH2fRawIWLRjh9v/xj7uwp4CbifIgWGKNLETpZQ4hI6OUyJh+lmFwPAclJKJ1xMU0osoIWVtPAUU+nilYjz1ZH+vcB68iyhzL3AyxiLo4yLge1j7reR+LVrJn6tuZqsrdei3J72QuBy/Li5F3iuZjFPKY+fW9+GH3s/JKUiZkM1SDvRThunk2MDk9jBAI/SW+O4X4af4/w8U8u4J1aQ4xogR5kf1Szu9ZRSYhZNrKeVJTTxMD1sYXhc455SM35NeBveT/lhDes5O7ccf02a8OdUMxu3H/zK8kzV3z8C3h+/3wj84+vZz7p166yeYJbBfzYox8+wwb+zNibbx1luRYoGv2MwWLXO3xvMM8AuYpJ9jyvsDq6xO7jG/gerbBbNBv/V4IcG59hSzrGvcYXdxnV2G1fal+mwxTQb/K7BIUsMG+yzxAcMzjLAPskkS8y3Il+3yRy0HJdaE/NtLp+1DTxoG3jQ1nOfTeF9BgsM3mzwMevkgE3moHVywPL8J0tMMzhg8FcGGLzbChy2Iv1WpN8S34ntl1gHt9t5PGjn85Ct4et2GrMMFhqsNngqYlM2eMngXIOlBvMN7oj4lAwOGlxksMHgToPfM/i+wUqDv4vthwwGDP615TnD1vOgTeU3LU+7MRKXUlW8/9pgjkHe4J0GxwxeNviFwZcMPmqwJGL3LoOu2K7b4BaD5QbTY79LDN5usNngsEGvwU8NbjD4gcEVEadClG2+dbLU/ohldhvvsNu4zr7HpbaGdpvEJ2x9xGs9D9p0PmEFOmO/GHzYoL+qHF8zWGAL+QubxHR7nkn2RZJdTLIW1lknz9pkDtokXjW432CZwWyDqQafNWi2RSS7h3bbxwzbxwx7nql2ISnq6bDBW2wqLfZZltntNNldnGH3com9lzNsOf/ZJvNeg5zBHxhsiXyVLNFkU/iAreMXdj4P2/k8bHP4EysyzWbREnWGLaPJmniTTeJlm8xB6+CAwY8MFkV9l6N+bjU43WCtwRSbT9FWsszO5Zt2MffbBn5mHdxssD7q6IjBWyJuCwy+WBW3QYPfNmiyHJ1W4DM2nb02gy6bzl4r8CeWZ7JBX7TVD46K+9cNWg2ujhhly39isDjax9kG3zRYY/CYwfujjXXHek9HG3k46uUu8/PC/QaPGvyGJW61HE9aOy9ZJ/sM3m1wY1V6pTgeZhgcsBx/ZOs5zaApyld9jvmC+TmmHO357yIu7za4wPz42lvVrtYYbKvafqvBqqr0d0ZdnBb19NsGP480H4oyXB/xX2w5ZliBv7DJHKw6n/ybiOMfGjxr8BWDzxm8ELH9v8yPpwFLlAy+YX6OeJOdR4d9myvt+7zdvs/b7fOstTm0GPxZxJOqczI2jxb7POvsLNbYafzHaF/3Rgzfb3CPwWNW5EWbxB7L8U6DN8VnefNzQq6OV5bx53X1oTHa+vwapD0/2l2Wbr/5+Y7X3vhXTpto21ur0t8Wx35t0r+WqXYr18Y14R32OZbbNNrGPX2P+5dHxb02bR2wxApr4/GR80IbT1uqUdzraTrN9jnm2/1cbPdzsf2UC+3dTLbcOJXb2/jZcQ3K6vo5gxU1auOFk16T6g3YaCcZT9T6nZ5PA/81pbQD+G/AZ2qc/v8xH822A/+6amkO+H/oZRpXMIU80/G77NUPzj4KTKWTVq5jJs00j3yygoUsoRn4D8DXgTO5ijxTaAEMaGc6s7iUAnA7iU78zuU04FoSa4A2/oZuYD6tvJ0y2ymzF2hlPldX5bTALK6jmXKU41oS/kgykWjjIxiT8LvCHwMWkPhNEi0j+8hzHX7naDuz6SBPAhKtnMZRZke5r8PvkGdNahHwTmBK5Ht2FlH8LvM74+9z8Kc+i2Pbj1bFOAG/Q4kSiRxzuZ48k/GnNB+PzzO/g999bgd+C79zfQR/YvNW/A74XvzO13X4nWti/VX4Xeij+JOSFcB5wLLIR0uU7Ur8aduH8Tvp0yJu7UzjEBeOPAVIJFrpZzLNXH1cvOdxPYlJ+F2ZxXi7aaoqx43ADBI7yDGXzZR4EhimmcR7yTMDf1qXo4kz8Ccdx/Cnaf8vMMAF5FhD68gep5DnNyjQxm6gE7iMWSTOpRMo0MwMCiTeRhsF7mcW19PM7IjbwpEyFZnBLK4nR35k33O5lsRkhugHfkQ77ZTpJPFBcnQCkCdR5Lyo64/Elm0R98vxpz2HWUITibNo5TQACuSYw2QS1wK34E/FPhL1MRX4YFXcChHL+RjTaOeDpGiLiRztfIgyU/CnNv14Wy9Wbf8BvP18NGKUeRP+tGsr/iTrG3jb3Ys/8VgY+5kV+Xoz/oB7Bf6UJQ+cG+kOkuNtJGYzRDeJPN4Wq0/DCW/bk8hhtPJhnqWAt/mPcfw55iN4G/ww3p7Px5/kzMCfht4Y+QL4S+AGvM1ZLFuKP1G6Kf6eF+VZSY6FkfeLIs0FQDd+bC0EDlNmMq1VdZBINPMRErPx82U3/lTtffiTo91RR9m50IDrgZk08xjXMp3Wqna7iHmcSSvwOeBiRjuXdvppYYAV7OC/4fV0Bf7Eryl+n8sQx8jRTIEPkWN7lGFBxPO0E/bbWBZz4jnmA8CscZ2yXbkLfGPV0qbIy5JxS/d478DbeGYJ8K6apDydDq5hAfmq43UtZ4wcjePF4z6d48+NTdSyred4G0UWjfxdZD45rq9J2vWSUmIacPnI9RLy5LiO2cyq6ku98d7D8fV6Bv7UpxYWcrJr0kR+HaTWg55PAL9vZguB3we+eLIVU0ofTyltTClt3L9/f80yeHLFUX97xy9HwkhjfO6d9kQix4kNwAcOJXwAkCiMdEQq23sKo5dnU0eyfaZYazjWTYyu1jTSSbUTPqvsL9s2Mfasx/wYeamkT1VHuKJQtU71tlaVbjnyVKIy0BlrHx6litHlyLbN9j36s2zZifE5scy5+LFR62T5LJyQ18SJObeRT6r3nDvu0xPbjadTZgDIjbQQO2m9ZMsqec2P0d4KI0OA0fmt/JaL+kgjdXNineZGxS4XcSgDMBxRG2vbLP+jY5qPEma5yJ+wVfU6lXiNlUYlFmlUrI7/e6xts/ocK8ZZmQuRj+xYyI9axyJ/w6PWrW7nWfpZ6xjruClSqZ3q9jE6b9m+j41aFjcBj1u/fJKyjW5/1fvI9k/Vv9XnkrGOpfyof6tjUL38+G0SRn6My1HupMe0f1aO32wkHfD4Z/VZfe7J9p/Fdzxnd08UJ2vrtbj0j5VOkbGvI+Phnztfjq+EjXndr02Hq/p6l6k+Bsdb/eJeT2OdDQsjtzzHS71jfbJr0sRV60HPR4Hvxu834xO+x2RmXzCz9Wa2fubMmTXJ3Enygc+H/1LV0jLwFZo5zAMcjncWvsrxJ/ObgUMcoZe7eJVhKvNZX2IP2xgA/j1+1+157qXMMQbxBtPHUfZxP8PANRg9sWU3/j7Mc0APv89UYBcD/Iw8y0jMwuhlD/dV5bREFz9iEAMG8fm9Fb3cRI5j+J3PbwE7MP4RY3BknRI/xe/Gn04X/ZSjUzXAXibRhQ8EfgDspNI53QN8H3/acgB/ikLEqCXWL+Pv3EzB358YBL5dFWOAr0aXqMxe7qDEUfy9mtHx/mak0YffjR/EnwwM4u9rdON38rfg7zJk+emPZffH+u/F75I/SvZOlu9jO/4OykWR1n78fYqFQC+HmMLjvFiVn37aOcoA9x8X793cGfVZiHh9taqsAP8L2E+ZMyixh7XkWY3RRD/GLZToxi+pxhDbo2wd+BOrTwIFHqYU7cv1UOJmhjnG9Cjvg+zHeJZeYIgBDlDG+DE9DHMxXdzBIPvxtrJnZD9DHGQfd0QH0+3hp8BRWuO9m256yHME4yaMvqhJY4hNwOP495hkcd8aMT0NaOclBjGeoj/SLGHs5RjGXfjTlf6o2378naBbquJm+OuDu8lxlJ6RpxdZDL5NjiP43d4C/oS1NCruh6v2n/kl/o7NPPzU9WG8XS+Mz/bFfvZFHu6OetiEt/teYDP+1DBR5mcYXRSZhGH4jN/qi4Thr0MepUyOPm7iDIbxJ0tf4/g2/23gEHBr/Ps0/g5ON36H/5/w4w/8ycv38DadpbcLuA1/f4nI7y5gE2UO4MfS43j73IW3s29EGlNIHKWP71Tl3Bjgn/Dj4sux/gUR21fwO//foPIeXMLfmdpHP2u4i1cZrDrv7KGLTfQC/w5/R/J4j3OMToYo8hwL+RTwVNTJWfhA8GFgL0XaMYYY5tuUmRNx3Bn/7jhhv41lB2O39X01SHs/lcs9eNv9Kh77Wvg+3m4zu/FjZfwdoId72Um56ly5mW3sq8mA7wBUHZce96/jx+D4K/NDhquuGyX2U+a2mqRdL2bGQeAhdleWYdxJF/uqrsVvvO/ix1lmO/6ucC3s5mTXJJvA7/Sk8cxcSmkxcLtVvr1tM/AJM/tpSulq4L+Y2brX2s/69ett48aN45bP11J5MfAqfKrKL4AHOI8jvEwHB+kDWvEx3FV4J+dOvAFCO82spMib6GQ/w/yEo+ykHzgbfxR5LwW6WMoQV2MYh7mHYbZhlEemAM3FO4gvkdiL0c18OtjFMRKLyfF2ypQwbqJIG+1cQhPL6eVBBniKIc4FngEgx+UkLgAep8xPMI4C78c7bO0k9mOsjbxtx19EfhHoJHEGzVzBJI6QuIfEK+yjgHdw5gHvxjuV38MvOAP4oHFJfDYNv+i+iB8s8/AX0zfjg6GX8GlVq/AXXzcylesY5hX6eZQhLscHfYfwDtUVUa678JN6Hp/6dDb+wvbzsZ85+FSlz+NTfhZFXe2PutqG3wP4I7xj3oYPBK/EO2n344Ozw3iH9hA+bSDrpM1hFr1cTAvLyfMIPTzOEP100MoGWjibfp6ij0cY4kJ8CtJN+EBrHf4lD1uBH1AkT6KfHLs5D7gWuBvjado4xiqMGyhxDO+wbosytwK/B/x/wCArSNwQX2RwGyWeJUcP/yFi8QzQzhz2cxmJxQzxEJN4gaUco4NBnmaIQXyQuCF+tgHfpUiimXNo4wIG2UIPP2eYvRhL8GlDL9HMN2milT7WYFxHiQPRhp6PeF6ND1ruiPY1G59e+A3mUqTEIuBKjtLOAD/F6MWnL94eeb8cf2m/JaKzMtruo3hn9xg55pK4jMT58WUd90VH/nN4B3ojfixfMxJ3/9KO6fiLmdcDXdGOX4j8PYFPWxvA71ivwTuVa/FO5QPRZlZH3RbxQfKLkUdfJ3EROVZj3B15a4v6Pyfa2YNRrh4S97GBbtox7mUSPoXtavwYuAMfDP1Z5PFefCAxGG11F/4C+b+KuPz/+HH4Hnwgc0uU/Q+i/dwa++2O7bK8r8aPqUfwgcVZ+ADm2yTmk+Nq4GyMB+LLDIbwKWwXxs9Nsf1F+IBuVcT9ReAOChjDTKGFF1gBXBFfZPATjvAK/fjL6JvH/CKDxbSymlYeZTp72YZ/icS78IHrXcBl5FnmL1OziTIrooyLou72TugL9K/Kr12zGautj3e5Pe3F+Hn4dCrH6L4avWjdik/3eQ9+br8FeA6zvhqknZhEK2socjGTeIVB7qebvfTXIe4/xuNem7aeUhOJleR4F5CnzK0YL2DWO+5p11NKibk0cTntLKWJX9DDUwxyiMFx/CKDDvya9G78+nILfq6szZd1eL9q9DVpe93PqSmlR81s/ZifjV9lpG/hPdIZ+G2lz+K9nr/Ce8X9+FdWP/pa+6r3oAf0ldUiIvVysuuUvrL6temrkydG2rVM/1SOez3pK6snRl3/c4OecZv8Z2Y3nuSj13yyMxFNhIoUEZEKnZdfWz1jVO/6OVXLfirHvZ7qUe5TuZ39S9T6nR4REREREZGa0qBHREREREQamgY9IiIiIiLS0DToERERERGRhqZBj4iIiIiINDQNekREREREpKFp0CMiIiIiIg1Ngx4REREREWloGvSIiIiIiEhD06BHREREREQamgY9IiIiIiLS0DToERERERGRhqZBj4iIiIiINDQNekREREREpKFp0CMiIiIiIg0tmVm98/CaUkr7ge31zgcwA3i13pmQMaluJibVy8SkepmYVC8Tk+pl4lLdTEz1rJdFZjZzrA9+LQY9E0VKaaOZra93PuREqpuJSfUyMaleJibVy8Skepm4VDcT00StF01vExERERGRhqZBj4iIiIiINDQNev7PfKHeGZCTUt1MTKqXiUn1MjGpXiYm1cvEpbqZmCZkveidHhERERERaWh60iMiIiIiIg1Ng57XKaV0bUrp+ZTS1pTSH9c7P6eSlNKXUkpdKaVnqpZNSyndnVLaEv9OjeUppfTXUU9PpZTOq1/OG1tKaWFK6ScppU0ppWdTSp+K5aqbOkoptaSUHkkpPRn18rlYviSl9HDE/6aUUlMsb46/t8bni+tagAaXUsqnlB5PKd0ef6teJoCU0ssppadTSk+klDbGMp3L6iylNCWl9J2U0nMppc0ppYtUL/WVUloRx0n2czSl9Olfh3rRoOd1SCnlgb8B3gasAm5MKa2qb65OKV8Brh217I+Be8zsdOCe+Bu8jk6Pn48D/7NGeTwVDQN/YGargAuBT8ZxobqprwHgKjM7B1gLXJtSuhD4C+C/m9ly4BDwsVj/Y8ChWP7fYz0ZP58CNlf9rXqZOK40s7VVX7Wrc1n9/RVwp5mtBM7Bjx3VSx2Z2fNxnKwF1gG9wK38GtSLBj2vzwZgq5m9aGaDwD8BN9Q5T6cMM7sPODhq8Q3AV+P3rwLvqlr+NXMPAVNSSnNrktFTjJntMbPH4vdu/GI0H9VNXUV8j8Wfxfgx4CrgO7F8dL1k9fUd4OqUUqpNbk8tKaUFwHXAP8TfCdXLRKZzWR2llCYDlwNfBDCzQTM7jOplIrka2GZm2/k1qBcNel6f+cCOqr93xjKpn9lmtid+3wvMjt9VV3UQU2/OBR5GdVN3MYXqCaALuBvYBhw2s+FYpTr2I/USnx8Bptc0w6eO/wH8EVCOv6ejepkoDLgrpfRoSunjsUznsvpaAuwHvhxTQv8hpdSO6mUi+QDwrfh9wteLBj3ya8/8Kwj1NYR1klLqAG4BPm1mR6s/U93Uh5mVYurBAvxJ9cr65khSSu8Auszs0XrnRcZ0qZmdh0/F+WRK6fLqD3Uuq4sCcB7wP83sXKCHypQpQPVST/H+4fXAzaM/m6j1okHP67MLWFj194JYJvWzL3s8Gv92xXLVVQ2llIr4gOebZvbdWKy6mSBiKshPgIvwKQWF+Kg69iP1Ep9PBg7UNqenhEuA61NKL+NTpK/C31dQvUwAZrYr/u3C30/YgM5l9bYT2GlmD8ff38EHQaqXieFtwGNmti/+nvD1okHP6/NL4PT4lp0m/HHebXXO06nuNuCj8ftHgf9Vtfwj8W0hFwJHqh63yhso3i/4IrDZzP6y6iPVTR2llGamlKbE763AW/D3rX4CvDdWG10vWX29F7jX9B+4veHM7DNmtsDMFuPXkHvN7IOoXuoupdSeUpqU/Q68FXgGncvqysz2AjtSSiti0dXAJlQvE8WNVKa2wa9Bveg/J32dUkpvx+dj54Evmdmf1zdHp46U0reAK4AZwD7gs8D3gG8DpwHbgd8ws4PREf88/m1vvcBvmdnGOmS74aWULgXuB56m8o7Cn+Dv9ahu6iSldDb+Emkev7H1bTP7s5TSUvwJwzTgceBDZjaQUmoBvo6/k3UQ+ICZvVif3J8aUkpXAH9oZu9QvdRf1MGt8WcB+Ecz+/OU0nR0LqurlNJa/Is/moAXgd8izmuoXuombg68Aiw1syOxbMIfLxr0iIiIiIhIQ9P0NhERERERaWga9IiIiIiISEPToEdERERERBqaBj0iIiIiItLQNOgREREREZGGVnjtVURERH51KaUS/hXnBeAl4MPxH6iKiIiMKz3pERGRWukzs7Vmtgb/v2c+We8MiYjIqUGDHhERqYcHgfkAKaVlKaU7U0qPppTuTymtjOWzU0q3ppSejJ+LY/mHUkqPpJSeSCn9fUopH8uPpZT+PNZ9KKU0+2T7SSn9WUrp01lmYrtP1ToIIiJSGxr0iIhITcUg5Wrgtlj0BeDfmtk64A+Bv43lfw38zMzOAc4Dnk0pnQm8H7jEzNYCJeCDsX478FCsfx/wf59sP8CXgI9EfnLAB4BvjEuBRUSk7vROj4iI1EprSukJ/AnPZuDulFIHcDFwc0opW685/r2KGJiYWQk4klL6MLAO+GWs3wp0xfqDwO3x+6PAW062n9jXgZTSucBs4HEzO/BGF1hERCYGDXpERKRW+sxsbUqpDfgR/k7PV4DD8dTm9UjAV83sM2N8NmRmFr+XeO1r3D8AvwnMwZ/8iIhIg9L0NhERqSkz6wV+D/gDoBd4KaX0PoDkzolV7wE+EcvzKaXJsey9KaVZsXxaSmnRayQ51n4AbgWuBc7HB2EiItKgNOgREZGaM7PHgaeAG/F3cj6WUnoSf9/mhljtU8CVKaWn8elqq8xsE/CnwF0ppaeAu4G5r5HcCfuJPAwCPwG+HdPeRESkQaXKTAAREZFTR3yBwWPA+8xsS73zIyIi40dPekRE5JSTUloFbAXu0YBHRKTx6UmPiIiIiIg0ND3pERERERGRhqZBj4iIiIiINDQNekREREREpKFp0CMiIiIiIg1Ngx4REREREWloGvSIiIiIiEhD+99ybyCpBt0zswAAAABJRU5ErkJggg==\n",
       "datasetInfos": [],
       "metadata": {},
       "removedWidgets": [],
       "type": "image"
      }
     },
     "output_type": "display_data"
    }
   ],
   "source": [
    "# Define the colors for the clusters\n",
    "Colors = [\"red\", \"green\", \"blue\"]\n",
    "\n",
    "# Map cluster labels to colors\n",
    "ml_df['Color'] = ml_df['Cluster'].map(lambda p: Colors[p])\n",
    "\n",
    "plt.figure(figsize=(14, 8))\n",
    "plt.scatter(\n",
    "    ml_df['Recency'],\n",
    "    ml_df['Frequency'],\n",
    "    c=ml_df['Color'],  # Use the mapped colors\n",
    "    alpha=0.7,  # Set transparency\n",
    "    edgecolor='k'  # Add edge color for better separation\n",
    ")\n",
    "plt.title('Scatter Plot of Frequency vs. Recency')\n",
    "plt.xlabel('Recency')\n",
    "plt.ylabel('Frequency')\n",
    "plt.show()\n"
   ]
  },
  {
   "cell_type": "code",
   "execution_count": 0,
   "metadata": {
    "application/vnd.databricks.v1+cell": {
     "cellMetadata": {
      "byteLimit": 2048000,
      "rowLimit": 10000
     },
     "inputWidgets": {},
     "nuid": "f383eeeb-47af-4eea-b50c-e81fe89f5c3b",
     "showTitle": false,
     "title": ""
    }
   },
   "outputs": [
    {
     "output_type": "display_data",
     "data": {
      "text/html": [
       "<div>\n",
       "<style scoped>\n",
       "    .dataframe tbody tr th:only-of-type {\n",
       "        vertical-align: middle;\n",
       "    }\n",
       "\n",
       "    .dataframe tbody tr th {\n",
       "        vertical-align: top;\n",
       "    }\n",
       "\n",
       "    .dataframe thead th {\n",
       "        text-align: right;\n",
       "    }\n",
       "</style>\n",
       "<table border=\"1\" class=\"dataframe\">\n",
       "  <thead>\n",
       "    <tr style=\"text-align: right;\">\n",
       "      <th></th>\n",
       "      <th>CustomerID</th>\n",
       "      <th>Recency</th>\n",
       "      <th>Frequency</th>\n",
       "      <th>Monetary</th>\n",
       "      <th>R</th>\n",
       "      <th>F</th>\n",
       "      <th>M</th>\n",
       "      <th>RFMGroup</th>\n",
       "      <th>RFMScore</th>\n",
       "      <th>RFM_Loyalty_Level</th>\n",
       "      <th>Cluster</th>\n",
       "      <th>Color</th>\n",
       "    </tr>\n",
       "  </thead>\n",
       "  <tbody>\n",
       "    <tr>\n",
       "      <th>0</th>\n",
       "      <td>12353.990284</td>\n",
       "      <td>325</td>\n",
       "      <td>18</td>\n",
       "      <td>1.286841e+06</td>\n",
       "      <td>1</td>\n",
       "      <td>1</td>\n",
       "      <td>5</td>\n",
       "      <td>115</td>\n",
       "      <td>7</td>\n",
       "      <td>Silver</td>\n",
       "      <td>2</td>\n",
       "      <td>blue</td>\n",
       "    </tr>\n",
       "    <tr>\n",
       "      <th>1</th>\n",
       "      <td>12690.872298</td>\n",
       "      <td>31</td>\n",
       "      <td>19</td>\n",
       "      <td>4.491482e+02</td>\n",
       "      <td>5</td>\n",
       "      <td>4</td>\n",
       "      <td>4</td>\n",
       "      <td>544</td>\n",
       "      <td>13</td>\n",
       "      <td>Diamond</td>\n",
       "      <td>1</td>\n",
       "      <td>green</td>\n",
       "    </tr>\n",
       "    <tr>\n",
       "      <th>2</th>\n",
       "      <td>12694.656520</td>\n",
       "      <td>28</td>\n",
       "      <td>18</td>\n",
       "      <td>2.363174e+02</td>\n",
       "      <td>5</td>\n",
       "      <td>1</td>\n",
       "      <td>3</td>\n",
       "      <td>513</td>\n",
       "      <td>9</td>\n",
       "      <td>Gold</td>\n",
       "      <td>2</td>\n",
       "      <td>blue</td>\n",
       "    </tr>\n",
       "    <tr>\n",
       "      <th>3</th>\n",
       "      <td>12695.834433</td>\n",
       "      <td>30</td>\n",
       "      <td>19</td>\n",
       "      <td>6.262581e+02</td>\n",
       "      <td>5</td>\n",
       "      <td>4</td>\n",
       "      <td>5</td>\n",
       "      <td>545</td>\n",
       "      <td>14</td>\n",
       "      <td>Diamond</td>\n",
       "      <td>1</td>\n",
       "      <td>green</td>\n",
       "    </tr>\n",
       "    <tr>\n",
       "      <th>4</th>\n",
       "      <td>12696.097291</td>\n",
       "      <td>14</td>\n",
       "      <td>20</td>\n",
       "      <td>4.554975e+02</td>\n",
       "      <td>5</td>\n",
       "      <td>5</td>\n",
       "      <td>4</td>\n",
       "      <td>554</td>\n",
       "      <td>14</td>\n",
       "      <td>Diamond</td>\n",
       "      <td>1</td>\n",
       "      <td>green</td>\n",
       "    </tr>\n",
       "  </tbody>\n",
       "</table>\n",
       "</div>"
      ]
     },
     "metadata": {
      "application/vnd.databricks.v1+output": {
       "addedWidgets": {},
       "arguments": {},
       "data": "<div>\n<style scoped>\n    .dataframe tbody tr th:only-of-type {\n        vertical-align: middle;\n    }\n\n    .dataframe tbody tr th {\n        vertical-align: top;\n    }\n\n    .dataframe thead th {\n        text-align: right;\n    }\n</style>\n<table border=\"1\" class=\"dataframe\">\n  <thead>\n    <tr style=\"text-align: right;\">\n      <th></th>\n      <th>CustomerID</th>\n      <th>Recency</th>\n      <th>Frequency</th>\n      <th>Monetary</th>\n      <th>R</th>\n      <th>F</th>\n      <th>M</th>\n      <th>RFMGroup</th>\n      <th>RFMScore</th>\n      <th>RFM_Loyalty_Level</th>\n      <th>Cluster</th>\n      <th>Color</th>\n    </tr>\n  </thead>\n  <tbody>\n    <tr>\n      <th>0</th>\n      <td>12353.990284</td>\n      <td>325</td>\n      <td>18</td>\n      <td>1.286841e+06</td>\n      <td>1</td>\n      <td>1</td>\n      <td>5</td>\n      <td>115</td>\n      <td>7</td>\n      <td>Silver</td>\n      <td>2</td>\n      <td>blue</td>\n    </tr>\n    <tr>\n      <th>1</th>\n      <td>12690.872298</td>\n      <td>31</td>\n      <td>19</td>\n      <td>4.491482e+02</td>\n      <td>5</td>\n      <td>4</td>\n      <td>4</td>\n      <td>544</td>\n      <td>13</td>\n      <td>Diamond</td>\n      <td>1</td>\n      <td>green</td>\n    </tr>\n    <tr>\n      <th>2</th>\n      <td>12694.656520</td>\n      <td>28</td>\n      <td>18</td>\n      <td>2.363174e+02</td>\n      <td>5</td>\n      <td>1</td>\n      <td>3</td>\n      <td>513</td>\n      <td>9</td>\n      <td>Gold</td>\n      <td>2</td>\n      <td>blue</td>\n    </tr>\n    <tr>\n      <th>3</th>\n      <td>12695.834433</td>\n      <td>30</td>\n      <td>19</td>\n      <td>6.262581e+02</td>\n      <td>5</td>\n      <td>4</td>\n      <td>5</td>\n      <td>545</td>\n      <td>14</td>\n      <td>Diamond</td>\n      <td>1</td>\n      <td>green</td>\n    </tr>\n    <tr>\n      <th>4</th>\n      <td>12696.097291</td>\n      <td>14</td>\n      <td>20</td>\n      <td>4.554975e+02</td>\n      <td>5</td>\n      <td>5</td>\n      <td>4</td>\n      <td>554</td>\n      <td>14</td>\n      <td>Diamond</td>\n      <td>1</td>\n      <td>green</td>\n    </tr>\n  </tbody>\n</table>\n</div>",
       "datasetInfos": [],
       "metadata": {},
       "removedWidgets": [],
       "textData": null,
       "type": "htmlSandbox"
      }
     },
     "output_type": "display_data"
    }
   ],
   "source": [
    "ml_df.head()"
   ]
  },
  {
   "cell_type": "code",
   "execution_count": 0,
   "metadata": {
    "application/vnd.databricks.v1+cell": {
     "cellMetadata": {
      "byteLimit": 2048000,
      "rowLimit": 10000
     },
     "inputWidgets": {},
     "nuid": "6a9ff92d-ac69-42af-814f-2ddfebfa8587",
     "showTitle": false,
     "title": ""
    }
   },
   "outputs": [],
   "source": [
    "ml_df_spark = spark.createDataFrame(ml_df)\n",
    "ml_df_spark = ml_df_spark.repartition(1)"
   ]
  },
  {
   "cell_type": "code",
   "execution_count": 0,
   "metadata": {
    "application/vnd.databricks.v1+cell": {
     "cellMetadata": {
      "byteLimit": 2048000,
      "rowLimit": 10000
     },
     "inputWidgets": {},
     "nuid": "650c333c-ff0b-4747-bd22-975069cb3eeb",
     "showTitle": false,
     "title": ""
    }
   },
   "outputs": [],
   "source": [
    "# Save DataFrame to DBFS\n",
    "# output_path_dbfs = '/dbfs/tmp/Output_KMeans'\n",
    "# ml_df_spark.write.mode('overwrite').csv(output_path_dbfs)\n"
   ]
  },
  {
   "cell_type": "code",
   "execution_count": 0,
   "metadata": {
    "application/vnd.databricks.v1+cell": {
     "cellMetadata": {
      "byteLimit": 2048000,
      "rowLimit": 10000
     },
     "inputWidgets": {},
     "nuid": "f8d237d9-31bf-433a-8f02-bf013c543204",
     "showTitle": false,
     "title": ""
    }
   },
   "outputs": [],
   "source": [
    "# Exporting the file into s3 bucket as a csv format\n",
    "ml_df_spark.write.mode('overwrite').option(\"header\", \"true\").csv('s3://dbda-project/Output_KMeans')"
   ]
  },
  {
   "cell_type": "markdown",
   "metadata": {
    "application/vnd.databricks.v1+cell": {
     "cellMetadata": {},
     "inputWidgets": {},
     "nuid": "659f44f2-b4d3-4fad-950c-a7b69304e7dc",
     "showTitle": false,
     "title": ""
    }
   },
   "source": [
    "# SQL Questions"
   ]
  },
  {
   "cell_type": "code",
   "execution_count": 0,
   "metadata": {
    "application/vnd.databricks.v1+cell": {
     "cellMetadata": {
      "byteLimit": 2048000,
      "rowLimit": 10000
     },
     "inputWidgets": {},
     "nuid": "3236b872-7546-4c7e-9222-1e580588afc7",
     "showTitle": false,
     "title": ""
    }
   },
   "outputs": [
    {
     "output_type": "stream",
     "name": "stdout",
     "output_type": "stream",
     "text": [
      "319323 12\n+------------------+-------+---------+------------------+---+---+---+--------+--------+-----------------+-------+-----+\n|        CustomerID|Recency|Frequency|          Monetary|  R|  F|  M|RFMGroup|RFMScore|RFM_Loyalty_Level|Cluster|Color|\n+------------------+-------+---------+------------------+---+---+---+--------+--------+-----------------+-------+-----+\n|12353.990283560168|    325|       18|1286841.4921950535|  1|  1|  5|     115|       7|           Silver|      2| blue|\n|12690.872297845577|     31|       19|449.14822529336146|  5|  4|  4|     544|      13|          Diamond|      1|green|\n| 12694.65652031647|     28|       18|236.31736689975986|  5|  1|  3|     513|       9|             Gold|      2| blue|\n|12695.834432793663|     30|       19| 626.2581477532665|  5|  4|  5|     545|      14|          Diamond|      1|green|\n|12696.097290687929|     14|       20| 455.4974637280201|  5|  5|  4|     554|      14|          Diamond|      1|green|\n+------------------+-------+---------+------------------+---+---+---+--------+--------+-----------------+-------+-----+\nonly showing top 5 rows\n\n"
     ]
    }
   ],
   "source": [
    "sdf = spark.read.csv('s3://dbda-project/Output_KMeans', inferSchema=True, header=True)\n",
    "print(sdf.count(), len(sdf.columns))\n",
    "sdf.show(5)"
   ]
  },
  {
   "cell_type": "code",
   "execution_count": 0,
   "metadata": {
    "application/vnd.databricks.v1+cell": {
     "cellMetadata": {
      "byteLimit": 2048000,
      "rowLimit": 10000
     },
     "inputWidgets": {},
     "nuid": "9027b98a-372d-43c2-b528-142a6593e5fe",
     "showTitle": false,
     "title": ""
    }
   },
   "outputs": [
    {
     "output_type": "stream",
     "name": "stdout",
     "output_type": "stream",
     "text": [
      "root\n |-- CustomerID: double (nullable = true)\n |-- Recency: integer (nullable = true)\n |-- Frequency: integer (nullable = true)\n |-- Monetary: double (nullable = true)\n |-- R: integer (nullable = true)\n |-- F: integer (nullable = true)\n |-- M: integer (nullable = true)\n |-- RFMGroup: integer (nullable = true)\n |-- RFMScore: integer (nullable = true)\n |-- RFM_Loyalty_Level: string (nullable = true)\n |-- Cluster: integer (nullable = true)\n |-- Color: string (nullable = true)\n\n"
     ]
    }
   ],
   "source": [
    "sdf.printSchema()"
   ]
  },
  {
   "cell_type": "code",
   "execution_count": 0,
   "metadata": {
    "application/vnd.databricks.v1+cell": {
     "cellMetadata": {
      "byteLimit": 2048000,
      "rowLimit": 10000
     },
     "inputWidgets": {},
     "nuid": "2f9b2a8f-b9bc-4729-97e2-8bab5daf0562",
     "showTitle": false,
     "title": ""
    }
   },
   "outputs": [],
   "source": [
    "sdf.createOrReplaceTempView(\"customers\")"
   ]
  },
  {
   "cell_type": "code",
   "execution_count": 0,
   "metadata": {
    "application/vnd.databricks.v1+cell": {
     "cellMetadata": {
      "byteLimit": 2048000,
      "rowLimit": 10000
     },
     "inputWidgets": {},
     "nuid": "53116053-ff57-46f5-9150-4e306fba3959",
     "showTitle": false,
     "title": ""
    }
   },
   "outputs": [
    {
     "output_type": "stream",
     "name": "stdout",
     "output_type": "stream",
     "text": [
      "+------------------+-------+---------+------------------+---+---+---+--------+--------+-----------------+-------+-----+\n|        CustomerID|Recency|Frequency|          Monetary|  R|  F|  M|RFMGroup|RFMScore|RFM_Loyalty_Level|Cluster|Color|\n+------------------+-------+---------+------------------+---+---+---+--------+--------+-----------------+-------+-----+\n|12353.990283560168|    325|       18|1286841.4921950535|  1|  1|  5|     115|       7|           Silver|      2| blue|\n|12690.872297845577|     31|       19|449.14822529336146|  5|  4|  4|     544|      13|          Diamond|      1|green|\n| 12694.65652031647|     28|       18|236.31736689975986|  5|  1|  3|     513|       9|             Gold|      2| blue|\n|12695.834432793663|     30|       19| 626.2581477532665|  5|  4|  5|     545|      14|          Diamond|      1|green|\n|12696.097290687929|     14|       20| 455.4974637280201|  5|  5|  4|     554|      14|          Diamond|      1|green|\n+------------------+-------+---------+------------------+---+---+---+--------+--------+-----------------+-------+-----+\nonly showing top 5 rows\n\n"
     ]
    }
   ],
   "source": [
    "# MySQL Queries\n",
    "spark.sql('select * from customers').show(5)"
   ]
  },
  {
   "cell_type": "code",
   "execution_count": 0,
   "metadata": {
    "application/vnd.databricks.v1+cell": {
     "cellMetadata": {
      "byteLimit": 2048000,
      "rowLimit": 10000
     },
     "inputWidgets": {},
     "nuid": "56c76b50-39bd-4645-a204-1fe311b041c4",
     "showTitle": false,
     "title": ""
    }
   },
   "outputs": [
    {
     "output_type": "stream",
     "name": "stdout",
     "output_type": "stream",
     "text": [
      "+---------------+\n|Total_Customers|\n+---------------+\n|         319323|\n+---------------+\n\n"
     ]
    }
   ],
   "source": [
    "# How many Distinct customers do we have in our database\n",
    "spark.sql('select count(distinct CustomerID) as Total_Customers from customers').show()"
   ]
  },
  {
   "cell_type": "code",
   "execution_count": 0,
   "metadata": {
    "application/vnd.databricks.v1+cell": {
     "cellMetadata": {
      "byteLimit": 2048000,
      "rowLimit": 10000
     },
     "inputWidgets": {},
     "nuid": "58dfc564-bf5d-47a5-802f-42ca67398ab4",
     "showTitle": false,
     "title": ""
    }
   },
   "outputs": [
    {
     "output_type": "stream",
     "name": "stdout",
     "output_type": "stream",
     "text": [
      "+------------------+------------------+\n|        CustomerID|    Monetary_value|\n+------------------+------------------+\n|12720.050183882875|39.391146384134224|\n|12727.555337878624|49.590065898136935|\n|12736.832286341494| 72.02716208933823|\n| 12736.89180760576| 668.2772288289387|\n|12740.509439604748|1234.3817223188692|\n|12742.710855500549| 95.00226001535096|\n|12743.673162047107|459.35885070054434|\n| 12744.95992187632| 61.98071496795429|\n|12747.128410088217|299.52745085234784|\n|12747.226606560414|110.00298214509206|\n|12747.861277846703|  493.444549841567|\n| 12749.43036777979|211.94949914749589|\n|12757.280908385213|               1.0|\n|12757.849525519103| 354.2914443426025|\n|12762.289409493398| 350.0694748008471|\n| 12763.63765588263| 117.0815555224286|\n|12766.290382177664|24.142457183795884|\n|12768.979144408799|               1.0|\n| 12783.04395965782| 166.0986586838289|\n|12783.119439074488| 1060.317972693239|\n+------------------+------------------+\nonly showing top 20 rows\n\n"
     ]
    }
   ],
   "source": [
    "# What is the Monetary value generated by each customer?\n",
    "spark.sql('select CustomerID, sum(Monetary) as Monetary_value from customers group by CustomerID').show()"
   ]
  },
  {
   "cell_type": "code",
   "execution_count": 0,
   "metadata": {
    "application/vnd.databricks.v1+cell": {
     "cellMetadata": {
      "byteLimit": 2048000,
      "rowLimit": 10000
     },
     "inputWidgets": {},
     "nuid": "9aee3e1b-1c9b-45f8-96cf-7b559c08359a",
     "showTitle": false,
     "title": ""
    }
   },
   "outputs": [
    {
     "output_type": "stream",
     "name": "stdout",
     "output_type": "stream",
     "text": [
      "+------------------+------------------+\n|        CustomerID|     total_revenue|\n+------------------+------------------+\n| 16423.04487607688| 3350007.984261182|\n|15098.913350278897|2652241.3344560307|\n|12353.990283560168|1286841.4921950535|\n|15122.087628252824| 682637.1503059261|\n|17451.252965284802|158695.56365712004|\n|15749.984748964907|138122.42962879635|\n|15730.242786296512|136030.04679310234|\n|16012.262678321318| 135517.8514037182|\n| 18088.10337533734|128195.36863987721|\n|12900.556090272286|125510.01776781876|\n|15747.360698237002| 99798.56559175835|\n| 17437.81280488305| 97293.30642798121|\n|15517.267993721562| 94938.52843965527|\n|17892.090192958647|  90112.9231840524|\n|15757.256103609338| 89412.04927388657|\n|16054.523706737462| 89241.59378625051|\n| 13291.00710337228| 87034.11558502281|\n| 17930.48177385821| 83938.74567556355|\n|15197.399533807542| 82033.82667233667|\n|17947.975774700422| 80453.49014702227|\n+------------------+------------------+\nonly showing top 20 rows\n\n"
     ]
    }
   ],
   "source": [
    "# Who are the top 10% of customers in terms of monetary value?\n",
    "\n",
    "spark.sql('with customer_revenue as (select CustomerID, sum(Monetary) as total_revenue from customers group by CustomerID ) \\\n",
    "    select CustomerID, total_revenue \\\n",
    "        from (select CustomerID, total_revenue, ntile(10) over(order by total_revenue desc) as percentile from customer_revenue ) as customer_percentiles \\\n",
    "        where percentile = 1').show()\n"
   ]
  },
  {
   "cell_type": "code",
   "execution_count": 0,
   "metadata": {
    "application/vnd.databricks.v1+cell": {
     "cellMetadata": {
      "byteLimit": 2048000,
      "rowLimit": 10000
     },
     "inputWidgets": {},
     "nuid": "1bf493ae-f042-4061-b4de-474038e6f134",
     "showTitle": false,
     "title": ""
    }
   },
   "outputs": [
    {
     "output_type": "stream",
     "name": "stdout",
     "output_type": "stream",
     "text": [
      "+------------------+---------+\n|        CustomerID|RFM_Score|\n+------------------+---------+\n|13078.048635658637|        3|\n|13258.562647178787|        3|\n|13415.737109620355|        3|\n| 13282.03548503831|        3|\n|13760.800718653954|        3|\n|13761.923180924798|        3|\n| 13544.73896776143|        3|\n| 12791.56836488793|        3|\n|13129.586213381368|        3|\n|13261.714775494882|        3|\n|13265.134438575093|        3|\n|13290.313243268796|        3|\n|12987.087539199463|        3|\n|13268.924082861444|        3|\n|13432.094798137432|        3|\n| 13708.32943347819|        3|\n|12854.609495744697|        3|\n| 12863.64230411757|        3|\n|12871.258082090382|        3|\n| 13038.05448508706|        3|\n+------------------+---------+\nonly showing top 20 rows\n\n"
     ]
    }
   ],
   "source": [
    "# Who are the Top 10% of customers in terms of RFM Score ?\n",
    "\n",
    "spark.sql('with customer_revenue as (select CustomerID, sum(RFMScore) as RFM_Score from customers group by CustomerID ) \\\n",
    "    select CustomerID, RFM_Score from ( select CustomerID, RFM_Score, NTILE(10) over(order by RFM_Score asc) as percentile from customer_revenue ) as customer_percentiles where percentile = 1').show()\n"
   ]
  },
  {
   "cell_type": "code",
   "execution_count": 0,
   "metadata": {
    "application/vnd.databricks.v1+cell": {
     "cellMetadata": {
      "byteLimit": 2048000,
      "rowLimit": 10000
     },
     "inputWidgets": {},
     "nuid": "ff9a945d-f98d-4e96-9944-35d9adf65a79",
     "showTitle": false,
     "title": ""
    }
   },
   "outputs": [
    {
     "output_type": "stream",
     "name": "stdout",
     "output_type": "stream",
     "text": [
      "+------------------+---------+\n|        CustomerID|RFM_Score|\n+------------------+---------+\n|13084.256980356673|       15|\n|13154.046809876296|       15|\n| 13611.15302438554|       15|\n|13667.801124015792|       15|\n|13684.271819846543|       15|\n|12858.293951146607|       15|\n|13379.235388769728|       15|\n|13136.332213083642|       15|\n| 13143.78399211161|       15|\n| 13115.95677008153|       15|\n|13925.552518657427|       15|\n|12913.168346758443|       15|\n|13340.050005823881|       15|\n|13000.009756613646|       15|\n|13409.866751257832|       15|\n|13107.120959814592|       15|\n|13555.233260786174|       15|\n| 13874.41809688955|       15|\n|12726.685090497303|       15|\n| 13054.05852539398|       15|\n+------------------+---------+\nonly showing top 20 rows\n\n"
     ]
    }
   ],
   "source": [
    "# Who are the Least 10% of customers in terms of RFM Score ?\n",
    "\n",
    "spark.sql('with customer_revenue AS (select CustomerID, SUM(RFMScore) as RFM_Score from customers group by CustomerID ) \\\n",
    "    select CustomerID, RFM_Score from ( select CustomerID, RFM_Score, NTILE(10) over(order by RFM_Score desc) as percentile from customer_revenue ) as customer_percentiles where percentile = 1').show()\n"
   ]
  },
  {
   "cell_type": "code",
   "execution_count": 0,
   "metadata": {
    "application/vnd.databricks.v1+cell": {
     "cellMetadata": {
      "byteLimit": 2048000,
      "rowLimit": 10000
     },
     "inputWidgets": {},
     "nuid": "0948fac9-e8cf-4c7d-bdcb-321754173a23",
     "showTitle": false,
     "title": ""
    }
   },
   "outputs": [
    {
     "output_type": "stream",
     "name": "stdout",
     "output_type": "stream",
     "text": [
      "+------------------+-------+---------+------------------+---+---+---+--------+--------+-----------------+-------+-----+\n|        CustomerID|Recency|Frequency|          Monetary|  R|  F|  M|RFMGroup|RFMScore|RFM_Loyalty_Level|Cluster|Color|\n+------------------+-------+---------+------------------+---+---+---+--------+--------+-----------------+-------+-----+\n|18045.078841291423|     39|       20|  903.279055813953|  5|  5|  5|     555|      15|          Diamond|      1|green|\n|12712.370517633628|     22|       20|1224.3341040866424|  5|  5|  5|     555|      15|          Diamond|      1|green|\n|17023.517182630403|     46|       20| 1324.776472075524|  5|  5|  5|     555|      15|          Diamond|      1|green|\n|12714.438706700052|     23|       20|1317.3027141360935|  5|  5|  5|     555|      15|          Diamond|      1|green|\n|13928.217164571079|     22|       20| 531.4072295357125|  5|  5|  5|     555|      15|          Diamond|      1|green|\n|12724.405757258199|      4|       20|1011.9822630485857|  5|  5|  5|     555|      15|          Diamond|      1|green|\n|17036.439233052242|     21|       20| 896.6099694880273|  5|  5|  5|     555|      15|          Diamond|      1|green|\n| 12726.14956583535|     22|       20| 648.0751722960943|  5|  5|  5|     555|      15|          Diamond|      1|green|\n| 14817.48592080531|     15|       20| 1125.769024151858|  5|  5|  5|     555|      15|          Diamond|      1|green|\n|12726.685090497303|     16|       20|  573.183955090731|  5|  5|  5|     555|      15|          Diamond|      1|green|\n+------------------+-------+---------+------------------+---+---+---+--------+--------+-----------------+-------+-----+\n\n"
     ]
    }
   ],
   "source": [
    "# Identify the top 10 customers with an RFM score of 555:\n",
    "spark.sql('select * from customers where R=5 and F=5 and M=5 order by RFMScore limit 10').show()"
   ]
  },
  {
   "cell_type": "code",
   "execution_count": 0,
   "metadata": {
    "application/vnd.databricks.v1+cell": {
     "cellMetadata": {
      "byteLimit": 2048000,
      "rowLimit": 10000
     },
     "inputWidgets": {},
     "nuid": "3ffb39d8-1808-4422-a708-736968c3f62d",
     "showTitle": false,
     "title": ""
    }
   },
   "outputs": [
    {
     "output_type": "stream",
     "name": "stdout",
     "output_type": "stream",
     "text": [
      "+-----------+--------------+\n|rfm_segment|customer_count|\n+-----------+--------------+\n|        555|           991|\n|        554|           939|\n|        553|           936|\n|        552|           996|\n|        551|          1014|\n|        545|          3548|\n|        544|          3537|\n|        543|          3729|\n|        542|          4013|\n|        541|          3980|\n|        515|          7204|\n|        514|          7566|\n|        513|          8253|\n|        512|          9082|\n|        511|          9077|\n|        455|          1073|\n|        454|          1059|\n|        453|           897|\n|        452|           846|\n|        451|           850|\n+-----------+--------------+\nonly showing top 20 rows\n\n"
     ]
    }
   ],
   "source": [
    "# Count the number of customers in each RFM Segment :\n",
    "spark.sql('select concat(R, F, M) as rfm_segment, count(*) as customer_count from customers group by rfm_segment order by rfm_segment desc').show()"
   ]
  }
 ],
 "metadata": {
  "application/vnd.databricks.v1+notebook": {
   "dashboards": [],
   "environmentMetadata": null,
   "language": "python",
   "notebookMetadata": {
    "pythonIndentUnit": 4
   },
   "notebookName": "Customer_Segmentation_Using_RFM_Analysis",
   "widgets": {}
  }
 },
 "nbformat": 4,
 "nbformat_minor": 0
}
